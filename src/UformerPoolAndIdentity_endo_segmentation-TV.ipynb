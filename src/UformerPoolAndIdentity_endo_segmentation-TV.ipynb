{
 "cells": [
  {
   "attachments": {},
   "cell_type": "markdown",
   "metadata": {},
   "source": [
    "# Deep Learning: Endoscopy segmentation.\n",
    "[Dataset](https://www.kaggle.com/datasets/newslab/cholecseg8k?resource=download)"
   ]
  },
  {
   "cell_type": "code",
   "execution_count": 1,
   "metadata": {},
   "outputs": [],
   "source": [
    "import os\n",
    "\n",
    "os.environ[\"CUBLAS_WORKSPACE_CONFIG\"]=\":4096:8\""
   ]
  },
  {
   "cell_type": "code",
   "execution_count": 2,
   "metadata": {},
   "outputs": [],
   "source": [
    "import torch\n",
    "from glob import glob\n",
    "import numpy as np\n",
    "import time\n",
    "import matplotlib.pyplot as plt\n",
    "from torch.utils.data import Dataset\n",
    "import cv2\n",
    "import random\n",
    "from Uformer import modelPoolAndIdentity\n",
    "from losses import losses\n",
    "from sklearn.model_selection import train_test_split\n",
    "from tqdm import tqdm"
   ]
  },
  {
   "cell_type": "code",
   "execution_count": 3,
   "metadata": {},
   "outputs": [
    {
     "data": {
      "text/plain": [
       "(True, 'NVIDIA GeForce RTX 2060 SUPER')"
      ]
     },
     "execution_count": 3,
     "metadata": {},
     "output_type": "execute_result"
    }
   ],
   "source": [
    "torch.cuda.is_available(), torch.cuda.get_device_name(0)"
   ]
  },
  {
   "cell_type": "code",
   "execution_count": 4,
   "metadata": {},
   "outputs": [],
   "source": [
    "SEED = 33\n",
    "random.seed(SEED)\n",
    "np.random.seed(SEED)\n",
    "torch.manual_seed(SEED)\n",
    "torch.cuda.manual_seed_all(SEED)\n",
    "torch.use_deterministic_algorithms(True)"
   ]
  },
  {
   "cell_type": "code",
   "execution_count": 5,
   "metadata": {},
   "outputs": [],
   "source": [
    "# determine the device to be used for training and evaluation\n",
    "DEVICE = \"cuda\" if torch.cuda.is_available() else \"cpu\"\n",
    "# determine if we will be pinning memory during data loading\n",
    "PIN_MEMORY = True if DEVICE == \"cuda\" else False\n",
    "\n",
    "NUM_CLASSES = 13\n",
    "# initialize learning rate, number of epochs to train for, and the\n",
    "# batch size\n",
    "INIT_LR = 1e-4\n",
    "NUM_EPOCHS = 100\n",
    "BATCH_SIZE = 32\n",
    "# define the input image dimensions\n",
    "INPUT_IMAGE_WIDTH = 64\n",
    "INPUT_IMAGE_HEIGHT = 64"
   ]
  },
  {
   "attachments": {},
   "cell_type": "markdown",
   "metadata": {},
   "source": [
    "## Data preparation."
   ]
  },
  {
   "cell_type": "code",
   "execution_count": 6,
   "metadata": {},
   "outputs": [
    {
     "name": "stdout",
     "output_type": "stream",
     "text": [
      "Number of samples: 8080\n"
     ]
    }
   ],
   "source": [
    "IMAGE_DATASET_PATH = glob(f'../../Cholec8k/*/*/*/frame_*_endo.png')\n",
    "MASK_DATASET_PATH  = glob(f'../../Cholec8k/*/*/*/frame_*_endo_watershed_mask.png')\n",
    "N = len(IMAGE_DATASET_PATH)\n",
    "assert len(IMAGE_DATASET_PATH) == len(MASK_DATASET_PATH)\n",
    "\n",
    "print(f'Number of samples: {str(len(MASK_DATASET_PATH))}')"
   ]
  },
  {
   "cell_type": "code",
   "execution_count": 7,
   "metadata": {},
   "outputs": [],
   "source": [
    "# https://gist.github.com/IdeaKing/11cf5e146d23c5bb219ba3508cca89ec\n",
    "def resize_with_pad(image: np.array, \n",
    "                    new_shape, \n",
    "                    padding_color = (0, 0, 0)) -> np.array:\n",
    "    \"\"\"Maintains aspect ratio and resizes with padding.\n",
    "    Params:\n",
    "        image: Image to be resized.\n",
    "        new_shape: Expected (width, height) of new image.\n",
    "        padding_color: Tuple in BGR of padding color\n",
    "    Returns:\n",
    "        image: Resized image with padding\n",
    "    \"\"\"\n",
    "    original_shape = (image.shape[1], image.shape[0])\n",
    "    ratio = float(max(new_shape))/max(original_shape)\n",
    "    new_size = tuple([int(x*ratio) for x in original_shape])\n",
    "    image = cv2.resize(image, new_size, interpolation=cv2.INTER_NEAREST)\n",
    "    delta_w = new_shape[0] - new_size[0]\n",
    "    delta_h = new_shape[1] - new_size[1]\n",
    "    top, bottom = delta_h//2, delta_h-(delta_h//2)\n",
    "    left, right = delta_w//2, delta_w-(delta_w//2)\n",
    "    image = cv2.copyMakeBorder(image, top, bottom, left, right, cv2.BORDER_CONSTANT, value=padding_color)\n",
    "    return image"
   ]
  },
  {
   "cell_type": "code",
   "execution_count": 8,
   "metadata": {},
   "outputs": [],
   "source": [
    "def to_categorical(y, num_classes=None, dtype=\"float32\"):\n",
    "\ty = np.array(y, dtype=\"int\")\n",
    "\tinput_shape = y.shape\n",
    "\n",
    "\t# Shrink the last dimension if the shape is (..., 1).\n",
    "\tif input_shape and input_shape[-1] == 1 and len(input_shape) > 1:\n",
    "\t\tinput_shape = tuple(input_shape[:-1])\n",
    "\n",
    "\ty = y.reshape(-1)\n",
    "\tif not num_classes:\n",
    "\t\tnum_classes = np.max(y) + 1\n",
    "\tn = y.shape[0]\n",
    "\tcategorical = np.zeros((n, num_classes), dtype=dtype)\n",
    "\tcategorical[np.arange(n), y] = 1\n",
    "\toutput_shape = input_shape + (num_classes,)\n",
    "\tcategorical = np.reshape(categorical, output_shape)\n",
    "\treturn categorical\n",
    "\n",
    "labels = [[11],[21],[13],[12],[31],[23],[24],[25],[32],[22],[33],[5]]\n",
    "def encode_mask(masks_arr, n_classes=NUM_CLASSES, H=INPUT_IMAGE_HEIGHT, W=INPUT_IMAGE_WIDTH, labels_arr=labels):\n",
    "    y_encoded = np.zeros((H, W, 1), dtype=np.uint8)\n",
    "\n",
    "    for i, label in enumerate(labels_arr):\n",
    "        y_encoded[np.all(label == masks_arr, axis=-1)] = i + 1\n",
    "    \n",
    "    return to_categorical(y_encoded, num_classes=n_classes)\n",
    "\n",
    "class SegmentationDataset(Dataset):\n",
    "\tdef __init__(self, imagePaths, maskPaths):\n",
    "\t\t# store the image and mask filepaths, and augmentation\n",
    "\t\t# transforms\n",
    "\t\tself.imagePaths = imagePaths\n",
    "\t\tself.maskPaths = maskPaths\n",
    "\n",
    "\tdef __len__(self):\n",
    "\t\t# return the number of total samples contained in the dataset\n",
    "\t\treturn len(self.imagePaths)\n",
    "\t\n",
    "\tdef __getitem__(self, idx):\n",
    "\t\t# grab the image path from the current index\n",
    "\t\timagePath = self.imagePaths[idx]\n",
    "\t\t# load the image from disk, swap its channels from BGR to RGB,\n",
    "\t\t# and read the associated mask from disk in grayscale mode\n",
    "\t\timage = cv2.imread(imagePath)\n",
    "\t\timage = image[10:-10, 120:-120,:]\n",
    "\t\timage = resize_with_pad(image, (INPUT_IMAGE_WIDTH, INPUT_IMAGE_HEIGHT))\n",
    "\t\timage = cv2.cvtColor(image, cv2.COLOR_BGR2RGB)\n",
    "\t\timage = image / 255\n",
    "\t\timage = torch.from_numpy(np.float32(image))\n",
    "\t\timage = image.permute(2,0,1)\n",
    "\n",
    "\t\tmask = cv2.imread(self.maskPaths[idx])\n",
    "\t\tmask = mask[10:-10, 120:-120,:]\n",
    "\t\tmask = resize_with_pad(mask, (INPUT_IMAGE_WIDTH, INPUT_IMAGE_HEIGHT), (50, 50, 50))\n",
    "\t\tmask = cv2.cvtColor(mask, cv2.COLOR_BGR2GRAY)\n",
    "\t\tmask = np.expand_dims(mask, axis=-1)\n",
    "\t\tmask = encode_mask(mask)\n",
    "\t\tmask = torch.from_numpy(np.float32(mask))\n",
    "\t\tmask = mask.permute(2,0,1)\n",
    "\n",
    "\t\tassert image.shape == (3, INPUT_IMAGE_HEIGHT, INPUT_IMAGE_WIDTH), f\"Bad image shape {image.shape}\"\n",
    "\t\tassert mask.shape == (13, INPUT_IMAGE_HEIGHT, INPUT_IMAGE_WIDTH), f\"Bad mask shape {mask.shape}\"\n",
    "\n",
    "\t\t# return a tuple of the image and its mask\n",
    "\t\treturn image, mask"
   ]
  },
  {
   "cell_type": "code",
   "execution_count": 9,
   "metadata": {},
   "outputs": [],
   "source": [
    "uformer = modelPoolAndIdentity.Uformer(img_size=INPUT_IMAGE_HEIGHT,in_chans=13, embed_dim=16, win_size=8, token_projection='linear', token_mlp='leff',modulator=True)\n",
    "trainImages, testImages, trainMasks, testMasks = train_test_split(IMAGE_DATASET_PATH, MASK_DATASET_PATH, test_size=0.2, random_state=43)"
   ]
  },
  {
   "cell_type": "code",
   "execution_count": 10,
   "metadata": {},
   "outputs": [
    {
     "name": "stdout",
     "output_type": "stream",
     "text": [
      "[INFO] found 6464 examples in the training set...\n",
      "[INFO] found 1616 examples in the test set...\n"
     ]
    }
   ],
   "source": [
    "# define transformations\n",
    "from torch.utils.data import DataLoader\n",
    "\n",
    "# create the train and test datasets\n",
    "trainDS = SegmentationDataset(imagePaths=trainImages, maskPaths=trainMasks)\n",
    "testDS = SegmentationDataset(imagePaths=testImages, maskPaths=testMasks)\n",
    "print(f\"[INFO] found {len(trainDS)} examples in the training set...\")\n",
    "print(f\"[INFO] found {len(testDS)} examples in the test set...\")\n",
    "# create the training and test data loaders\n",
    "num_workers = 4\n",
    "def seed_worker(worker_id):\n",
    "    worker_seed = torch.initial_seed() % 2**32\n",
    "    np.random.seed(worker_seed)\n",
    "    random.seed(worker_seed)\n",
    "\n",
    "g = torch.Generator()\n",
    "g.manual_seed(0)\n",
    "\n",
    "trainLoader = DataLoader(\n",
    "\ttrainDS, \n",
    "\tshuffle=True,\n",
    "\tbatch_size=BATCH_SIZE, \n",
    "\tpin_memory=PIN_MEMORY,\n",
    "    worker_init_fn=seed_worker,\n",
    "    generator=g\n",
    ")\n",
    "testLoader = DataLoader(\n",
    "\ttestDS, shuffle=False,\n",
    "\tbatch_size=BATCH_SIZE, \n",
    "\tpin_memory=PIN_MEMORY,\n",
    "    worker_init_fn=seed_worker,\n",
    "    generator=g\n",
    ")"
   ]
  },
  {
   "cell_type": "code",
   "execution_count": 11,
   "metadata": {},
   "outputs": [],
   "source": [
    "uformer = uformer.to(DEVICE)\n",
    "softmax = torch.nn.Softmax(1)\n",
    "# initialize loss function and optimizer\n",
    "lossFunc = losses.TverskyLoss().cuda()\n",
    "opt = torch.optim.Adam(uformer.parameters(), lr=INIT_LR, betas=(0.9, 0.999),eps=1e-8, weight_decay=1e-5)\n",
    "iouMetric = losses.MeanIoU().cuda()\n",
    "gdlMetric = losses.DiceCoeficient().cuda()\n",
    "# calculate steps per epoch for training and test set\n",
    "trainSteps = len(trainDS) // BATCH_SIZE + 1\n",
    "testSteps = len(testDS) // BATCH_SIZE + 1\n",
    "# initialize a dictionary to store training history\n",
    "H = {\"train_loss\": [], \"test_loss\": [], \"train_IoU\": [], \"test_IoU\": [],\"train_DC\": [], \"test_DC\": []}"
   ]
  },
  {
   "cell_type": "code",
   "execution_count": 12,
   "metadata": {},
   "outputs": [
    {
     "name": "stdout",
     "output_type": "stream",
     "text": [
      "[INFO] training the network...\n"
     ]
    },
    {
     "name": "stderr",
     "output_type": "stream",
     "text": [
      "100%|██████████| 202/202 [01:44<00:00,  1.94it/s]\n"
     ]
    },
    {
     "name": "stdout",
     "output_type": "stream",
     "text": [
      "[INFO] EPOCH: 1/100\n",
      "Train loss: 0.494806, Test loss: 0.3669, Train IoU: 0.3435, Test IoU: 0.4639, Train Dice: 0.5003, Test Dice: 0.6331\n",
      "Best IoU improved. Model saved.\n"
     ]
    },
    {
     "name": "stderr",
     "output_type": "stream",
     "text": [
      "100%|██████████| 202/202 [02:17<00:00,  1.47it/s]\n"
     ]
    },
    {
     "name": "stdout",
     "output_type": "stream",
     "text": [
      "[INFO] EPOCH: 2/100\n",
      "Train loss: 0.303100, Test loss: 0.2377, Train IoU: 0.5325, Test IoU: 0.6165, Train Dice: 0.6920, Test Dice: 0.7623\n",
      "Best IoU improved. Model saved.\n"
     ]
    },
    {
     "name": "stderr",
     "output_type": "stream",
     "text": [
      "100%|██████████| 202/202 [02:24<00:00,  1.40it/s]\n"
     ]
    },
    {
     "name": "stdout",
     "output_type": "stream",
     "text": [
      "[INFO] EPOCH: 3/100\n",
      "Train loss: 0.204172, Test loss: 0.1791, Train IoU: 0.6569, Test IoU: 0.6966, Train Dice: 0.7909, Test Dice: 0.8209\n",
      "Best IoU improved. Model saved.\n"
     ]
    },
    {
     "name": "stderr",
     "output_type": "stream",
     "text": [
      "100%|██████████| 202/202 [02:35<00:00,  1.30it/s]\n"
     ]
    },
    {
     "name": "stdout",
     "output_type": "stream",
     "text": [
      "[INFO] EPOCH: 4/100\n",
      "Train loss: 0.168589, Test loss: 0.1581, Train IoU: 0.7071, Test IoU: 0.7273, Train Dice: 0.8265, Test Dice: 0.8419\n",
      "Best IoU improved. Model saved.\n"
     ]
    },
    {
     "name": "stderr",
     "output_type": "stream",
     "text": [
      "100%|██████████| 202/202 [03:03<00:00,  1.10it/s]\n"
     ]
    },
    {
     "name": "stdout",
     "output_type": "stream",
     "text": [
      "[INFO] EPOCH: 5/100\n",
      "Train loss: 0.154512, Test loss: 0.1490, Train IoU: 0.7279, Test IoU: 0.7411, Train Dice: 0.8406, Test Dice: 0.8510\n",
      "Best IoU improved. Model saved.\n"
     ]
    },
    {
     "name": "stderr",
     "output_type": "stream",
     "text": [
      "100%|██████████| 202/202 [02:26<00:00,  1.37it/s]\n"
     ]
    },
    {
     "name": "stdout",
     "output_type": "stream",
     "text": [
      "[INFO] EPOCH: 6/100\n",
      "Train loss: 0.146413, Test loss: 0.1421, Train IoU: 0.7401, Test IoU: 0.7515, Train Dice: 0.8487, Test Dice: 0.8579\n",
      "Best IoU improved. Model saved.\n"
     ]
    },
    {
     "name": "stderr",
     "output_type": "stream",
     "text": [
      "100%|██████████| 202/202 [02:26<00:00,  1.38it/s]\n"
     ]
    },
    {
     "name": "stdout",
     "output_type": "stream",
     "text": [
      "[INFO] EPOCH: 7/100\n",
      "Train loss: 0.140728, Test loss: 0.1346, Train IoU: 0.7488, Test IoU: 0.7631, Train Dice: 0.8543, Test Dice: 0.8654\n",
      "Best IoU improved. Model saved.\n"
     ]
    },
    {
     "name": "stderr",
     "output_type": "stream",
     "text": [
      "100%|██████████| 202/202 [02:21<00:00,  1.43it/s]\n"
     ]
    },
    {
     "name": "stdout",
     "output_type": "stream",
     "text": [
      "[INFO] EPOCH: 8/100\n",
      "Train loss: 0.134018, Test loss: 0.1274, Train IoU: 0.7592, Test IoU: 0.7743, Train Dice: 0.8611, Test Dice: 0.8726\n",
      "Best IoU improved. Model saved.\n"
     ]
    },
    {
     "name": "stderr",
     "output_type": "stream",
     "text": [
      "100%|██████████| 202/202 [02:22<00:00,  1.42it/s]\n"
     ]
    },
    {
     "name": "stdout",
     "output_type": "stream",
     "text": [
      "[INFO] EPOCH: 9/100\n",
      "Train loss: 0.128203, Test loss: 0.1242, Train IoU: 0.7682, Test IoU: 0.7793, Train Dice: 0.8669, Test Dice: 0.8758\n",
      "Best IoU improved. Model saved.\n"
     ]
    },
    {
     "name": "stderr",
     "output_type": "stream",
     "text": [
      "100%|██████████| 202/202 [02:17<00:00,  1.47it/s]\n"
     ]
    },
    {
     "name": "stdout",
     "output_type": "stream",
     "text": [
      "[INFO] EPOCH: 10/100\n",
      "Train loss: 0.125140, Test loss: 0.1210, Train IoU: 0.7731, Test IoU: 0.7845, Train Dice: 0.8699, Test Dice: 0.8790\n",
      "Best IoU improved. Model saved.\n"
     ]
    },
    {
     "name": "stderr",
     "output_type": "stream",
     "text": [
      "100%|██████████| 202/202 [02:22<00:00,  1.41it/s]\n"
     ]
    },
    {
     "name": "stdout",
     "output_type": "stream",
     "text": [
      "[INFO] EPOCH: 11/100\n",
      "Train loss: 0.121724, Test loss: 0.1197, Train IoU: 0.7784, Test IoU: 0.7866, Train Dice: 0.8733, Test Dice: 0.8803\n",
      "Best IoU improved. Model saved.\n"
     ]
    },
    {
     "name": "stderr",
     "output_type": "stream",
     "text": [
      "100%|██████████| 202/202 [02:17<00:00,  1.47it/s]\n"
     ]
    },
    {
     "name": "stdout",
     "output_type": "stream",
     "text": [
      "[INFO] EPOCH: 12/100\n",
      "Train loss: 0.119987, Test loss: 0.1163, Train IoU: 0.7812, Test IoU: 0.7920, Train Dice: 0.8751, Test Dice: 0.8837\n",
      "Best IoU improved. Model saved.\n"
     ]
    },
    {
     "name": "stderr",
     "output_type": "stream",
     "text": [
      "100%|██████████| 202/202 [02:23<00:00,  1.40it/s]\n"
     ]
    },
    {
     "name": "stdout",
     "output_type": "stream",
     "text": [
      "[INFO] EPOCH: 13/100\n",
      "Train loss: 0.117426, Test loss: 0.1148, Train IoU: 0.7853, Test IoU: 0.7943, Train Dice: 0.8776, Test Dice: 0.8852\n",
      "Best IoU improved. Model saved.\n"
     ]
    },
    {
     "name": "stderr",
     "output_type": "stream",
     "text": [
      "100%|██████████| 202/202 [02:19<00:00,  1.45it/s]\n"
     ]
    },
    {
     "name": "stdout",
     "output_type": "stream",
     "text": [
      "[INFO] EPOCH: 14/100\n",
      "Train loss: 0.116610, Test loss: 0.1136, Train IoU: 0.7866, Test IoU: 0.7963, Train Dice: 0.8785, Test Dice: 0.8864\n",
      "Best IoU improved. Model saved.\n"
     ]
    },
    {
     "name": "stderr",
     "output_type": "stream",
     "text": [
      "100%|██████████| 202/202 [02:23<00:00,  1.41it/s]\n"
     ]
    },
    {
     "name": "stdout",
     "output_type": "stream",
     "text": [
      "[INFO] EPOCH: 15/100\n",
      "Train loss: 0.113918, Test loss: 0.1143, Train IoU: 0.7909, Test IoU: 0.7952, Train Dice: 0.8812, Test Dice: 0.8857\n"
     ]
    },
    {
     "name": "stderr",
     "output_type": "stream",
     "text": [
      "100%|██████████| 202/202 [02:19<00:00,  1.45it/s]\n"
     ]
    },
    {
     "name": "stdout",
     "output_type": "stream",
     "text": [
      "[INFO] EPOCH: 16/100\n",
      "Train loss: 0.113109, Test loss: 0.1126, Train IoU: 0.7922, Test IoU: 0.7979, Train Dice: 0.8820, Test Dice: 0.8874\n",
      "Best IoU improved. Model saved.\n"
     ]
    },
    {
     "name": "stderr",
     "output_type": "stream",
     "text": [
      "100%|██████████| 202/202 [02:21<00:00,  1.43it/s]\n"
     ]
    },
    {
     "name": "stdout",
     "output_type": "stream",
     "text": [
      "[INFO] EPOCH: 17/100\n",
      "Train loss: 0.112336, Test loss: 0.1122, Train IoU: 0.7935, Test IoU: 0.7987, Train Dice: 0.8827, Test Dice: 0.8878\n",
      "Best IoU improved. Model saved.\n"
     ]
    },
    {
     "name": "stderr",
     "output_type": "stream",
     "text": [
      "100%|██████████| 202/202 [02:19<00:00,  1.45it/s]\n"
     ]
    },
    {
     "name": "stdout",
     "output_type": "stream",
     "text": [
      "[INFO] EPOCH: 18/100\n",
      "Train loss: 0.111139, Test loss: 0.1108, Train IoU: 0.7955, Test IoU: 0.8009, Train Dice: 0.8839, Test Dice: 0.8892\n",
      "Best IoU improved. Model saved.\n"
     ]
    },
    {
     "name": "stderr",
     "output_type": "stream",
     "text": [
      "100%|██████████| 202/202 [02:24<00:00,  1.40it/s]\n"
     ]
    },
    {
     "name": "stdout",
     "output_type": "stream",
     "text": [
      "[INFO] EPOCH: 19/100\n",
      "Train loss: 0.110117, Test loss: 0.1113, Train IoU: 0.7970, Test IoU: 0.8000, Train Dice: 0.8850, Test Dice: 0.8887\n"
     ]
    },
    {
     "name": "stderr",
     "output_type": "stream",
     "text": [
      "100%|██████████| 202/202 [02:19<00:00,  1.45it/s]\n"
     ]
    },
    {
     "name": "stdout",
     "output_type": "stream",
     "text": [
      "[INFO] EPOCH: 20/100\n",
      "Train loss: 0.109464, Test loss: 0.1078, Train IoU: 0.7981, Test IoU: 0.8058, Train Dice: 0.8856, Test Dice: 0.8922\n",
      "Best IoU improved. Model saved.\n"
     ]
    },
    {
     "name": "stderr",
     "output_type": "stream",
     "text": [
      "100%|██████████| 202/202 [02:25<00:00,  1.39it/s]\n"
     ]
    },
    {
     "name": "stdout",
     "output_type": "stream",
     "text": [
      "[INFO] EPOCH: 21/100\n",
      "Train loss: 0.108362, Test loss: 0.1068, Train IoU: 0.7999, Test IoU: 0.8073, Train Dice: 0.8867, Test Dice: 0.8932\n",
      "Best IoU improved. Model saved.\n"
     ]
    },
    {
     "name": "stderr",
     "output_type": "stream",
     "text": [
      "100%|██████████| 202/202 [02:18<00:00,  1.46it/s]\n"
     ]
    },
    {
     "name": "stdout",
     "output_type": "stream",
     "text": [
      "[INFO] EPOCH: 22/100\n",
      "Train loss: 0.108243, Test loss: 0.1063, Train IoU: 0.8001, Test IoU: 0.8081, Train Dice: 0.8868, Test Dice: 0.8937\n",
      "Best IoU improved. Model saved.\n"
     ]
    },
    {
     "name": "stderr",
     "output_type": "stream",
     "text": [
      "100%|██████████| 202/202 [02:21<00:00,  1.43it/s]\n"
     ]
    },
    {
     "name": "stdout",
     "output_type": "stream",
     "text": [
      "[INFO] EPOCH: 23/100\n",
      "Train loss: 0.106876, Test loss: 0.1058, Train IoU: 0.8023, Test IoU: 0.8090, Train Dice: 0.8882, Test Dice: 0.8942\n",
      "Best IoU improved. Model saved.\n"
     ]
    },
    {
     "name": "stderr",
     "output_type": "stream",
     "text": [
      "100%|██████████| 202/202 [02:15<00:00,  1.49it/s]\n"
     ]
    },
    {
     "name": "stdout",
     "output_type": "stream",
     "text": [
      "[INFO] EPOCH: 24/100\n",
      "Train loss: 0.105565, Test loss: 0.1045, Train IoU: 0.8045, Test IoU: 0.8111, Train Dice: 0.8895, Test Dice: 0.8955\n",
      "Best IoU improved. Model saved.\n"
     ]
    },
    {
     "name": "stderr",
     "output_type": "stream",
     "text": [
      "100%|██████████| 202/202 [02:22<00:00,  1.41it/s]\n"
     ]
    },
    {
     "name": "stdout",
     "output_type": "stream",
     "text": [
      "[INFO] EPOCH: 25/100\n",
      "Train loss: 0.103768, Test loss: 0.1020, Train IoU: 0.8074, Test IoU: 0.8152, Train Dice: 0.8913, Test Dice: 0.8980\n",
      "Best IoU improved. Model saved.\n"
     ]
    },
    {
     "name": "stderr",
     "output_type": "stream",
     "text": [
      "100%|██████████| 202/202 [02:19<00:00,  1.45it/s]\n"
     ]
    },
    {
     "name": "stdout",
     "output_type": "stream",
     "text": [
      "[INFO] EPOCH: 26/100\n",
      "Train loss: 0.101665, Test loss: 0.0974, Train IoU: 0.8108, Test IoU: 0.8226, Train Dice: 0.8934, Test Dice: 0.9026\n",
      "Best IoU improved. Model saved.\n"
     ]
    },
    {
     "name": "stderr",
     "output_type": "stream",
     "text": [
      "100%|██████████| 202/202 [02:22<00:00,  1.42it/s]\n"
     ]
    },
    {
     "name": "stdout",
     "output_type": "stream",
     "text": [
      "[INFO] EPOCH: 27/100\n",
      "Train loss: 0.096554, Test loss: 0.0898, Train IoU: 0.8192, Test IoU: 0.8354, Train Dice: 0.8985, Test Dice: 0.9102\n",
      "Best IoU improved. Model saved.\n"
     ]
    },
    {
     "name": "stderr",
     "output_type": "stream",
     "text": [
      "100%|██████████| 202/202 [02:15<00:00,  1.49it/s]\n"
     ]
    },
    {
     "name": "stdout",
     "output_type": "stream",
     "text": [
      "[INFO] EPOCH: 28/100\n",
      "Train loss: 0.092629, Test loss: 0.0922, Train IoU: 0.8257, Test IoU: 0.8313, Train Dice: 0.9024, Test Dice: 0.9078\n"
     ]
    },
    {
     "name": "stderr",
     "output_type": "stream",
     "text": [
      "100%|██████████| 202/202 [02:22<00:00,  1.42it/s]\n"
     ]
    },
    {
     "name": "stdout",
     "output_type": "stream",
     "text": [
      "[INFO] EPOCH: 29/100\n",
      "Train loss: 0.090624, Test loss: 0.0896, Train IoU: 0.8291, Test IoU: 0.8357, Train Dice: 0.9044, Test Dice: 0.9104\n",
      "Best IoU improved. Model saved.\n"
     ]
    },
    {
     "name": "stderr",
     "output_type": "stream",
     "text": [
      "100%|██████████| 202/202 [02:16<00:00,  1.48it/s]\n"
     ]
    },
    {
     "name": "stdout",
     "output_type": "stream",
     "text": [
      "[INFO] EPOCH: 30/100\n",
      "Train loss: 0.088574, Test loss: 0.0865, Train IoU: 0.8325, Test IoU: 0.8409, Train Dice: 0.9065, Test Dice: 0.9135\n",
      "Best IoU improved. Model saved.\n"
     ]
    },
    {
     "name": "stderr",
     "output_type": "stream",
     "text": [
      "100%|██████████| 202/202 [02:20<00:00,  1.43it/s]\n"
     ]
    },
    {
     "name": "stdout",
     "output_type": "stream",
     "text": [
      "[INFO] EPOCH: 31/100\n",
      "Train loss: 0.087845, Test loss: 0.0847, Train IoU: 0.8338, Test IoU: 0.8439, Train Dice: 0.9072, Test Dice: 0.9153\n",
      "Best IoU improved. Model saved.\n"
     ]
    },
    {
     "name": "stderr",
     "output_type": "stream",
     "text": [
      "100%|██████████| 202/202 [02:15<00:00,  1.49it/s]\n"
     ]
    },
    {
     "name": "stdout",
     "output_type": "stream",
     "text": [
      "[INFO] EPOCH: 32/100\n",
      "Train loss: 0.086222, Test loss: 0.0833, Train IoU: 0.8365, Test IoU: 0.8463, Train Dice: 0.9089, Test Dice: 0.9167\n",
      "Best IoU improved. Model saved.\n"
     ]
    },
    {
     "name": "stderr",
     "output_type": "stream",
     "text": [
      "100%|██████████| 202/202 [02:22<00:00,  1.42it/s]\n"
     ]
    },
    {
     "name": "stdout",
     "output_type": "stream",
     "text": [
      "[INFO] EPOCH: 33/100\n",
      "Train loss: 0.084346, Test loss: 0.0820, Train IoU: 0.8397, Test IoU: 0.8485, Train Dice: 0.9107, Test Dice: 0.9180\n",
      "Best IoU improved. Model saved.\n"
     ]
    },
    {
     "name": "stderr",
     "output_type": "stream",
     "text": [
      "100%|██████████| 202/202 [02:16<00:00,  1.48it/s]\n"
     ]
    },
    {
     "name": "stdout",
     "output_type": "stream",
     "text": [
      "[INFO] EPOCH: 34/100\n",
      "Train loss: 0.084081, Test loss: 0.0817, Train IoU: 0.8401, Test IoU: 0.8490, Train Dice: 0.9110, Test Dice: 0.9183\n",
      "Best IoU improved. Model saved.\n"
     ]
    },
    {
     "name": "stderr",
     "output_type": "stream",
     "text": [
      "100%|██████████| 202/202 [02:21<00:00,  1.43it/s]\n"
     ]
    },
    {
     "name": "stdout",
     "output_type": "stream",
     "text": [
      "[INFO] EPOCH: 35/100\n",
      "Train loss: 0.082858, Test loss: 0.0808, Train IoU: 0.8422, Test IoU: 0.8506, Train Dice: 0.9122, Test Dice: 0.9192\n",
      "Best IoU improved. Model saved.\n"
     ]
    },
    {
     "name": "stderr",
     "output_type": "stream",
     "text": [
      "100%|██████████| 202/202 [02:15<00:00,  1.49it/s]\n"
     ]
    },
    {
     "name": "stdout",
     "output_type": "stream",
     "text": [
      "[INFO] EPOCH: 36/100\n",
      "Train loss: 0.082584, Test loss: 0.0796, Train IoU: 0.8427, Test IoU: 0.8527, Train Dice: 0.9125, Test Dice: 0.9204\n",
      "Best IoU improved. Model saved.\n"
     ]
    },
    {
     "name": "stderr",
     "output_type": "stream",
     "text": [
      "100%|██████████| 202/202 [02:22<00:00,  1.41it/s]\n"
     ]
    },
    {
     "name": "stdout",
     "output_type": "stream",
     "text": [
      "[INFO] EPOCH: 37/100\n",
      "Train loss: 0.082317, Test loss: 0.0785, Train IoU: 0.8431, Test IoU: 0.8545, Train Dice: 0.9128, Test Dice: 0.9215\n",
      "Best IoU improved. Model saved.\n"
     ]
    },
    {
     "name": "stderr",
     "output_type": "stream",
     "text": [
      "100%|██████████| 202/202 [02:16<00:00,  1.48it/s]\n"
     ]
    },
    {
     "name": "stdout",
     "output_type": "stream",
     "text": [
      "[INFO] EPOCH: 38/100\n",
      "Train loss: 0.081118, Test loss: 0.0792, Train IoU: 0.8452, Test IoU: 0.8534, Train Dice: 0.9140, Test Dice: 0.9208\n"
     ]
    },
    {
     "name": "stderr",
     "output_type": "stream",
     "text": [
      "100%|██████████| 202/202 [02:23<00:00,  1.41it/s]\n"
     ]
    },
    {
     "name": "stdout",
     "output_type": "stream",
     "text": [
      "[INFO] EPOCH: 39/100\n",
      "Train loss: 0.080821, Test loss: 0.0787, Train IoU: 0.8457, Test IoU: 0.8543, Train Dice: 0.9143, Test Dice: 0.9213\n"
     ]
    },
    {
     "name": "stderr",
     "output_type": "stream",
     "text": [
      "100%|██████████| 202/202 [02:15<00:00,  1.49it/s]\n"
     ]
    },
    {
     "name": "stdout",
     "output_type": "stream",
     "text": [
      "[INFO] EPOCH: 40/100\n",
      "Train loss: 0.080239, Test loss: 0.0769, Train IoU: 0.8467, Test IoU: 0.8574, Train Dice: 0.9148, Test Dice: 0.9231\n",
      "Best IoU improved. Model saved.\n"
     ]
    },
    {
     "name": "stderr",
     "output_type": "stream",
     "text": [
      "100%|██████████| 202/202 [02:22<00:00,  1.42it/s]\n"
     ]
    },
    {
     "name": "stdout",
     "output_type": "stream",
     "text": [
      "[INFO] EPOCH: 41/100\n",
      "Train loss: 0.079677, Test loss: 0.0766, Train IoU: 0.8476, Test IoU: 0.8578, Train Dice: 0.9154, Test Dice: 0.9234\n",
      "Best IoU improved. Model saved.\n"
     ]
    },
    {
     "name": "stderr",
     "output_type": "stream",
     "text": [
      "100%|██████████| 202/202 [02:16<00:00,  1.48it/s]\n"
     ]
    },
    {
     "name": "stdout",
     "output_type": "stream",
     "text": [
      "[INFO] EPOCH: 42/100\n",
      "Train loss: 0.079310, Test loss: 0.0775, Train IoU: 0.8483, Test IoU: 0.8563, Train Dice: 0.9158, Test Dice: 0.9225\n"
     ]
    },
    {
     "name": "stderr",
     "output_type": "stream",
     "text": [
      "100%|██████████| 202/202 [02:20<00:00,  1.43it/s]\n"
     ]
    },
    {
     "name": "stdout",
     "output_type": "stream",
     "text": [
      "[INFO] EPOCH: 43/100\n",
      "Train loss: 0.079454, Test loss: 0.0766, Train IoU: 0.8480, Test IoU: 0.8579, Train Dice: 0.9156, Test Dice: 0.9234\n",
      "Best IoU improved. Model saved.\n"
     ]
    },
    {
     "name": "stderr",
     "output_type": "stream",
     "text": [
      "100%|██████████| 202/202 [02:15<00:00,  1.49it/s]\n"
     ]
    },
    {
     "name": "stdout",
     "output_type": "stream",
     "text": [
      "[INFO] EPOCH: 44/100\n",
      "Train loss: 0.078200, Test loss: 0.0766, Train IoU: 0.8502, Test IoU: 0.8577, Train Dice: 0.9169, Test Dice: 0.9234\n"
     ]
    },
    {
     "name": "stderr",
     "output_type": "stream",
     "text": [
      "100%|██████████| 202/202 [02:22<00:00,  1.42it/s]\n"
     ]
    },
    {
     "name": "stdout",
     "output_type": "stream",
     "text": [
      "[INFO] EPOCH: 45/100\n",
      "Train loss: 0.078180, Test loss: 0.0757, Train IoU: 0.8502, Test IoU: 0.8595, Train Dice: 0.9169, Test Dice: 0.9243\n",
      "Best IoU improved. Model saved.\n"
     ]
    },
    {
     "name": "stderr",
     "output_type": "stream",
     "text": [
      "100%|██████████| 202/202 [02:16<00:00,  1.48it/s]\n"
     ]
    },
    {
     "name": "stdout",
     "output_type": "stream",
     "text": [
      "[INFO] EPOCH: 46/100\n",
      "Train loss: 0.077769, Test loss: 0.0765, Train IoU: 0.8509, Test IoU: 0.8579, Train Dice: 0.9173, Test Dice: 0.9235\n"
     ]
    },
    {
     "name": "stderr",
     "output_type": "stream",
     "text": [
      "100%|██████████| 202/202 [02:21<00:00,  1.43it/s]\n"
     ]
    },
    {
     "name": "stdout",
     "output_type": "stream",
     "text": [
      "[INFO] EPOCH: 47/100\n",
      "Train loss: 0.077046, Test loss: 0.0746, Train IoU: 0.8522, Test IoU: 0.8613, Train Dice: 0.9180, Test Dice: 0.9254\n",
      "Best IoU improved. Model saved.\n"
     ]
    },
    {
     "name": "stderr",
     "output_type": "stream",
     "text": [
      "100%|██████████| 202/202 [02:17<00:00,  1.47it/s]\n"
     ]
    },
    {
     "name": "stdout",
     "output_type": "stream",
     "text": [
      "[INFO] EPOCH: 48/100\n",
      "Train loss: 0.077068, Test loss: 0.0763, Train IoU: 0.8521, Test IoU: 0.8583, Train Dice: 0.9180, Test Dice: 0.9237\n"
     ]
    },
    {
     "name": "stderr",
     "output_type": "stream",
     "text": [
      "100%|██████████| 202/202 [02:22<00:00,  1.42it/s]\n"
     ]
    },
    {
     "name": "stdout",
     "output_type": "stream",
     "text": [
      "[INFO] EPOCH: 49/100\n",
      "Train loss: 0.077283, Test loss: 0.0749, Train IoU: 0.8517, Test IoU: 0.8607, Train Dice: 0.9178, Test Dice: 0.9251\n"
     ]
    },
    {
     "name": "stderr",
     "output_type": "stream",
     "text": [
      "100%|██████████| 202/202 [02:16<00:00,  1.48it/s]\n"
     ]
    },
    {
     "name": "stdout",
     "output_type": "stream",
     "text": [
      "[INFO] EPOCH: 50/100\n",
      "Train loss: 0.076995, Test loss: 0.0748, Train IoU: 0.8522, Test IoU: 0.8609, Train Dice: 0.9181, Test Dice: 0.9252\n"
     ]
    },
    {
     "name": "stderr",
     "output_type": "stream",
     "text": [
      "100%|██████████| 202/202 [02:21<00:00,  1.43it/s]\n"
     ]
    },
    {
     "name": "stdout",
     "output_type": "stream",
     "text": [
      "[INFO] EPOCH: 51/100\n",
      "Train loss: 0.076703, Test loss: 0.0746, Train IoU: 0.8528, Test IoU: 0.8613, Train Dice: 0.9184, Test Dice: 0.9254\n"
     ]
    },
    {
     "name": "stderr",
     "output_type": "stream",
     "text": [
      "100%|██████████| 202/202 [02:15<00:00,  1.49it/s]\n"
     ]
    },
    {
     "name": "stdout",
     "output_type": "stream",
     "text": [
      "[INFO] EPOCH: 52/100\n",
      "Train loss: 0.076492, Test loss: 0.0744, Train IoU: 0.8531, Test IoU: 0.8616, Train Dice: 0.9186, Test Dice: 0.9256\n",
      "Best IoU improved. Model saved.\n"
     ]
    },
    {
     "name": "stderr",
     "output_type": "stream",
     "text": [
      "100%|██████████| 202/202 [02:22<00:00,  1.42it/s]\n"
     ]
    },
    {
     "name": "stdout",
     "output_type": "stream",
     "text": [
      "[INFO] EPOCH: 53/100\n",
      "Train loss: 0.076151, Test loss: 0.0733, Train IoU: 0.8537, Test IoU: 0.8634, Train Dice: 0.9189, Test Dice: 0.9267\n",
      "Best IoU improved. Model saved.\n"
     ]
    },
    {
     "name": "stderr",
     "output_type": "stream",
     "text": [
      "100%|██████████| 202/202 [02:16<00:00,  1.48it/s]\n"
     ]
    },
    {
     "name": "stdout",
     "output_type": "stream",
     "text": [
      "[INFO] EPOCH: 54/100\n",
      "Train loss: 0.075606, Test loss: 0.0736, Train IoU: 0.8546, Test IoU: 0.8629, Train Dice: 0.9195, Test Dice: 0.9264\n"
     ]
    },
    {
     "name": "stderr",
     "output_type": "stream",
     "text": [
      "100%|██████████| 202/202 [02:20<00:00,  1.43it/s]\n"
     ]
    },
    {
     "name": "stdout",
     "output_type": "stream",
     "text": [
      "[INFO] EPOCH: 55/100\n",
      "Train loss: 0.075466, Test loss: 0.0732, Train IoU: 0.8549, Test IoU: 0.8638, Train Dice: 0.9196, Test Dice: 0.9268\n",
      "Best IoU improved. Model saved.\n"
     ]
    },
    {
     "name": "stderr",
     "output_type": "stream",
     "text": [
      "100%|██████████| 202/202 [02:16<00:00,  1.48it/s]\n"
     ]
    },
    {
     "name": "stdout",
     "output_type": "stream",
     "text": [
      "[INFO] EPOCH: 56/100\n",
      "Train loss: 0.075626, Test loss: 0.0727, Train IoU: 0.8546, Test IoU: 0.8645, Train Dice: 0.9194, Test Dice: 0.9273\n",
      "Best IoU improved. Model saved.\n"
     ]
    },
    {
     "name": "stderr",
     "output_type": "stream",
     "text": [
      "100%|██████████| 202/202 [02:22<00:00,  1.42it/s]\n"
     ]
    },
    {
     "name": "stdout",
     "output_type": "stream",
     "text": [
      "[INFO] EPOCH: 57/100\n",
      "Train loss: 0.075284, Test loss: 0.0745, Train IoU: 0.8552, Test IoU: 0.8614, Train Dice: 0.9198, Test Dice: 0.9255\n"
     ]
    },
    {
     "name": "stderr",
     "output_type": "stream",
     "text": [
      "100%|██████████| 202/202 [02:16<00:00,  1.48it/s]\n"
     ]
    },
    {
     "name": "stdout",
     "output_type": "stream",
     "text": [
      "[INFO] EPOCH: 58/100\n",
      "Train loss: 0.075028, Test loss: 0.0721, Train IoU: 0.8556, Test IoU: 0.8656, Train Dice: 0.9200, Test Dice: 0.9279\n",
      "Best IoU improved. Model saved.\n"
     ]
    },
    {
     "name": "stderr",
     "output_type": "stream",
     "text": [
      "100%|██████████| 202/202 [02:20<00:00,  1.44it/s]\n"
     ]
    },
    {
     "name": "stdout",
     "output_type": "stream",
     "text": [
      "[INFO] EPOCH: 59/100\n",
      "Train loss: 0.074929, Test loss: 0.0733, Train IoU: 0.8558, Test IoU: 0.8636, Train Dice: 0.9201, Test Dice: 0.9267\n"
     ]
    },
    {
     "name": "stderr",
     "output_type": "stream",
     "text": [
      "100%|██████████| 202/202 [02:16<00:00,  1.48it/s]\n"
     ]
    },
    {
     "name": "stdout",
     "output_type": "stream",
     "text": [
      "[INFO] EPOCH: 60/100\n",
      "Train loss: 0.074707, Test loss: 0.0721, Train IoU: 0.8562, Test IoU: 0.8656, Train Dice: 0.9204, Test Dice: 0.9279\n"
     ]
    },
    {
     "name": "stderr",
     "output_type": "stream",
     "text": [
      "100%|██████████| 202/202 [02:23<00:00,  1.41it/s]\n"
     ]
    },
    {
     "name": "stdout",
     "output_type": "stream",
     "text": [
      "[INFO] EPOCH: 61/100\n",
      "Train loss: 0.074754, Test loss: 0.0720, Train IoU: 0.8561, Test IoU: 0.8658, Train Dice: 0.9203, Test Dice: 0.9280\n",
      "Best IoU improved. Model saved.\n"
     ]
    },
    {
     "name": "stderr",
     "output_type": "stream",
     "text": [
      "100%|██████████| 202/202 [02:19<00:00,  1.45it/s]\n"
     ]
    },
    {
     "name": "stdout",
     "output_type": "stream",
     "text": [
      "[INFO] EPOCH: 62/100\n",
      "Train loss: 0.074535, Test loss: 0.0739, Train IoU: 0.8565, Test IoU: 0.8624, Train Dice: 0.9205, Test Dice: 0.9261\n"
     ]
    },
    {
     "name": "stderr",
     "output_type": "stream",
     "text": [
      "100%|██████████| 202/202 [02:20<00:00,  1.43it/s]\n"
     ]
    },
    {
     "name": "stdout",
     "output_type": "stream",
     "text": [
      "[INFO] EPOCH: 63/100\n",
      "Train loss: 0.074443, Test loss: 0.0713, Train IoU: 0.8566, Test IoU: 0.8670, Train Dice: 0.9206, Test Dice: 0.9287\n",
      "Best IoU improved. Model saved.\n"
     ]
    },
    {
     "name": "stderr",
     "output_type": "stream",
     "text": [
      "100%|██████████| 202/202 [02:15<00:00,  1.49it/s]\n"
     ]
    },
    {
     "name": "stdout",
     "output_type": "stream",
     "text": [
      "[INFO] EPOCH: 64/100\n",
      "Train loss: 0.073833, Test loss: 0.0712, Train IoU: 0.8577, Test IoU: 0.8672, Train Dice: 0.9212, Test Dice: 0.9288\n",
      "Best IoU improved. Model saved.\n"
     ]
    },
    {
     "name": "stderr",
     "output_type": "stream",
     "text": [
      "100%|██████████| 202/202 [02:22<00:00,  1.42it/s]\n"
     ]
    },
    {
     "name": "stdout",
     "output_type": "stream",
     "text": [
      "[INFO] EPOCH: 65/100\n",
      "Train loss: 0.073861, Test loss: 0.0724, Train IoU: 0.8577, Test IoU: 0.8651, Train Dice: 0.9212, Test Dice: 0.9276\n"
     ]
    },
    {
     "name": "stderr",
     "output_type": "stream",
     "text": [
      "100%|██████████| 202/202 [02:16<00:00,  1.48it/s]\n"
     ]
    },
    {
     "name": "stdout",
     "output_type": "stream",
     "text": [
      "[INFO] EPOCH: 66/100\n",
      "Train loss: 0.073840, Test loss: 0.0725, Train IoU: 0.8577, Test IoU: 0.8649, Train Dice: 0.9212, Test Dice: 0.9275\n"
     ]
    },
    {
     "name": "stderr",
     "output_type": "stream",
     "text": [
      "100%|██████████| 202/202 [02:21<00:00,  1.43it/s]\n"
     ]
    },
    {
     "name": "stdout",
     "output_type": "stream",
     "text": [
      "[INFO] EPOCH: 67/100\n",
      "Train loss: 0.073227, Test loss: 0.0712, Train IoU: 0.8588, Test IoU: 0.8671, Train Dice: 0.9218, Test Dice: 0.9288\n"
     ]
    },
    {
     "name": "stderr",
     "output_type": "stream",
     "text": [
      "100%|██████████| 202/202 [02:16<00:00,  1.48it/s]\n"
     ]
    },
    {
     "name": "stdout",
     "output_type": "stream",
     "text": [
      "[INFO] EPOCH: 68/100\n",
      "Train loss: 0.073130, Test loss: 0.0721, Train IoU: 0.8589, Test IoU: 0.8656, Train Dice: 0.9219, Test Dice: 0.9279\n"
     ]
    },
    {
     "name": "stderr",
     "output_type": "stream",
     "text": [
      "100%|██████████| 202/202 [02:22<00:00,  1.42it/s]\n"
     ]
    },
    {
     "name": "stdout",
     "output_type": "stream",
     "text": [
      "[INFO] EPOCH: 69/100\n",
      "Train loss: 0.072987, Test loss: 0.0717, Train IoU: 0.8592, Test IoU: 0.8663, Train Dice: 0.9221, Test Dice: 0.9283\n"
     ]
    },
    {
     "name": "stderr",
     "output_type": "stream",
     "text": [
      "100%|██████████| 202/202 [02:19<00:00,  1.45it/s]\n"
     ]
    },
    {
     "name": "stdout",
     "output_type": "stream",
     "text": [
      "[INFO] EPOCH: 70/100\n",
      "Train loss: 0.072913, Test loss: 0.0712, Train IoU: 0.8593, Test IoU: 0.8671, Train Dice: 0.9222, Test Dice: 0.9288\n"
     ]
    },
    {
     "name": "stderr",
     "output_type": "stream",
     "text": [
      "100%|██████████| 202/202 [02:23<00:00,  1.41it/s]\n"
     ]
    },
    {
     "name": "stdout",
     "output_type": "stream",
     "text": [
      "[INFO] EPOCH: 71/100\n",
      "Train loss: 0.072539, Test loss: 0.0713, Train IoU: 0.8600, Test IoU: 0.8670, Train Dice: 0.9225, Test Dice: 0.9287\n"
     ]
    },
    {
     "name": "stderr",
     "output_type": "stream",
     "text": [
      "100%|██████████| 202/202 [02:18<00:00,  1.46it/s]\n"
     ]
    },
    {
     "name": "stdout",
     "output_type": "stream",
     "text": [
      "[INFO] EPOCH: 72/100\n",
      "Train loss: 0.072740, Test loss: 0.0710, Train IoU: 0.8596, Test IoU: 0.8675, Train Dice: 0.9223, Test Dice: 0.9290\n",
      "Best IoU improved. Model saved.\n"
     ]
    },
    {
     "name": "stderr",
     "output_type": "stream",
     "text": [
      "100%|██████████| 202/202 [02:24<00:00,  1.40it/s]\n"
     ]
    },
    {
     "name": "stdout",
     "output_type": "stream",
     "text": [
      "[INFO] EPOCH: 73/100\n",
      "Train loss: 0.072250, Test loss: 0.0714, Train IoU: 0.8605, Test IoU: 0.8668, Train Dice: 0.9228, Test Dice: 0.9286\n"
     ]
    },
    {
     "name": "stderr",
     "output_type": "stream",
     "text": [
      "100%|██████████| 202/202 [02:17<00:00,  1.47it/s]\n"
     ]
    },
    {
     "name": "stdout",
     "output_type": "stream",
     "text": [
      "[INFO] EPOCH: 74/100\n",
      "Train loss: 0.072751, Test loss: 0.0708, Train IoU: 0.8596, Test IoU: 0.8679, Train Dice: 0.9223, Test Dice: 0.9292\n",
      "Best IoU improved. Model saved.\n"
     ]
    },
    {
     "name": "stderr",
     "output_type": "stream",
     "text": [
      "100%|██████████| 202/202 [02:21<00:00,  1.43it/s]\n"
     ]
    },
    {
     "name": "stdout",
     "output_type": "stream",
     "text": [
      "[INFO] EPOCH: 75/100\n",
      "Train loss: 0.072147, Test loss: 0.0716, Train IoU: 0.8606, Test IoU: 0.8665, Train Dice: 0.9229, Test Dice: 0.9284\n"
     ]
    },
    {
     "name": "stderr",
     "output_type": "stream",
     "text": [
      "100%|██████████| 202/202 [02:16<00:00,  1.48it/s]\n"
     ]
    },
    {
     "name": "stdout",
     "output_type": "stream",
     "text": [
      "[INFO] EPOCH: 76/100\n",
      "Train loss: 0.071969, Test loss: 0.0708, Train IoU: 0.8609, Test IoU: 0.8679, Train Dice: 0.9231, Test Dice: 0.9292\n"
     ]
    },
    {
     "name": "stderr",
     "output_type": "stream",
     "text": [
      "100%|██████████| 202/202 [02:22<00:00,  1.42it/s]\n"
     ]
    },
    {
     "name": "stdout",
     "output_type": "stream",
     "text": [
      "[INFO] EPOCH: 77/100\n",
      "Train loss: 0.071678, Test loss: 0.0704, Train IoU: 0.8614, Test IoU: 0.8687, Train Dice: 0.9234, Test Dice: 0.9296\n",
      "Best IoU improved. Model saved.\n"
     ]
    },
    {
     "name": "stderr",
     "output_type": "stream",
     "text": [
      "100%|██████████| 202/202 [02:19<00:00,  1.44it/s]\n"
     ]
    },
    {
     "name": "stdout",
     "output_type": "stream",
     "text": [
      "[INFO] EPOCH: 78/100\n",
      "Train loss: 0.071898, Test loss: 0.0694, Train IoU: 0.8610, Test IoU: 0.8703, Train Dice: 0.9232, Test Dice: 0.9306\n",
      "Best IoU improved. Model saved.\n"
     ]
    },
    {
     "name": "stderr",
     "output_type": "stream",
     "text": [
      "100%|██████████| 202/202 [02:23<00:00,  1.41it/s]\n"
     ]
    },
    {
     "name": "stdout",
     "output_type": "stream",
     "text": [
      "[INFO] EPOCH: 79/100\n",
      "Train loss: 0.071907, Test loss: 0.0703, Train IoU: 0.8611, Test IoU: 0.8687, Train Dice: 0.9232, Test Dice: 0.9297\n"
     ]
    },
    {
     "name": "stderr",
     "output_type": "stream",
     "text": [
      "100%|██████████| 202/202 [02:17<00:00,  1.47it/s]\n"
     ]
    },
    {
     "name": "stdout",
     "output_type": "stream",
     "text": [
      "[INFO] EPOCH: 80/100\n",
      "Train loss: 0.071579, Test loss: 0.0710, Train IoU: 0.8616, Test IoU: 0.8675, Train Dice: 0.9235, Test Dice: 0.9290\n"
     ]
    },
    {
     "name": "stderr",
     "output_type": "stream",
     "text": [
      "100%|██████████| 202/202 [02:22<00:00,  1.42it/s]\n"
     ]
    },
    {
     "name": "stdout",
     "output_type": "stream",
     "text": [
      "[INFO] EPOCH: 81/100\n",
      "Train loss: 0.071763, Test loss: 0.0695, Train IoU: 0.8613, Test IoU: 0.8701, Train Dice: 0.9233, Test Dice: 0.9305\n"
     ]
    },
    {
     "name": "stderr",
     "output_type": "stream",
     "text": [
      "100%|██████████| 202/202 [02:17<00:00,  1.47it/s]\n"
     ]
    },
    {
     "name": "stdout",
     "output_type": "stream",
     "text": [
      "[INFO] EPOCH: 82/100\n",
      "Train loss: 0.071311, Test loss: 0.0692, Train IoU: 0.8621, Test IoU: 0.8706, Train Dice: 0.9238, Test Dice: 0.9308\n",
      "Best IoU improved. Model saved.\n"
     ]
    },
    {
     "name": "stderr",
     "output_type": "stream",
     "text": [
      "100%|██████████| 202/202 [02:21<00:00,  1.43it/s]\n"
     ]
    },
    {
     "name": "stdout",
     "output_type": "stream",
     "text": [
      "[INFO] EPOCH: 83/100\n",
      "Train loss: 0.071331, Test loss: 0.0694, Train IoU: 0.8620, Test IoU: 0.8703, Train Dice: 0.9237, Test Dice: 0.9306\n"
     ]
    },
    {
     "name": "stderr",
     "output_type": "stream",
     "text": [
      "100%|██████████| 202/202 [02:16<00:00,  1.48it/s]\n"
     ]
    },
    {
     "name": "stdout",
     "output_type": "stream",
     "text": [
      "[INFO] EPOCH: 84/100\n",
      "Train loss: 0.070895, Test loss: 0.0695, Train IoU: 0.8628, Test IoU: 0.8701, Train Dice: 0.9242, Test Dice: 0.9305\n"
     ]
    },
    {
     "name": "stderr",
     "output_type": "stream",
     "text": [
      "100%|██████████| 202/202 [02:22<00:00,  1.41it/s]\n"
     ]
    },
    {
     "name": "stdout",
     "output_type": "stream",
     "text": [
      "[INFO] EPOCH: 85/100\n",
      "Train loss: 0.071018, Test loss: 0.0686, Train IoU: 0.8626, Test IoU: 0.8718, Train Dice: 0.9241, Test Dice: 0.9314\n",
      "Best IoU improved. Model saved.\n"
     ]
    },
    {
     "name": "stderr",
     "output_type": "stream",
     "text": [
      "100%|██████████| 202/202 [02:16<00:00,  1.47it/s]\n"
     ]
    },
    {
     "name": "stdout",
     "output_type": "stream",
     "text": [
      "[INFO] EPOCH: 86/100\n",
      "Train loss: 0.070813, Test loss: 0.0709, Train IoU: 0.8629, Test IoU: 0.8678, Train Dice: 0.9243, Test Dice: 0.9291\n"
     ]
    },
    {
     "name": "stderr",
     "output_type": "stream",
     "text": [
      "100%|██████████| 202/202 [02:21<00:00,  1.43it/s]\n"
     ]
    },
    {
     "name": "stdout",
     "output_type": "stream",
     "text": [
      "[INFO] EPOCH: 87/100\n",
      "Train loss: 0.071072, Test loss: 0.0695, Train IoU: 0.8625, Test IoU: 0.8701, Train Dice: 0.9240, Test Dice: 0.9305\n"
     ]
    },
    {
     "name": "stderr",
     "output_type": "stream",
     "text": [
      "100%|██████████| 202/202 [02:16<00:00,  1.48it/s]\n"
     ]
    },
    {
     "name": "stdout",
     "output_type": "stream",
     "text": [
      "[INFO] EPOCH: 88/100\n",
      "Train loss: 0.070835, Test loss: 0.0695, Train IoU: 0.8629, Test IoU: 0.8701, Train Dice: 0.9242, Test Dice: 0.9305\n"
     ]
    },
    {
     "name": "stderr",
     "output_type": "stream",
     "text": [
      "100%|██████████| 202/202 [02:22<00:00,  1.42it/s]\n"
     ]
    },
    {
     "name": "stdout",
     "output_type": "stream",
     "text": [
      "[INFO] EPOCH: 89/100\n",
      "Train loss: 0.070525, Test loss: 0.0695, Train IoU: 0.8635, Test IoU: 0.8702, Train Dice: 0.9245, Test Dice: 0.9305\n"
     ]
    },
    {
     "name": "stderr",
     "output_type": "stream",
     "text": [
      "100%|██████████| 202/202 [02:17<00:00,  1.47it/s]\n"
     ]
    },
    {
     "name": "stdout",
     "output_type": "stream",
     "text": [
      "[INFO] EPOCH: 90/100\n",
      "Train loss: 0.070326, Test loss: 0.0688, Train IoU: 0.8638, Test IoU: 0.8713, Train Dice: 0.9247, Test Dice: 0.9312\n"
     ]
    },
    {
     "name": "stderr",
     "output_type": "stream",
     "text": [
      "100%|██████████| 202/202 [02:21<00:00,  1.43it/s]\n"
     ]
    },
    {
     "name": "stdout",
     "output_type": "stream",
     "text": [
      "[INFO] EPOCH: 91/100\n",
      "Train loss: 0.070437, Test loss: 0.0680, Train IoU: 0.8636, Test IoU: 0.8728, Train Dice: 0.9246, Test Dice: 0.9320\n",
      "Best IoU improved. Model saved.\n"
     ]
    },
    {
     "name": "stderr",
     "output_type": "stream",
     "text": [
      "100%|██████████| 202/202 [02:16<00:00,  1.48it/s]\n"
     ]
    },
    {
     "name": "stdout",
     "output_type": "stream",
     "text": [
      "[INFO] EPOCH: 92/100\n",
      "Train loss: 0.070262, Test loss: 0.0682, Train IoU: 0.8639, Test IoU: 0.8723, Train Dice: 0.9248, Test Dice: 0.9318\n"
     ]
    },
    {
     "name": "stderr",
     "output_type": "stream",
     "text": [
      "100%|██████████| 202/202 [02:22<00:00,  1.42it/s]\n"
     ]
    },
    {
     "name": "stdout",
     "output_type": "stream",
     "text": [
      "[INFO] EPOCH: 93/100\n",
      "Train loss: 0.069978, Test loss: 0.0690, Train IoU: 0.8644, Test IoU: 0.8710, Train Dice: 0.9251, Test Dice: 0.9310\n"
     ]
    },
    {
     "name": "stderr",
     "output_type": "stream",
     "text": [
      "100%|██████████| 202/202 [02:17<00:00,  1.47it/s]\n"
     ]
    },
    {
     "name": "stdout",
     "output_type": "stream",
     "text": [
      "[INFO] EPOCH: 94/100\n",
      "Train loss: 0.070382, Test loss: 0.0688, Train IoU: 0.8637, Test IoU: 0.8713, Train Dice: 0.9247, Test Dice: 0.9312\n"
     ]
    },
    {
     "name": "stderr",
     "output_type": "stream",
     "text": [
      "100%|██████████| 202/202 [02:21<00:00,  1.42it/s]\n"
     ]
    },
    {
     "name": "stdout",
     "output_type": "stream",
     "text": [
      "[INFO] EPOCH: 95/100\n",
      "Train loss: 0.070088, Test loss: 0.0686, Train IoU: 0.8642, Test IoU: 0.8718, Train Dice: 0.9250, Test Dice: 0.9314\n"
     ]
    },
    {
     "name": "stderr",
     "output_type": "stream",
     "text": [
      "100%|██████████| 202/202 [02:17<00:00,  1.47it/s]\n"
     ]
    },
    {
     "name": "stdout",
     "output_type": "stream",
     "text": [
      "[INFO] EPOCH: 96/100\n",
      "Train loss: 0.070199, Test loss: 0.0684, Train IoU: 0.8640, Test IoU: 0.8722, Train Dice: 0.9249, Test Dice: 0.9316\n"
     ]
    },
    {
     "name": "stderr",
     "output_type": "stream",
     "text": [
      "100%|██████████| 202/202 [02:24<00:00,  1.40it/s]\n"
     ]
    },
    {
     "name": "stdout",
     "output_type": "stream",
     "text": [
      "[INFO] EPOCH: 97/100\n",
      "Train loss: 0.070308, Test loss: 0.0680, Train IoU: 0.8638, Test IoU: 0.8728, Train Dice: 0.9248, Test Dice: 0.9320\n"
     ]
    },
    {
     "name": "stderr",
     "output_type": "stream",
     "text": [
      "100%|██████████| 202/202 [02:17<00:00,  1.47it/s]\n"
     ]
    },
    {
     "name": "stdout",
     "output_type": "stream",
     "text": [
      "[INFO] EPOCH: 98/100\n",
      "Train loss: 0.069873, Test loss: 0.0686, Train IoU: 0.8646, Test IoU: 0.8717, Train Dice: 0.9252, Test Dice: 0.9314\n"
     ]
    },
    {
     "name": "stderr",
     "output_type": "stream",
     "text": [
      "100%|██████████| 202/202 [02:21<00:00,  1.43it/s]\n"
     ]
    },
    {
     "name": "stdout",
     "output_type": "stream",
     "text": [
      "[INFO] EPOCH: 99/100\n",
      "Train loss: 0.069395, Test loss: 0.0672, Train IoU: 0.8654, Test IoU: 0.8741, Train Dice: 0.9257, Test Dice: 0.9328\n",
      "Best IoU improved. Model saved.\n"
     ]
    },
    {
     "name": "stderr",
     "output_type": "stream",
     "text": [
      "100%|██████████| 202/202 [02:16<00:00,  1.48it/s]\n"
     ]
    },
    {
     "name": "stdout",
     "output_type": "stream",
     "text": [
      "[INFO] EPOCH: 100/100\n",
      "Train loss: 0.069533, Test loss: 0.0685, Train IoU: 0.8652, Test IoU: 0.8719, Train Dice: 0.9255, Test Dice: 0.9315\n",
      "[INFO] total time taken to train the model: 15950.51s\n",
      "Best IoU is: 0.87415\n"
     ]
    }
   ],
   "source": [
    "bestIoU = 0\n",
    "# loop over epochs\n",
    "print(\"[INFO] training the network...\")\n",
    "startTime = time.time()\n",
    "for e in range(NUM_EPOCHS):\n",
    "\t#torch.cuda.empty_cache()\n",
    "\t# set the model in training mode\n",
    "\tuformer.train()\n",
    "\t# initialize the total training and validation loss\n",
    "\ttotalTrainLoss = 0\n",
    "\ttotalTestLoss = 0\n",
    "\n",
    "\ttotalTrainIoU = 0\n",
    "\ttotalTestIoU = 0\n",
    "\ttotalTrainDC = 0\n",
    "\ttotalTestDC = 0\n",
    "\t# loop over the training set\n",
    "\tfor i, (x, y) in enumerate(tqdm(trainLoader)):\n",
    "\t\t# send the input to the device\n",
    "\t\tx, y = x.to(DEVICE), y.to(DEVICE)\n",
    "\t\t# perform a forward pass and calculate the training loss\n",
    "\t\tpred = uformer(x)\n",
    "\t\tassert pred.shape == y.shape, f\"{pred.shape} != {y.shape}\" # B, C, H, W\n",
    "\t\tpred = softmax(pred)\n",
    "\t\tloss = lossFunc(pred, y)\n",
    "\t\t# first, zero out any previously accumulated gradients, then\n",
    "\t\t# perform backpropagation, and then update model parameters\n",
    "\t\topt.zero_grad()\n",
    "\t\tloss.backward()\n",
    "\t\topt.step()\n",
    "\t\t# add the loss to the total training loss so far\n",
    "\t\ttotalTrainLoss += loss\n",
    "\t\ttotalTrainIoU += iouMetric(pred, y)\n",
    "\t\ttotalTrainDC += gdlMetric(pred, y)\n",
    "\t# switch off autograd\n",
    "\twith torch.no_grad():\n",
    "\t\t# set the model in evaluation mode\n",
    "\t\tuformer.eval()\n",
    "\t\t# loop over the validation set\n",
    "\t\tfor (x, y) in testLoader:\n",
    "\t\t\t# send the input to the device\n",
    "\t\t\t(x, y) = (x.to(DEVICE), y.to(DEVICE))\n",
    "\t\t\t# make the predictions and calculate the validation loss\n",
    "\t\t\tpred = uformer(x)\n",
    "\t\t\tassert pred.shape == y.shape, f\"{pred.shape} != {y.shape}\" # B, C, H, W\n",
    "\t\t\tpred = softmax(pred)\n",
    "\t\t\ttotalTestLoss += lossFunc(pred, y)\n",
    "\t\t\ttotalTestIoU += iouMetric(pred, y)\n",
    "\t\t\ttotalTestDC += gdlMetric(pred, y)\n",
    "\t\t\t\n",
    "\t# calculate the average training and validation loss\n",
    "\tavgTrainLoss = totalTrainLoss / trainSteps\n",
    "\tavgTestLoss = totalTestLoss / testSteps\n",
    "\n",
    "\tavgTrainIoU = totalTrainIoU / trainSteps\n",
    "\tavgTestIoU = totalTestIoU / testSteps\n",
    "\tavgTrainDC = totalTrainDC / trainSteps\n",
    "\tavgTestDC = totalTestDC / testSteps\n",
    "\t# update our training history\n",
    "\tH[\"train_loss\"].append(avgTrainLoss.cpu().detach().numpy())\n",
    "\tH[\"test_loss\"].append(avgTestLoss.cpu().detach().numpy())\n",
    "\n",
    "\tH[\"train_IoU\"].append(avgTrainIoU.cpu().detach().numpy())\n",
    "\tH[\"test_IoU\"].append(avgTestIoU.cpu().detach().numpy())\n",
    "\tH[\"train_DC\"].append(avgTrainDC.cpu().detach().numpy())\n",
    "\tH[\"test_DC\"].append(avgTestDC.cpu().detach().numpy())\n",
    "\n",
    "\t# print the model training and validation information\n",
    "\tprint(\"[INFO] EPOCH: {}/{}\".format(e + 1, NUM_EPOCHS))\n",
    "\tprint(f\"Train loss: {avgTrainLoss:.6f}, Test loss: {avgTestLoss:.4f}, \" + \n",
    "       f\"Train IoU: {avgTrainIoU:.4f}, Test IoU: {avgTestIoU:.4f}, Train Dice: {avgTrainDC:.4f}, Test Dice: {avgTestDC:.4f}\")\n",
    "\t\n",
    "\tif avgTestIoU > bestIoU:\n",
    "\t\tbestIoU = avgTestIoU\n",
    "\t\ttorch.save(uformer.state_dict(), '../models/uformerpoolandaidentity_tversky.pth')\n",
    "\t\tprint('Best IoU improved. Model saved.')\n",
    "\t\t\n",
    "# display the total time needed to perform the training \n",
    "endTime = time.time()\n",
    "print(\"[INFO] total time taken to train the model: {:.2f}s\".format(endTime - startTime))\n",
    "print(f'Best IoU is: {bestIoU:.5f}')"
   ]
  },
  {
   "cell_type": "code",
   "execution_count": 13,
   "metadata": {},
   "outputs": [
    {
     "data": {
      "image/png": "[encoded data removed]",
      "text/plain": [
       "<Figure size 1200x400 with 2 Axes>"
      ]
     },
     "metadata": {},
     "output_type": "display_data"
    }
   ],
   "source": [
    "plt.figure(figsize=(12,4))\n",
    "plt.subplot(121)\n",
    "plt.plot(H['train_loss'])\n",
    "plt.plot(H['test_loss'], linestyle='dotted')\n",
    "plt.title('Model loss')\n",
    "plt.ylabel('loss')\n",
    "plt.xlabel('epoch')\n",
    "plt.legend(['train', 'val'], loc='upper right')\n",
    "\n",
    "plt.subplot(122)\n",
    "plt.plot(H['train_IoU'])\n",
    "plt.plot(H['test_IoU'], linestyle='dotted')\n",
    "plt.plot(H['train_DC'])\n",
    "plt.plot(H['test_DC'], linestyle='dotted')\n",
    "plt.title('Model metrics')\n",
    "plt.ylabel('score')\n",
    "plt.xlabel('epoch')\n",
    "\n",
    "plt.legend(['train IoU', 'val IoU', 'train dice', 'val_dice'], loc='lower right')\n",
    "\n",
    "plt.show()"
   ]
  },
  {
   "cell_type": "code",
   "execution_count": 14,
   "metadata": {},
   "outputs": [],
   "source": [
    "def make_prediction(model, image):\n",
    "\timage = torch.Tensor(image).permute((2, 0, 1)).to(DEVICE)\n",
    "\timage = torch.unsqueeze(image, 0)\n",
    "\t# set model to evaluation mode\n",
    "\tmodel.eval()\n",
    "\t# turn off gradient tracking\n",
    "\twith torch.no_grad():\n",
    "\t\tpredMask = model(image)\n",
    "\t\tpredMask = softmax(predMask)\n",
    "\t\tpredMask = torch.squeeze(predMask, 0)\n",
    "\t\tpredMask = predMask.permute((1, 2, 0))\n",
    "\t\tpredMask = predMask.cpu().detach().numpy()\n",
    "\t\tpredMask = np.argmax(predMask, axis=-1)\n",
    "\t\tpredMask = np.expand_dims(predMask, axis=-1)\n",
    "\t\t# filter out the weak predictions and convert them to integers\n",
    "\t\treturn predMask.astype(np.uint8)\n"
   ]
  },
  {
   "cell_type": "code",
   "execution_count": 15,
   "metadata": {},
   "outputs": [],
   "source": [
    "def getPredImg(image_path):     \n",
    "    image = cv2.imread(image_path)\n",
    "    image = image[10:-10, 120:-120,:]\n",
    "    image = resize_with_pad(image, (INPUT_IMAGE_WIDTH, INPUT_IMAGE_HEIGHT))\n",
    "    image = cv2.cvtColor(image, cv2.COLOR_BGR2RGB)\n",
    "    image = image / 255\n",
    "    return image\n",
    "\n",
    "def getPredMask(mask_path):\n",
    "    mask = cv2.imread(mask_path)\n",
    "    mask = mask[10:-10, 120:-120,:]\n",
    "    mask = resize_with_pad(mask, (INPUT_IMAGE_WIDTH, INPUT_IMAGE_HEIGHT), (50, 50, 50))\n",
    "    mask = cv2.cvtColor(mask, cv2.COLOR_BGR2GRAY)\n",
    "    mask = np.expand_dims(mask, axis=-1)\n",
    "    mask = encode_mask(mask)\n",
    "    return mask"
   ]
  },
  {
   "cell_type": "code",
   "execution_count": 16,
   "metadata": {},
   "outputs": [
    {
     "data": {
      "image/png": "[encoded data removed]",
      "text/plain": [
       "<Figure size 1000x1000 with 9 Axes>"
      ]
     },
     "metadata": {},
     "output_type": "display_data"
    }
   ],
   "source": [
    "plt.figure(figsize=(10,10))\n",
    "for i in range(3):    \n",
    "\n",
    "    idx = random.randint(0, len(testImages) -1)\n",
    "    img = getPredImg(testImages[idx])\n",
    "    mask = getPredMask(testMasks[idx])\n",
    "    \n",
    "    plt.subplot(331 + 3*i)\n",
    "    plt.imshow(img)\n",
    "    plt.title('Image')\n",
    "    plt.axis(\"off\")\n",
    "\n",
    "    mask = np.argmax(mask, axis=-1)\n",
    "    mask = np.expand_dims(mask, axis=-1)\n",
    "    plt.subplot(332 + 3*i)\n",
    "    plt.imshow(mask, cmap='magma', norm=plt.Normalize(vmin=0, vmax=12))\n",
    "    plt.title('Mask')\n",
    "    plt.axis(\"off\")\n",
    "\n",
    "    pred = make_prediction(uformer, img)\n",
    "    plt.subplot(333 + 3*i)\n",
    "    plt.imshow(pred, cmap='magma', norm=plt.Normalize(vmin=0, vmax=12))\n",
    "    plt.title('Prediction')\n",
    "    plt.axis(\"off\")\n",
    "\n",
    "plt.show()"
   ]
  },
  {
   "attachments": {},
   "cell_type": "markdown",
   "metadata": {},
   "source": [
    " --- \n",
    " TFG - Alejandro García Mota"
   ]
  }
 ],
 "metadata": {
  "kernelspec": {
   "display_name": "tf-gpu-env",
   "language": "python",
   "name": "python3"
  },
  "language_info": {
   "codemirror_mode": {
    "name": "ipython",
    "version": 3
   },
   "file_extension": ".py",
   "mimetype": "text/x-python",
   "name": "python",
   "nbconvert_exporter": "python",
   "pygments_lexer": "ipython3",
   "version": "3.9.16"
  },
  "orig_nbformat": 4,
  "vscode": {
   "interpreter": {
    "hash": "f011f267c79147290789ae68e632b5c2d498cf08b7b2ac60d440d7e076e68725"
   }
  }
 },
 "nbformat": 4,
 "nbformat_minor": 2
}
