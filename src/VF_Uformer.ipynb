{
 "cells": [
  {
   "attachments": {},
   "cell_type": "markdown",
   "metadata": {},
   "source": [
    "# Deep Learning: Endoscopy segmentation.\n",
    "[Dataset](https://www.kaggle.com/datasets/newslab/cholecseg8k?resource=download)"
   ]
  },
  {
   "cell_type": "code",
   "execution_count": 1,
   "metadata": {},
   "outputs": [],
   "source": [
    "import os\n",
    "\n",
    "os.environ[\"CUBLAS_WORKSPACE_CONFIG\"]=\":4096:8\""
   ]
  },
  {
   "cell_type": "code",
   "execution_count": 2,
   "metadata": {},
   "outputs": [],
   "source": [
    "import torch\n",
    "from glob import glob\n",
    "import numpy as np\n",
    "import time\n",
    "import matplotlib.pyplot as plt\n",
    "from torch.utils.data import Dataset\n",
    "import cv2\n",
    "import random\n",
    "from Uformer import model\n",
    "from losses import losses\n",
    "from sklearn.model_selection import train_test_split\n",
    "from tqdm import tqdm"
   ]
  },
  {
   "cell_type": "code",
   "execution_count": 3,
   "metadata": {},
   "outputs": [
    {
     "data": {
      "text/plain": [
       "(True, 'NVIDIA GeForce RTX 2060 SUPER')"
      ]
     },
     "execution_count": 3,
     "metadata": {},
     "output_type": "execute_result"
    }
   ],
   "source": [
    "torch.cuda.is_available(), torch.cuda.get_device_name(0)"
   ]
  },
  {
   "cell_type": "code",
   "execution_count": 4,
   "metadata": {},
   "outputs": [],
   "source": [
    "SEED = 33\n",
    "random.seed(SEED)\n",
    "np.random.seed(SEED)\n",
    "torch.manual_seed(SEED)\n",
    "torch.cuda.manual_seed_all(SEED)\n",
    "torch.use_deterministic_algorithms(True)"
   ]
  },
  {
   "cell_type": "code",
   "execution_count": 5,
   "metadata": {},
   "outputs": [],
   "source": [
    "# determine the device to be used for training and evaluation\n",
    "DEVICE = \"cuda\" if torch.cuda.is_available() else \"cpu\"\n",
    "# determine if we will be pinning memory during data loading\n",
    "PIN_MEMORY = True if DEVICE == \"cuda\" else False\n",
    "\n",
    "NUM_CLASSES = 7\n",
    "# initialize learning rate, number of epochs to train for, and the\n",
    "# batch size\n",
    "INIT_LR = 1e-3\n",
    "NUM_EPOCHS = 100\n",
    "BATCH_SIZE = 32\n",
    "# define the input image dimensions\n",
    "INPUT_IMAGE_WIDTH = 64\n",
    "INPUT_IMAGE_HEIGHT = 64"
   ]
  },
  {
   "attachments": {},
   "cell_type": "markdown",
   "metadata": {},
   "source": [
    "## Data preparation."
   ]
  },
  {
   "cell_type": "code",
   "execution_count": 6,
   "metadata": {},
   "outputs": [
    {
     "name": "stdout",
     "output_type": "stream",
     "text": [
      "Number of samples: 536\n"
     ]
    }
   ],
   "source": [
    "IMAGE_DATASET_PATH = glob('../../vocalfolds/img/*/*/*.png')\n",
    "MASK_DATASET_PATH  = glob('../../vocalfolds/annot/*/*/*.png')\n",
    "                          \n",
    "N = len(IMAGE_DATASET_PATH)\n",
    "assert len(IMAGE_DATASET_PATH) == len(MASK_DATASET_PATH)\n",
    "\n",
    "print(f'Number of samples: {str(len(MASK_DATASET_PATH))}')"
   ]
  },
  {
   "cell_type": "code",
   "execution_count": 7,
   "metadata": {},
   "outputs": [],
   "source": [
    "# https://gist.github.com/IdeaKing/11cf5e146d23c5bb219ba3508cca89ec\n",
    "def resize_with_pad(image: np.array, \n",
    "                    new_shape, \n",
    "                    padding_color = (0, 0, 0)) -> np.array:\n",
    "    \"\"\"Maintains aspect ratio and resizes with padding.\n",
    "    Params:\n",
    "        image: Image to be resized.\n",
    "        new_shape: Expected (width, height) of new image.\n",
    "        padding_color: Tuple in BGR of padding color\n",
    "    Returns:\n",
    "        image: Resized image with padding\n",
    "    \"\"\"\n",
    "    original_shape = (image.shape[1], image.shape[0])\n",
    "    ratio = float(max(new_shape))/max(original_shape)\n",
    "    new_size = tuple([int(x*ratio) for x in original_shape])\n",
    "    image = cv2.resize(image, new_size, interpolation=cv2.INTER_NEAREST)\n",
    "    delta_w = new_shape[0] - new_size[0]\n",
    "    delta_h = new_shape[1] - new_size[1]\n",
    "    top, bottom = delta_h//2, delta_h-(delta_h//2)\n",
    "    left, right = delta_w//2, delta_w-(delta_w//2)\n",
    "    image = cv2.copyMakeBorder(image, top, bottom, left, right, cv2.BORDER_CONSTANT, value=padding_color)\n",
    "    return image"
   ]
  },
  {
   "cell_type": "code",
   "execution_count": 8,
   "metadata": {},
   "outputs": [],
   "source": [
    "def to_categorical(y, num_classes=None, dtype=\"float32\"):\n",
    "\ty = np.array(y, dtype=\"int\")\n",
    "\tinput_shape = y.shape\n",
    "\n",
    "\t# Shrink the last dimension if the shape is (..., 1).\n",
    "\tif input_shape and input_shape[-1] == 1 and len(input_shape) > 1:\n",
    "\t\tinput_shape = tuple(input_shape[:-1])\n",
    "\n",
    "\ty = y.reshape(-1)\n",
    "\tif not num_classes:\n",
    "\t\tnum_classes = np.max(y) + 1\n",
    "\tn = y.shape[0]\n",
    "\tcategorical = np.zeros((n, num_classes), dtype=dtype)\n",
    "\tcategorical[np.arange(n), y] = 1\n",
    "\toutput_shape = input_shape + (num_classes,)\n",
    "\tcategorical = np.reshape(categorical, output_shape)\n",
    "\treturn categorical\n",
    "\n",
    "labels = [[0],[1],[2],[3],[4],[5],[6]]\n",
    "def encode_mask(masks_arr, n_classes=NUM_CLASSES, H=INPUT_IMAGE_HEIGHT, W=INPUT_IMAGE_WIDTH, labels_arr=labels):\n",
    "    y_encoded = np.zeros((H, W, 1), dtype=np.uint8)\n",
    "\n",
    "    for i, label in enumerate(labels_arr):\n",
    "        y_encoded[np.all(label == masks_arr, axis=-1)] = i\n",
    "    \n",
    "    return to_categorical(y_encoded, num_classes=n_classes)\n",
    "\n",
    "class SegmentationDataset(Dataset):\n",
    "\tdef __init__(self, imagePaths, maskPaths):\n",
    "\t\t# store the image and mask filepaths, and augmentation\n",
    "\t\t# transforms\n",
    "\t\tself.imagePaths = imagePaths\n",
    "\t\tself.maskPaths = maskPaths\n",
    "\n",
    "\tdef __len__(self):\n",
    "\t\t# return the number of total samples contained in the dataset\n",
    "\t\treturn len(self.imagePaths)\n",
    "\t\n",
    "\tdef __getitem__(self, idx):\n",
    "\t\t# grab the image path from the current index\n",
    "\t\timagePath = self.imagePaths[idx]\n",
    "\t\t# load the image from disk, swap its channels from BGR to RGB,\n",
    "\t\t# and read the associated mask from disk in grayscale mode\n",
    "\t\timage = cv2.imread(imagePath)\n",
    "\t\timage = resize_with_pad(image, (INPUT_IMAGE_WIDTH, INPUT_IMAGE_HEIGHT))\n",
    "\t\timage = cv2.cvtColor(image, cv2.COLOR_BGR2RGB)\n",
    "\t\timage = image / 255\n",
    "\t\timage = torch.from_numpy(np.float32(image))\n",
    "\t\timage = image.permute(2,0,1)\n",
    "\n",
    "\t\tmask = cv2.imread(self.maskPaths[idx])\n",
    "\t\tmask = resize_with_pad(mask, (INPUT_IMAGE_WIDTH, INPUT_IMAGE_HEIGHT), (0, 0, 0))\n",
    "\t\tmask = cv2.cvtColor(mask, cv2.COLOR_BGR2GRAY)\n",
    "\t\tmask = np.expand_dims(mask, axis=-1)\n",
    "\t\tmask = encode_mask(mask)\n",
    "\t\tmask = torch.from_numpy(np.float32(mask))\n",
    "\t\tmask = mask.permute(2,0,1)\n",
    "\n",
    "\t\tassert image.shape == (3, INPUT_IMAGE_HEIGHT, INPUT_IMAGE_WIDTH), f\"Bad image shape {image.shape}\"\n",
    "\t\tassert mask.shape == (NUM_CLASSES, INPUT_IMAGE_HEIGHT, INPUT_IMAGE_WIDTH), f\"Bad mask shape {mask.shape}\"\n",
    "\n",
    "\t\t# return a tuple of the image and its mask\n",
    "\t\treturn image, mask"
   ]
  },
  {
   "cell_type": "code",
   "execution_count": 9,
   "metadata": {},
   "outputs": [
    {
     "name": "stderr",
     "output_type": "stream",
     "text": [
      "c:\\Users\\alexg\\miniconda3\\envs\\pytorch-gpu\\lib\\site-packages\\torch\\functional.py:504: UserWarning: torch.meshgrid: in an upcoming release, it will be required to pass the indexing argument. (Triggered internally at C:\\cb\\pytorch_1000000000000\\work\\aten\\src\\ATen\\native\\TensorShape.cpp:3484.)\n",
      "  return _VF.meshgrid(tensors, **kwargs)  # type: ignore[attr-defined]\n"
     ]
    }
   ],
   "source": [
    "uformer = model.Uformer(img_size=INPUT_IMAGE_HEIGHT,in_chans=NUM_CLASSES, embed_dim=16, win_size=8, token_projection='linear', token_mlp='leff',modulator=True)\n",
    "trainImages, testImages, trainMasks, testMasks = train_test_split(IMAGE_DATASET_PATH, MASK_DATASET_PATH, test_size=0.2, random_state=43)"
   ]
  },
  {
   "cell_type": "code",
   "execution_count": 10,
   "metadata": {},
   "outputs": [
    {
     "name": "stdout",
     "output_type": "stream",
     "text": [
      "[INFO] found 428 examples in the training set...\n",
      "[INFO] found 108 examples in the test set...\n"
     ]
    }
   ],
   "source": [
    "# define transformations\n",
    "from torch.utils.data import DataLoader\n",
    "\n",
    "# create the train and test datasets\n",
    "trainDS = SegmentationDataset(imagePaths=trainImages, maskPaths=trainMasks)\n",
    "testDS = SegmentationDataset(imagePaths=testImages, maskPaths=testMasks)\n",
    "print(f\"[INFO] found {len(trainDS)} examples in the training set...\")\n",
    "print(f\"[INFO] found {len(testDS)} examples in the test set...\")\n",
    "# create the training and test data loaders\n",
    "num_workers = 4\n",
    "def seed_worker(worker_id):\n",
    "    worker_seed = torch.initial_seed() % 2**32\n",
    "    np.random.seed(worker_seed)\n",
    "    random.seed(worker_seed)\n",
    "\n",
    "g = torch.Generator()\n",
    "g.manual_seed(0)\n",
    "\n",
    "trainLoader = DataLoader(\n",
    "\ttrainDS, \n",
    "\tshuffle=True,\n",
    "\tbatch_size=BATCH_SIZE, \n",
    "\tpin_memory=PIN_MEMORY,\n",
    "    worker_init_fn=seed_worker,\n",
    "    generator=g\n",
    ")\n",
    "testLoader = DataLoader(\n",
    "\ttestDS, shuffle=False,\n",
    "\tbatch_size=BATCH_SIZE, \n",
    "\tpin_memory=PIN_MEMORY,\n",
    "    worker_init_fn=seed_worker,\n",
    "    generator=g\n",
    ")"
   ]
  },
  {
   "cell_type": "code",
   "execution_count": 11,
   "metadata": {},
   "outputs": [],
   "source": [
    "uformer = uformer.to(DEVICE)\n",
    "softmax = torch.nn.Softmax(1)\n",
    "# initialize loss function and optimizer\n",
    "lossFunc = losses.CombinedLoss().cuda()\n",
    "opt = torch.optim.Adam(uformer.parameters(), lr=INIT_LR, betas=(0.9, 0.999),eps=1e-8, weight_decay=1e-5)\n",
    "iouMetric = losses.MeanIoU().cuda()\n",
    "gdlMetric = losses.DiceCoeficient().cuda()\n",
    "# calculate steps per epoch for training and test set\n",
    "trainSteps = len(trainDS) // BATCH_SIZE + 1\n",
    "testSteps = len(testDS) // BATCH_SIZE + 1\n",
    "# initialize a dictionary to store training history\n",
    "H = {\"train_loss\": [], \"test_loss\": [], \"train_IoU\": [], \"test_IoU\": [],\"train_DC\": [], \"test_DC\": []}"
   ]
  },
  {
   "cell_type": "code",
   "execution_count": 12,
   "metadata": {},
   "outputs": [
    {
     "name": "stdout",
     "output_type": "stream",
     "text": [
      "[INFO] training the network...\n"
     ]
    },
    {
     "name": "stderr",
     "output_type": "stream",
     "text": [
      "100%|██████████| 14/14 [00:07<00:00,  1.85it/s]\n"
     ]
    },
    {
     "name": "stdout",
     "output_type": "stream",
     "text": [
      "[INFO] EPOCH: 1/100\n",
      "Train loss: 2.831437, Test loss: 2.8129, Train IoU: 0.2084, Test IoU: 0.2063, Train Dice: 0.2977, Test Dice: 0.3395\n",
      "Best IoU improved. Model saved.\n"
     ]
    },
    {
     "name": "stderr",
     "output_type": "stream",
     "text": [
      "100%|██████████| 14/14 [00:05<00:00,  2.74it/s]\n"
     ]
    },
    {
     "name": "stdout",
     "output_type": "stream",
     "text": [
      "[INFO] EPOCH: 2/100\n",
      "Train loss: 2.793078, Test loss: 2.7839, Train IoU: 0.2224, Test IoU: 0.2254, Train Dice: 0.3568, Test Dice: 0.3488\n",
      "Best IoU improved. Model saved.\n"
     ]
    },
    {
     "name": "stderr",
     "output_type": "stream",
     "text": [
      "100%|██████████| 14/14 [00:05<00:00,  2.71it/s]\n"
     ]
    },
    {
     "name": "stdout",
     "output_type": "stream",
     "text": [
      "[INFO] EPOCH: 3/100\n",
      "Train loss: 2.761087, Test loss: 2.7668, Train IoU: 0.2431, Test IoU: 0.2418, Train Dice: 0.3798, Test Dice: 0.3777\n",
      "Best IoU improved. Model saved.\n"
     ]
    },
    {
     "name": "stderr",
     "output_type": "stream",
     "text": [
      "100%|██████████| 14/14 [00:05<00:00,  2.72it/s]\n"
     ]
    },
    {
     "name": "stdout",
     "output_type": "stream",
     "text": [
      "[INFO] EPOCH: 4/100\n",
      "Train loss: 2.737859, Test loss: 2.7259, Train IoU: 0.2685, Test IoU: 0.2806, Train Dice: 0.4038, Test Dice: 0.4107\n",
      "Best IoU improved. Model saved.\n"
     ]
    },
    {
     "name": "stderr",
     "output_type": "stream",
     "text": [
      "100%|██████████| 14/14 [00:05<00:00,  2.71it/s]\n"
     ]
    },
    {
     "name": "stdout",
     "output_type": "stream",
     "text": [
      "[INFO] EPOCH: 5/100\n",
      "Train loss: 2.658757, Test loss: 2.6570, Train IoU: 0.3371, Test IoU: 0.3364, Train Dice: 0.4896, Test Dice: 0.4998\n",
      "Best IoU improved. Model saved.\n"
     ]
    },
    {
     "name": "stderr",
     "output_type": "stream",
     "text": [
      "100%|██████████| 14/14 [00:05<00:00,  2.72it/s]\n"
     ]
    },
    {
     "name": "stdout",
     "output_type": "stream",
     "text": [
      "[INFO] EPOCH: 6/100\n",
      "Train loss: 2.600848, Test loss: 2.5704, Train IoU: 0.3900, Test IoU: 0.4201, Train Dice: 0.5576, Test Dice: 0.5881\n",
      "Best IoU improved. Model saved.\n"
     ]
    },
    {
     "name": "stderr",
     "output_type": "stream",
     "text": [
      "100%|██████████| 14/14 [00:05<00:00,  2.73it/s]\n"
     ]
    },
    {
     "name": "stdout",
     "output_type": "stream",
     "text": [
      "[INFO] EPOCH: 7/100\n",
      "Train loss: 2.543907, Test loss: 2.5319, Train IoU: 0.4484, Test IoU: 0.4615, Train Dice: 0.6138, Test Dice: 0.6252\n",
      "Best IoU improved. Model saved.\n"
     ]
    },
    {
     "name": "stderr",
     "output_type": "stream",
     "text": [
      "100%|██████████| 14/14 [00:05<00:00,  2.73it/s]\n"
     ]
    },
    {
     "name": "stdout",
     "output_type": "stream",
     "text": [
      "[INFO] EPOCH: 8/100\n",
      "Train loss: 2.501131, Test loss: 2.4830, Train IoU: 0.4953, Test IoU: 0.5172, Train Dice: 0.6565, Test Dice: 0.6745\n",
      "Best IoU improved. Model saved.\n"
     ]
    },
    {
     "name": "stderr",
     "output_type": "stream",
     "text": [
      "100%|██████████| 14/14 [00:05<00:00,  2.73it/s]\n"
     ]
    },
    {
     "name": "stdout",
     "output_type": "stream",
     "text": [
      "[INFO] EPOCH: 9/100\n",
      "Train loss: 2.472083, Test loss: 2.4845, Train IoU: 0.5288, Test IoU: 0.5140, Train Dice: 0.6857, Test Dice: 0.6738\n"
     ]
    },
    {
     "name": "stderr",
     "output_type": "stream",
     "text": [
      "100%|██████████| 14/14 [00:05<00:00,  2.76it/s]\n"
     ]
    },
    {
     "name": "stdout",
     "output_type": "stream",
     "text": [
      "[INFO] EPOCH: 10/100\n",
      "Train loss: 2.462497, Test loss: 2.4541, Train IoU: 0.5398, Test IoU: 0.5498, Train Dice: 0.6961, Test Dice: 0.7046\n",
      "Best IoU improved. Model saved.\n"
     ]
    },
    {
     "name": "stderr",
     "output_type": "stream",
     "text": [
      "100%|██████████| 14/14 [00:05<00:00,  2.67it/s]\n"
     ]
    },
    {
     "name": "stdout",
     "output_type": "stream",
     "text": [
      "[INFO] EPOCH: 11/100\n",
      "Train loss: 2.454077, Test loss: 2.4393, Train IoU: 0.5494, Test IoU: 0.5675, Train Dice: 0.7041, Test Dice: 0.7206\n",
      "Best IoU improved. Model saved.\n"
     ]
    },
    {
     "name": "stderr",
     "output_type": "stream",
     "text": [
      "100%|██████████| 14/14 [00:05<00:00,  2.72it/s]\n"
     ]
    },
    {
     "name": "stdout",
     "output_type": "stream",
     "text": [
      "[INFO] EPOCH: 12/100\n",
      "Train loss: 2.431913, Test loss: 2.4233, Train IoU: 0.5773, Test IoU: 0.5880, Train Dice: 0.7265, Test Dice: 0.7365\n",
      "Best IoU improved. Model saved.\n"
     ]
    },
    {
     "name": "stderr",
     "output_type": "stream",
     "text": [
      "100%|██████████| 14/14 [00:05<00:00,  2.69it/s]\n"
     ]
    },
    {
     "name": "stdout",
     "output_type": "stream",
     "text": [
      "[INFO] EPOCH: 13/100\n",
      "Train loss: 2.408186, Test loss: 2.4005, Train IoU: 0.6081, Test IoU: 0.6190, Train Dice: 0.7506, Test Dice: 0.7572\n",
      "Best IoU improved. Model saved.\n"
     ]
    },
    {
     "name": "stderr",
     "output_type": "stream",
     "text": [
      "100%|██████████| 14/14 [00:05<00:00,  2.70it/s]\n"
     ]
    },
    {
     "name": "stdout",
     "output_type": "stream",
     "text": [
      "[INFO] EPOCH: 14/100\n",
      "Train loss: 2.389627, Test loss: 2.3900, Train IoU: 0.6327, Test IoU: 0.6329, Train Dice: 0.7689, Test Dice: 0.7689\n",
      "Best IoU improved. Model saved.\n"
     ]
    },
    {
     "name": "stderr",
     "output_type": "stream",
     "text": [
      "100%|██████████| 14/14 [00:05<00:00,  2.69it/s]\n"
     ]
    },
    {
     "name": "stdout",
     "output_type": "stream",
     "text": [
      "[INFO] EPOCH: 15/100\n",
      "Train loss: 2.383172, Test loss: 2.3889, Train IoU: 0.6413, Test IoU: 0.6337, Train Dice: 0.7758, Test Dice: 0.7701\n",
      "Best IoU improved. Model saved.\n"
     ]
    },
    {
     "name": "stderr",
     "output_type": "stream",
     "text": [
      "100%|██████████| 14/14 [00:05<00:00,  2.69it/s]\n"
     ]
    },
    {
     "name": "stdout",
     "output_type": "stream",
     "text": [
      "[INFO] EPOCH: 16/100\n",
      "Train loss: 2.376810, Test loss: 2.3744, Train IoU: 0.6501, Test IoU: 0.6541, Train Dice: 0.7825, Test Dice: 0.7845\n",
      "Best IoU improved. Model saved.\n"
     ]
    },
    {
     "name": "stderr",
     "output_type": "stream",
     "text": [
      "100%|██████████| 14/14 [00:05<00:00,  2.69it/s]\n"
     ]
    },
    {
     "name": "stdout",
     "output_type": "stream",
     "text": [
      "[INFO] EPOCH: 17/100\n",
      "Train loss: 2.360540, Test loss: 2.3617, Train IoU: 0.6735, Test IoU: 0.6710, Train Dice: 0.7988, Test Dice: 0.7988\n",
      "Best IoU improved. Model saved.\n"
     ]
    },
    {
     "name": "stderr",
     "output_type": "stream",
     "text": [
      "100%|██████████| 14/14 [00:05<00:00,  2.65it/s]\n"
     ]
    },
    {
     "name": "stdout",
     "output_type": "stream",
     "text": [
      "[INFO] EPOCH: 18/100\n",
      "Train loss: 2.348908, Test loss: 2.3802, Train IoU: 0.6896, Test IoU: 0.6459, Train Dice: 0.8109, Test Dice: 0.7796\n"
     ]
    },
    {
     "name": "stderr",
     "output_type": "stream",
     "text": [
      "100%|██████████| 14/14 [00:05<00:00,  2.68it/s]\n"
     ]
    },
    {
     "name": "stdout",
     "output_type": "stream",
     "text": [
      "[INFO] EPOCH: 19/100\n",
      "Train loss: 2.347184, Test loss: 2.3683, Train IoU: 0.6918, Test IoU: 0.6610, Train Dice: 0.8128, Test Dice: 0.7922\n"
     ]
    },
    {
     "name": "stderr",
     "output_type": "stream",
     "text": [
      "100%|██████████| 14/14 [00:05<00:00,  2.67it/s]\n"
     ]
    },
    {
     "name": "stdout",
     "output_type": "stream",
     "text": [
      "[INFO] EPOCH: 20/100\n",
      "Train loss: 2.337162, Test loss: 2.3446, Train IoU: 0.7063, Test IoU: 0.6952, Train Dice: 0.8231, Test Dice: 0.8160\n",
      "Best IoU improved. Model saved.\n"
     ]
    },
    {
     "name": "stderr",
     "output_type": "stream",
     "text": [
      "100%|██████████| 14/14 [00:05<00:00,  2.69it/s]\n"
     ]
    },
    {
     "name": "stdout",
     "output_type": "stream",
     "text": [
      "[INFO] EPOCH: 21/100\n",
      "Train loss: 2.323097, Test loss: 2.3369, Train IoU: 0.7270, Test IoU: 0.7069, Train Dice: 0.8376, Test Dice: 0.8240\n",
      "Best IoU improved. Model saved.\n"
     ]
    },
    {
     "name": "stderr",
     "output_type": "stream",
     "text": [
      "100%|██████████| 14/14 [00:05<00:00,  2.70it/s]\n"
     ]
    },
    {
     "name": "stdout",
     "output_type": "stream",
     "text": [
      "[INFO] EPOCH: 22/100\n",
      "Train loss: 2.318988, Test loss: 2.3476, Train IoU: 0.7330, Test IoU: 0.6909, Train Dice: 0.8418, Test Dice: 0.8131\n"
     ]
    },
    {
     "name": "stderr",
     "output_type": "stream",
     "text": [
      "100%|██████████| 14/14 [00:05<00:00,  2.68it/s]\n"
     ]
    },
    {
     "name": "stdout",
     "output_type": "stream",
     "text": [
      "[INFO] EPOCH: 23/100\n",
      "Train loss: 2.326112, Test loss: 2.3424, Train IoU: 0.7226, Test IoU: 0.6974, Train Dice: 0.8348, Test Dice: 0.8186\n"
     ]
    },
    {
     "name": "stderr",
     "output_type": "stream",
     "text": [
      "100%|██████████| 14/14 [00:05<00:00,  2.69it/s]\n"
     ]
    },
    {
     "name": "stdout",
     "output_type": "stream",
     "text": [
      "[INFO] EPOCH: 24/100\n",
      "Train loss: 2.319477, Test loss: 2.3336, Train IoU: 0.7320, Test IoU: 0.7106, Train Dice: 0.8417, Test Dice: 0.8275\n",
      "Best IoU improved. Model saved.\n"
     ]
    },
    {
     "name": "stderr",
     "output_type": "stream",
     "text": [
      "100%|██████████| 14/14 [00:05<00:00,  2.70it/s]\n"
     ]
    },
    {
     "name": "stdout",
     "output_type": "stream",
     "text": [
      "[INFO] EPOCH: 25/100\n",
      "Train loss: 2.308089, Test loss: 2.3297, Train IoU: 0.7498, Test IoU: 0.7169, Train Dice: 0.8532, Test Dice: 0.8314\n",
      "Best IoU improved. Model saved.\n"
     ]
    },
    {
     "name": "stderr",
     "output_type": "stream",
     "text": [
      "100%|██████████| 14/14 [00:05<00:00,  2.67it/s]\n"
     ]
    },
    {
     "name": "stdout",
     "output_type": "stream",
     "text": [
      "[INFO] EPOCH: 26/100\n",
      "Train loss: 2.296727, Test loss: 2.3213, Train IoU: 0.7670, Test IoU: 0.7297, Train Dice: 0.8648, Test Dice: 0.8401\n",
      "Best IoU improved. Model saved.\n"
     ]
    },
    {
     "name": "stderr",
     "output_type": "stream",
     "text": [
      "100%|██████████| 14/14 [00:05<00:00,  2.66it/s]\n"
     ]
    },
    {
     "name": "stdout",
     "output_type": "stream",
     "text": [
      "[INFO] EPOCH: 27/100\n",
      "Train loss: 2.291353, Test loss: 2.3179, Train IoU: 0.7758, Test IoU: 0.7340, Train Dice: 0.8703, Test Dice: 0.8436\n",
      "Best IoU improved. Model saved.\n"
     ]
    },
    {
     "name": "stderr",
     "output_type": "stream",
     "text": [
      "100%|██████████| 14/14 [00:05<00:00,  2.68it/s]\n"
     ]
    },
    {
     "name": "stdout",
     "output_type": "stream",
     "text": [
      "[INFO] EPOCH: 28/100\n",
      "Train loss: 2.286334, Test loss: 2.3046, Train IoU: 0.7840, Test IoU: 0.7545, Train Dice: 0.8754, Test Dice: 0.8570\n",
      "Best IoU improved. Model saved.\n"
     ]
    },
    {
     "name": "stderr",
     "output_type": "stream",
     "text": [
      "100%|██████████| 14/14 [00:05<00:00,  2.66it/s]\n"
     ]
    },
    {
     "name": "stdout",
     "output_type": "stream",
     "text": [
      "[INFO] EPOCH: 29/100\n",
      "Train loss: 2.284325, Test loss: 2.3077, Train IoU: 0.7872, Test IoU: 0.7500, Train Dice: 0.8774, Test Dice: 0.8540\n"
     ]
    },
    {
     "name": "stderr",
     "output_type": "stream",
     "text": [
      "100%|██████████| 14/14 [00:05<00:00,  2.67it/s]\n"
     ]
    },
    {
     "name": "stdout",
     "output_type": "stream",
     "text": [
      "[INFO] EPOCH: 30/100\n",
      "Train loss: 2.281478, Test loss: 2.3005, Train IoU: 0.7913, Test IoU: 0.7608, Train Dice: 0.8805, Test Dice: 0.8613\n",
      "Best IoU improved. Model saved.\n"
     ]
    },
    {
     "name": "stderr",
     "output_type": "stream",
     "text": [
      "100%|██████████| 14/14 [00:05<00:00,  2.67it/s]\n"
     ]
    },
    {
     "name": "stdout",
     "output_type": "stream",
     "text": [
      "[INFO] EPOCH: 31/100\n",
      "Train loss: 2.275135, Test loss: 2.3043, Train IoU: 0.8016, Test IoU: 0.7551, Train Dice: 0.8870, Test Dice: 0.8575\n"
     ]
    },
    {
     "name": "stderr",
     "output_type": "stream",
     "text": [
      "100%|██████████| 14/14 [00:05<00:00,  2.69it/s]\n"
     ]
    },
    {
     "name": "stdout",
     "output_type": "stream",
     "text": [
      "[INFO] EPOCH: 32/100\n",
      "Train loss: 2.277631, Test loss: 2.3026, Train IoU: 0.7975, Test IoU: 0.7575, Train Dice: 0.8844, Test Dice: 0.8595\n"
     ]
    },
    {
     "name": "stderr",
     "output_type": "stream",
     "text": [
      "100%|██████████| 14/14 [00:05<00:00,  2.70it/s]\n"
     ]
    },
    {
     "name": "stdout",
     "output_type": "stream",
     "text": [
      "[INFO] EPOCH: 33/100\n",
      "Train loss: 2.271238, Test loss: 2.2960, Train IoU: 0.8080, Test IoU: 0.7679, Train Dice: 0.8910, Test Dice: 0.8660\n",
      "Best IoU improved. Model saved.\n"
     ]
    },
    {
     "name": "stderr",
     "output_type": "stream",
     "text": [
      "100%|██████████| 14/14 [00:05<00:00,  2.65it/s]\n"
     ]
    },
    {
     "name": "stdout",
     "output_type": "stream",
     "text": [
      "[INFO] EPOCH: 34/100\n",
      "Train loss: 2.270018, Test loss: 2.3002, Train IoU: 0.8103, Test IoU: 0.7614, Train Dice: 0.8922, Test Dice: 0.8620\n"
     ]
    },
    {
     "name": "stderr",
     "output_type": "stream",
     "text": [
      "100%|██████████| 14/14 [00:05<00:00,  2.71it/s]\n"
     ]
    },
    {
     "name": "stdout",
     "output_type": "stream",
     "text": [
      "[INFO] EPOCH: 35/100\n",
      "Train loss: 2.265135, Test loss: 2.2940, Train IoU: 0.8183, Test IoU: 0.7712, Train Dice: 0.8972, Test Dice: 0.8682\n",
      "Best IoU improved. Model saved.\n"
     ]
    },
    {
     "name": "stderr",
     "output_type": "stream",
     "text": [
      "100%|██████████| 14/14 [00:05<00:00,  2.67it/s]\n"
     ]
    },
    {
     "name": "stdout",
     "output_type": "stream",
     "text": [
      "[INFO] EPOCH: 36/100\n",
      "Train loss: 2.259665, Test loss: 2.2871, Train IoU: 0.8274, Test IoU: 0.7821, Train Dice: 0.9028, Test Dice: 0.8752\n",
      "Best IoU improved. Model saved.\n"
     ]
    },
    {
     "name": "stderr",
     "output_type": "stream",
     "text": [
      "100%|██████████| 14/14 [00:05<00:00,  2.71it/s]\n"
     ]
    },
    {
     "name": "stdout",
     "output_type": "stream",
     "text": [
      "[INFO] EPOCH: 37/100\n",
      "Train loss: 2.257740, Test loss: 2.2865, Train IoU: 0.8305, Test IoU: 0.7830, Train Dice: 0.9048, Test Dice: 0.8759\n",
      "Best IoU improved. Model saved.\n"
     ]
    },
    {
     "name": "stderr",
     "output_type": "stream",
     "text": [
      "100%|██████████| 14/14 [00:05<00:00,  2.68it/s]\n"
     ]
    },
    {
     "name": "stdout",
     "output_type": "stream",
     "text": [
      "[INFO] EPOCH: 38/100\n",
      "Train loss: 2.259459, Test loss: 2.2853, Train IoU: 0.8277, Test IoU: 0.7849, Train Dice: 0.9030, Test Dice: 0.8771\n",
      "Best IoU improved. Model saved.\n"
     ]
    },
    {
     "name": "stderr",
     "output_type": "stream",
     "text": [
      "100%|██████████| 14/14 [00:05<00:00,  2.69it/s]\n"
     ]
    },
    {
     "name": "stdout",
     "output_type": "stream",
     "text": [
      "[INFO] EPOCH: 39/100\n",
      "Train loss: 2.257784, Test loss: 2.2874, Train IoU: 0.8304, Test IoU: 0.7815, Train Dice: 0.9049, Test Dice: 0.8751\n"
     ]
    },
    {
     "name": "stderr",
     "output_type": "stream",
     "text": [
      "100%|██████████| 14/14 [00:05<00:00,  2.68it/s]\n"
     ]
    },
    {
     "name": "stdout",
     "output_type": "stream",
     "text": [
      "[INFO] EPOCH: 40/100\n",
      "Train loss: 2.265452, Test loss: 2.2978, Train IoU: 0.8174, Test IoU: 0.7649, Train Dice: 0.8971, Test Dice: 0.8646\n"
     ]
    },
    {
     "name": "stderr",
     "output_type": "stream",
     "text": [
      "100%|██████████| 14/14 [00:05<00:00,  2.63it/s]\n"
     ]
    },
    {
     "name": "stdout",
     "output_type": "stream",
     "text": [
      "[INFO] EPOCH: 41/100\n",
      "Train loss: 2.263919, Test loss: 2.2878, Train IoU: 0.8196, Test IoU: 0.7810, Train Dice: 0.8987, Test Dice: 0.8748\n"
     ]
    },
    {
     "name": "stderr",
     "output_type": "stream",
     "text": [
      "100%|██████████| 14/14 [00:05<00:00,  2.68it/s]\n"
     ]
    },
    {
     "name": "stdout",
     "output_type": "stream",
     "text": [
      "[INFO] EPOCH: 42/100\n",
      "Train loss: 2.259556, Test loss: 2.2855, Train IoU: 0.8269, Test IoU: 0.7846, Train Dice: 0.9033, Test Dice: 0.8771\n"
     ]
    },
    {
     "name": "stderr",
     "output_type": "stream",
     "text": [
      "100%|██████████| 14/14 [00:05<00:00,  2.68it/s]\n"
     ]
    },
    {
     "name": "stdout",
     "output_type": "stream",
     "text": [
      "[INFO] EPOCH: 43/100\n",
      "Train loss: 2.256174, Test loss: 2.2821, Train IoU: 0.8327, Test IoU: 0.7901, Train Dice: 0.9067, Test Dice: 0.8806\n",
      "Best IoU improved. Model saved.\n"
     ]
    },
    {
     "name": "stderr",
     "output_type": "stream",
     "text": [
      "100%|██████████| 14/14 [00:05<00:00,  2.70it/s]\n"
     ]
    },
    {
     "name": "stdout",
     "output_type": "stream",
     "text": [
      "[INFO] EPOCH: 44/100\n",
      "Train loss: 2.254362, Test loss: 2.2837, Train IoU: 0.8357, Test IoU: 0.7873, Train Dice: 0.9085, Test Dice: 0.8790\n"
     ]
    },
    {
     "name": "stderr",
     "output_type": "stream",
     "text": [
      "100%|██████████| 14/14 [00:05<00:00,  2.70it/s]\n"
     ]
    },
    {
     "name": "stdout",
     "output_type": "stream",
     "text": [
      "[INFO] EPOCH: 45/100\n",
      "Train loss: 2.251585, Test loss: 2.2769, Train IoU: 0.8407, Test IoU: 0.7981, Train Dice: 0.9113, Test Dice: 0.8858\n",
      "Best IoU improved. Model saved.\n"
     ]
    },
    {
     "name": "stderr",
     "output_type": "stream",
     "text": [
      "100%|██████████| 14/14 [00:05<00:00,  2.68it/s]\n"
     ]
    },
    {
     "name": "stdout",
     "output_type": "stream",
     "text": [
      "[INFO] EPOCH: 46/100\n",
      "Train loss: 2.246610, Test loss: 2.2776, Train IoU: 0.8492, Test IoU: 0.7972, Train Dice: 0.9164, Test Dice: 0.8852\n"
     ]
    },
    {
     "name": "stderr",
     "output_type": "stream",
     "text": [
      "100%|██████████| 14/14 [00:05<00:00,  2.65it/s]\n"
     ]
    },
    {
     "name": "stdout",
     "output_type": "stream",
     "text": [
      "[INFO] EPOCH: 47/100\n",
      "Train loss: 2.245723, Test loss: 2.2758, Train IoU: 0.8507, Test IoU: 0.8004, Train Dice: 0.9173, Test Dice: 0.8869\n",
      "Best IoU improved. Model saved.\n"
     ]
    },
    {
     "name": "stderr",
     "output_type": "stream",
     "text": [
      "100%|██████████| 14/14 [00:05<00:00,  2.67it/s]\n"
     ]
    },
    {
     "name": "stdout",
     "output_type": "stream",
     "text": [
      "[INFO] EPOCH: 48/100\n",
      "Train loss: 2.249455, Test loss: 2.2814, Train IoU: 0.8441, Test IoU: 0.7907, Train Dice: 0.9135, Test Dice: 0.8814\n"
     ]
    },
    {
     "name": "stderr",
     "output_type": "stream",
     "text": [
      "100%|██████████| 14/14 [00:05<00:00,  2.69it/s]\n"
     ]
    },
    {
     "name": "stdout",
     "output_type": "stream",
     "text": [
      "[INFO] EPOCH: 49/100\n",
      "Train loss: 2.246142, Test loss: 2.2801, Train IoU: 0.8501, Test IoU: 0.7932, Train Dice: 0.9169, Test Dice: 0.8828\n"
     ]
    },
    {
     "name": "stderr",
     "output_type": "stream",
     "text": [
      "100%|██████████| 14/14 [00:05<00:00,  2.67it/s]\n"
     ]
    },
    {
     "name": "stdout",
     "output_type": "stream",
     "text": [
      "[INFO] EPOCH: 50/100\n",
      "Train loss: 2.244060, Test loss: 2.2749, Train IoU: 0.8536, Test IoU: 0.8015, Train Dice: 0.9190, Test Dice: 0.8880\n",
      "Best IoU improved. Model saved.\n"
     ]
    },
    {
     "name": "stderr",
     "output_type": "stream",
     "text": [
      "100%|██████████| 14/14 [00:05<00:00,  2.67it/s]\n"
     ]
    },
    {
     "name": "stdout",
     "output_type": "stream",
     "text": [
      "[INFO] EPOCH: 51/100\n",
      "Train loss: 2.244219, Test loss: 2.2742, Train IoU: 0.8532, Test IoU: 0.8026, Train Dice: 0.9190, Test Dice: 0.8888\n",
      "Best IoU improved. Model saved.\n"
     ]
    },
    {
     "name": "stderr",
     "output_type": "stream",
     "text": [
      "100%|██████████| 14/14 [00:05<00:00,  2.67it/s]\n"
     ]
    },
    {
     "name": "stdout",
     "output_type": "stream",
     "text": [
      "[INFO] EPOCH: 52/100\n",
      "Train loss: 2.241483, Test loss: 2.2720, Train IoU: 0.8579, Test IoU: 0.8063, Train Dice: 0.9217, Test Dice: 0.8910\n",
      "Best IoU improved. Model saved.\n"
     ]
    },
    {
     "name": "stderr",
     "output_type": "stream",
     "text": [
      "100%|██████████| 14/14 [00:05<00:00,  2.67it/s]\n"
     ]
    },
    {
     "name": "stdout",
     "output_type": "stream",
     "text": [
      "[INFO] EPOCH: 53/100\n",
      "Train loss: 2.242119, Test loss: 2.2738, Train IoU: 0.8568, Test IoU: 0.8035, Train Dice: 0.9211, Test Dice: 0.8893\n"
     ]
    },
    {
     "name": "stderr",
     "output_type": "stream",
     "text": [
      "100%|██████████| 14/14 [00:05<00:00,  2.69it/s]\n"
     ]
    },
    {
     "name": "stdout",
     "output_type": "stream",
     "text": [
      "[INFO] EPOCH: 54/100\n",
      "Train loss: 2.238770, Test loss: 2.2685, Train IoU: 0.8628, Test IoU: 0.8122, Train Dice: 0.9245, Test Dice: 0.8946\n",
      "Best IoU improved. Model saved.\n"
     ]
    },
    {
     "name": "stderr",
     "output_type": "stream",
     "text": [
      "100%|██████████| 14/14 [00:05<00:00,  2.70it/s]\n"
     ]
    },
    {
     "name": "stdout",
     "output_type": "stream",
     "text": [
      "[INFO] EPOCH: 55/100\n",
      "Train loss: 2.237143, Test loss: 2.2697, Train IoU: 0.8656, Test IoU: 0.8101, Train Dice: 0.9262, Test Dice: 0.8934\n"
     ]
    },
    {
     "name": "stderr",
     "output_type": "stream",
     "text": [
      "100%|██████████| 14/14 [00:05<00:00,  2.64it/s]\n"
     ]
    },
    {
     "name": "stdout",
     "output_type": "stream",
     "text": [
      "[INFO] EPOCH: 56/100\n",
      "Train loss: 2.237504, Test loss: 2.2720, Train IoU: 0.8648, Test IoU: 0.8063, Train Dice: 0.9258, Test Dice: 0.8911\n"
     ]
    },
    {
     "name": "stderr",
     "output_type": "stream",
     "text": [
      "100%|██████████| 14/14 [00:05<00:00,  2.70it/s]\n"
     ]
    },
    {
     "name": "stdout",
     "output_type": "stream",
     "text": [
      "[INFO] EPOCH: 57/100\n",
      "Train loss: 2.236511, Test loss: 2.2744, Train IoU: 0.8668, Test IoU: 0.8024, Train Dice: 0.9268, Test Dice: 0.8888\n"
     ]
    },
    {
     "name": "stderr",
     "output_type": "stream",
     "text": [
      "100%|██████████| 14/14 [00:05<00:00,  2.67it/s]\n"
     ]
    },
    {
     "name": "stdout",
     "output_type": "stream",
     "text": [
      "[INFO] EPOCH: 58/100\n",
      "Train loss: 2.235551, Test loss: 2.2723, Train IoU: 0.8683, Test IoU: 0.8059, Train Dice: 0.9278, Test Dice: 0.8909\n"
     ]
    },
    {
     "name": "stderr",
     "output_type": "stream",
     "text": [
      "100%|██████████| 14/14 [00:05<00:00,  2.69it/s]\n"
     ]
    },
    {
     "name": "stdout",
     "output_type": "stream",
     "text": [
      "[INFO] EPOCH: 59/100\n",
      "Train loss: 2.234168, Test loss: 2.2713, Train IoU: 0.8709, Test IoU: 0.8071, Train Dice: 0.9292, Test Dice: 0.8918\n"
     ]
    },
    {
     "name": "stderr",
     "output_type": "stream",
     "text": [
      "100%|██████████| 14/14 [00:05<00:00,  2.69it/s]\n"
     ]
    },
    {
     "name": "stdout",
     "output_type": "stream",
     "text": [
      "[INFO] EPOCH: 60/100\n",
      "Train loss: 2.236198, Test loss: 2.2709, Train IoU: 0.8672, Test IoU: 0.8079, Train Dice: 0.9272, Test Dice: 0.8924\n"
     ]
    },
    {
     "name": "stderr",
     "output_type": "stream",
     "text": [
      "100%|██████████| 14/14 [00:05<00:00,  2.66it/s]\n"
     ]
    },
    {
     "name": "stdout",
     "output_type": "stream",
     "text": [
      "[INFO] EPOCH: 61/100\n",
      "Train loss: 2.235260, Test loss: 2.2704, Train IoU: 0.8688, Test IoU: 0.8092, Train Dice: 0.9282, Test Dice: 0.8929\n"
     ]
    },
    {
     "name": "stderr",
     "output_type": "stream",
     "text": [
      "100%|██████████| 14/14 [00:05<00:00,  2.69it/s]\n"
     ]
    },
    {
     "name": "stdout",
     "output_type": "stream",
     "text": [
      "[INFO] EPOCH: 62/100\n",
      "Train loss: 2.233836, Test loss: 2.2724, Train IoU: 0.8714, Test IoU: 0.8054, Train Dice: 0.9296, Test Dice: 0.8909\n"
     ]
    },
    {
     "name": "stderr",
     "output_type": "stream",
     "text": [
      "100%|██████████| 14/14 [00:05<00:00,  2.68it/s]\n"
     ]
    },
    {
     "name": "stdout",
     "output_type": "stream",
     "text": [
      "[INFO] EPOCH: 63/100\n",
      "Train loss: 2.236716, Test loss: 2.2741, Train IoU: 0.8661, Test IoU: 0.8026, Train Dice: 0.9267, Test Dice: 0.8891\n"
     ]
    },
    {
     "name": "stderr",
     "output_type": "stream",
     "text": [
      "100%|██████████| 14/14 [00:05<00:00,  2.65it/s]\n"
     ]
    },
    {
     "name": "stdout",
     "output_type": "stream",
     "text": [
      "[INFO] EPOCH: 64/100\n",
      "Train loss: 2.236140, Test loss: 2.2703, Train IoU: 0.8672, Test IoU: 0.8090, Train Dice: 0.9273, Test Dice: 0.8930\n"
     ]
    },
    {
     "name": "stderr",
     "output_type": "stream",
     "text": [
      "100%|██████████| 14/14 [00:05<00:00,  2.67it/s]\n"
     ]
    },
    {
     "name": "stdout",
     "output_type": "stream",
     "text": [
      "[INFO] EPOCH: 65/100\n",
      "Train loss: 2.236343, Test loss: 2.2715, Train IoU: 0.8668, Test IoU: 0.8071, Train Dice: 0.9271, Test Dice: 0.8918\n"
     ]
    },
    {
     "name": "stderr",
     "output_type": "stream",
     "text": [
      "100%|██████████| 14/14 [00:05<00:00,  2.68it/s]\n"
     ]
    },
    {
     "name": "stdout",
     "output_type": "stream",
     "text": [
      "[INFO] EPOCH: 66/100\n",
      "Train loss: 2.235323, Test loss: 2.2701, Train IoU: 0.8685, Test IoU: 0.8096, Train Dice: 0.9282, Test Dice: 0.8933\n"
     ]
    },
    {
     "name": "stderr",
     "output_type": "stream",
     "text": [
      "100%|██████████| 14/14 [00:05<00:00,  2.69it/s]\n"
     ]
    },
    {
     "name": "stdout",
     "output_type": "stream",
     "text": [
      "[INFO] EPOCH: 67/100\n",
      "Train loss: 2.234732, Test loss: 2.2670, Train IoU: 0.8699, Test IoU: 0.8143, Train Dice: 0.9288, Test Dice: 0.8963\n",
      "Best IoU improved. Model saved.\n"
     ]
    },
    {
     "name": "stderr",
     "output_type": "stream",
     "text": [
      "100%|██████████| 14/14 [00:05<00:00,  2.67it/s]\n"
     ]
    },
    {
     "name": "stdout",
     "output_type": "stream",
     "text": [
      "[INFO] EPOCH: 68/100\n",
      "Train loss: 2.232016, Test loss: 2.2701, Train IoU: 0.8745, Test IoU: 0.8091, Train Dice: 0.9315, Test Dice: 0.8933\n"
     ]
    },
    {
     "name": "stderr",
     "output_type": "stream",
     "text": [
      "100%|██████████| 14/14 [00:05<00:00,  2.67it/s]\n"
     ]
    },
    {
     "name": "stdout",
     "output_type": "stream",
     "text": [
      "[INFO] EPOCH: 69/100\n",
      "Train loss: 2.232954, Test loss: 2.2701, Train IoU: 0.8727, Test IoU: 0.8090, Train Dice: 0.9306, Test Dice: 0.8933\n"
     ]
    },
    {
     "name": "stderr",
     "output_type": "stream",
     "text": [
      "100%|██████████| 14/14 [00:05<00:00,  2.63it/s]\n"
     ]
    },
    {
     "name": "stdout",
     "output_type": "stream",
     "text": [
      "[INFO] EPOCH: 70/100\n",
      "Train loss: 2.231572, Test loss: 2.2650, Train IoU: 0.8752, Test IoU: 0.8177, Train Dice: 0.9320, Test Dice: 0.8984\n",
      "Best IoU improved. Model saved.\n"
     ]
    },
    {
     "name": "stderr",
     "output_type": "stream",
     "text": [
      "100%|██████████| 14/14 [00:05<00:00,  2.68it/s]\n"
     ]
    },
    {
     "name": "stdout",
     "output_type": "stream",
     "text": [
      "[INFO] EPOCH: 71/100\n",
      "Train loss: 2.231342, Test loss: 2.2666, Train IoU: 0.8754, Test IoU: 0.8149, Train Dice: 0.9323, Test Dice: 0.8967\n"
     ]
    },
    {
     "name": "stderr",
     "output_type": "stream",
     "text": [
      "100%|██████████| 14/14 [00:05<00:00,  2.68it/s]\n"
     ]
    },
    {
     "name": "stdout",
     "output_type": "stream",
     "text": [
      "[INFO] EPOCH: 72/100\n",
      "Train loss: 2.230619, Test loss: 2.2664, Train IoU: 0.8769, Test IoU: 0.8154, Train Dice: 0.9330, Test Dice: 0.8970\n"
     ]
    },
    {
     "name": "stderr",
     "output_type": "stream",
     "text": [
      "100%|██████████| 14/14 [00:05<00:00,  2.66it/s]\n"
     ]
    },
    {
     "name": "stdout",
     "output_type": "stream",
     "text": [
      "[INFO] EPOCH: 73/100\n",
      "Train loss: 2.230230, Test loss: 2.2683, Train IoU: 0.8775, Test IoU: 0.8121, Train Dice: 0.9334, Test Dice: 0.8951\n"
     ]
    },
    {
     "name": "stderr",
     "output_type": "stream",
     "text": [
      "100%|██████████| 14/14 [00:05<00:00,  2.69it/s]\n"
     ]
    },
    {
     "name": "stdout",
     "output_type": "stream",
     "text": [
      "[INFO] EPOCH: 74/100\n",
      "Train loss: 2.229964, Test loss: 2.2674, Train IoU: 0.8781, Test IoU: 0.8137, Train Dice: 0.9337, Test Dice: 0.8961\n"
     ]
    },
    {
     "name": "stderr",
     "output_type": "stream",
     "text": [
      "100%|██████████| 14/14 [00:05<00:00,  2.67it/s]\n"
     ]
    },
    {
     "name": "stdout",
     "output_type": "stream",
     "text": [
      "[INFO] EPOCH: 75/100\n",
      "Train loss: 2.230413, Test loss: 2.2655, Train IoU: 0.8773, Test IoU: 0.8167, Train Dice: 0.9332, Test Dice: 0.8980\n"
     ]
    },
    {
     "name": "stderr",
     "output_type": "stream",
     "text": [
      "100%|██████████| 14/14 [00:05<00:00,  2.67it/s]\n"
     ]
    },
    {
     "name": "stdout",
     "output_type": "stream",
     "text": [
      "[INFO] EPOCH: 76/100\n",
      "Train loss: 2.234260, Test loss: 2.2685, Train IoU: 0.8703, Test IoU: 0.8119, Train Dice: 0.9294, Test Dice: 0.8949\n"
     ]
    },
    {
     "name": "stderr",
     "output_type": "stream",
     "text": [
      "100%|██████████| 14/14 [00:05<00:00,  2.68it/s]\n"
     ]
    },
    {
     "name": "stdout",
     "output_type": "stream",
     "text": [
      "[INFO] EPOCH: 77/100\n",
      "Train loss: 2.234659, Test loss: 2.2728, Train IoU: 0.8694, Test IoU: 0.8048, Train Dice: 0.9290, Test Dice: 0.8907\n"
     ]
    },
    {
     "name": "stderr",
     "output_type": "stream",
     "text": [
      "100%|██████████| 14/14 [00:05<00:00,  2.68it/s]\n"
     ]
    },
    {
     "name": "stdout",
     "output_type": "stream",
     "text": [
      "[INFO] EPOCH: 78/100\n",
      "Train loss: 2.238060, Test loss: 2.2741, Train IoU: 0.8635, Test IoU: 0.8028, Train Dice: 0.9256, Test Dice: 0.8893\n"
     ]
    },
    {
     "name": "stderr",
     "output_type": "stream",
     "text": [
      "100%|██████████| 14/14 [00:05<00:00,  2.68it/s]\n"
     ]
    },
    {
     "name": "stdout",
     "output_type": "stream",
     "text": [
      "[INFO] EPOCH: 79/100\n",
      "Train loss: 2.237890, Test loss: 2.2734, Train IoU: 0.8639, Test IoU: 0.8037, Train Dice: 0.9257, Test Dice: 0.8900\n"
     ]
    },
    {
     "name": "stderr",
     "output_type": "stream",
     "text": [
      "100%|██████████| 14/14 [00:05<00:00,  2.67it/s]\n"
     ]
    },
    {
     "name": "stdout",
     "output_type": "stream",
     "text": [
      "[INFO] EPOCH: 80/100\n",
      "Train loss: 2.236053, Test loss: 2.2681, Train IoU: 0.8671, Test IoU: 0.8127, Train Dice: 0.9276, Test Dice: 0.8954\n"
     ]
    },
    {
     "name": "stderr",
     "output_type": "stream",
     "text": [
      "100%|██████████| 14/14 [00:05<00:00,  2.69it/s]\n"
     ]
    },
    {
     "name": "stdout",
     "output_type": "stream",
     "text": [
      "[INFO] EPOCH: 81/100\n",
      "Train loss: 2.231298, Test loss: 2.2629, Train IoU: 0.8753, Test IoU: 0.8214, Train Dice: 0.9324, Test Dice: 0.9006\n",
      "Best IoU improved. Model saved.\n"
     ]
    },
    {
     "name": "stderr",
     "output_type": "stream",
     "text": [
      "100%|██████████| 14/14 [00:05<00:00,  2.68it/s]\n"
     ]
    },
    {
     "name": "stdout",
     "output_type": "stream",
     "text": [
      "[INFO] EPOCH: 82/100\n",
      "Train loss: 2.230308, Test loss: 2.2646, Train IoU: 0.8773, Test IoU: 0.8183, Train Dice: 0.9334, Test Dice: 0.8990\n"
     ]
    },
    {
     "name": "stderr",
     "output_type": "stream",
     "text": [
      "100%|██████████| 14/14 [00:05<00:00,  2.68it/s]\n"
     ]
    },
    {
     "name": "stdout",
     "output_type": "stream",
     "text": [
      "[INFO] EPOCH: 83/100\n",
      "Train loss: 2.228785, Test loss: 2.2644, Train IoU: 0.8799, Test IoU: 0.8186, Train Dice: 0.9349, Test Dice: 0.8991\n"
     ]
    },
    {
     "name": "stderr",
     "output_type": "stream",
     "text": [
      "100%|██████████| 14/14 [00:05<00:00,  2.68it/s]\n"
     ]
    },
    {
     "name": "stdout",
     "output_type": "stream",
     "text": [
      "[INFO] EPOCH: 84/100\n",
      "Train loss: 2.230009, Test loss: 2.2620, Train IoU: 0.8778, Test IoU: 0.8226, Train Dice: 0.9337, Test Dice: 0.9016\n",
      "Best IoU improved. Model saved.\n"
     ]
    },
    {
     "name": "stderr",
     "output_type": "stream",
     "text": [
      "100%|██████████| 14/14 [00:05<00:00,  2.67it/s]\n"
     ]
    },
    {
     "name": "stdout",
     "output_type": "stream",
     "text": [
      "[INFO] EPOCH: 85/100\n",
      "Train loss: 2.231210, Test loss: 2.2690, Train IoU: 0.8755, Test IoU: 0.8112, Train Dice: 0.9325, Test Dice: 0.8946\n"
     ]
    },
    {
     "name": "stderr",
     "output_type": "stream",
     "text": [
      "100%|██████████| 14/14 [00:05<00:00,  2.68it/s]\n"
     ]
    },
    {
     "name": "stdout",
     "output_type": "stream",
     "text": [
      "[INFO] EPOCH: 86/100\n",
      "Train loss: 2.229411, Test loss: 2.2636, Train IoU: 0.8789, Test IoU: 0.8198, Train Dice: 0.9344, Test Dice: 0.8999\n"
     ]
    },
    {
     "name": "stderr",
     "output_type": "stream",
     "text": [
      "100%|██████████| 14/14 [00:05<00:00,  2.65it/s]\n"
     ]
    },
    {
     "name": "stdout",
     "output_type": "stream",
     "text": [
      "[INFO] EPOCH: 87/100\n",
      "Train loss: 2.227682, Test loss: 2.2649, Train IoU: 0.8819, Test IoU: 0.8180, Train Dice: 0.9361, Test Dice: 0.8987\n"
     ]
    },
    {
     "name": "stderr",
     "output_type": "stream",
     "text": [
      "100%|██████████| 14/14 [00:05<00:00,  2.68it/s]\n"
     ]
    },
    {
     "name": "stdout",
     "output_type": "stream",
     "text": [
      "[INFO] EPOCH: 88/100\n",
      "Train loss: 2.227311, Test loss: 2.2677, Train IoU: 0.8827, Test IoU: 0.8130, Train Dice: 0.9365, Test Dice: 0.8959\n"
     ]
    },
    {
     "name": "stderr",
     "output_type": "stream",
     "text": [
      "100%|██████████| 14/14 [00:05<00:00,  2.68it/s]\n"
     ]
    },
    {
     "name": "stdout",
     "output_type": "stream",
     "text": [
      "[INFO] EPOCH: 89/100\n",
      "Train loss: 2.230489, Test loss: 2.2665, Train IoU: 0.8768, Test IoU: 0.8150, Train Dice: 0.9333, Test Dice: 0.8971\n"
     ]
    },
    {
     "name": "stderr",
     "output_type": "stream",
     "text": [
      "100%|██████████| 14/14 [00:05<00:00,  2.69it/s]\n"
     ]
    },
    {
     "name": "stdout",
     "output_type": "stream",
     "text": [
      "[INFO] EPOCH: 90/100\n",
      "Train loss: 2.229160, Test loss: 2.2621, Train IoU: 0.8794, Test IoU: 0.8223, Train Dice: 0.9346, Test Dice: 0.9015\n"
     ]
    },
    {
     "name": "stderr",
     "output_type": "stream",
     "text": [
      "100%|██████████| 14/14 [00:05<00:00,  2.66it/s]\n"
     ]
    },
    {
     "name": "stdout",
     "output_type": "stream",
     "text": [
      "[INFO] EPOCH: 91/100\n",
      "Train loss: 2.226230, Test loss: 2.2648, Train IoU: 0.8847, Test IoU: 0.8180, Train Dice: 0.9376, Test Dice: 0.8988\n"
     ]
    },
    {
     "name": "stderr",
     "output_type": "stream",
     "text": [
      "100%|██████████| 14/14 [00:05<00:00,  2.68it/s]\n"
     ]
    },
    {
     "name": "stdout",
     "output_type": "stream",
     "text": [
      "[INFO] EPOCH: 92/100\n",
      "Train loss: 2.227836, Test loss: 2.2649, Train IoU: 0.8817, Test IoU: 0.8177, Train Dice: 0.9360, Test Dice: 0.8987\n"
     ]
    },
    {
     "name": "stderr",
     "output_type": "stream",
     "text": [
      "100%|██████████| 14/14 [00:05<00:00,  2.68it/s]\n"
     ]
    },
    {
     "name": "stdout",
     "output_type": "stream",
     "text": [
      "[INFO] EPOCH: 93/100\n",
      "Train loss: 2.228134, Test loss: 2.2641, Train IoU: 0.8811, Test IoU: 0.8190, Train Dice: 0.9357, Test Dice: 0.8996\n"
     ]
    },
    {
     "name": "stderr",
     "output_type": "stream",
     "text": [
      "100%|██████████| 14/14 [00:05<00:00,  2.67it/s]\n"
     ]
    },
    {
     "name": "stdout",
     "output_type": "stream",
     "text": [
      "[INFO] EPOCH: 94/100\n",
      "Train loss: 2.226387, Test loss: 2.2621, Train IoU: 0.8842, Test IoU: 0.8223, Train Dice: 0.9375, Test Dice: 0.9015\n"
     ]
    },
    {
     "name": "stderr",
     "output_type": "stream",
     "text": [
      "100%|██████████| 14/14 [00:05<00:00,  2.67it/s]\n"
     ]
    },
    {
     "name": "stdout",
     "output_type": "stream",
     "text": [
      "[INFO] EPOCH: 95/100\n",
      "Train loss: 2.224620, Test loss: 2.2621, Train IoU: 0.8876, Test IoU: 0.8222, Train Dice: 0.9392, Test Dice: 0.9015\n"
     ]
    },
    {
     "name": "stderr",
     "output_type": "stream",
     "text": [
      "100%|██████████| 14/14 [00:05<00:00,  2.62it/s]\n"
     ]
    },
    {
     "name": "stdout",
     "output_type": "stream",
     "text": [
      "[INFO] EPOCH: 96/100\n",
      "Train loss: 2.226491, Test loss: 2.2618, Train IoU: 0.8840, Test IoU: 0.8229, Train Dice: 0.9373, Test Dice: 0.9018\n",
      "Best IoU improved. Model saved.\n"
     ]
    },
    {
     "name": "stderr",
     "output_type": "stream",
     "text": [
      "100%|██████████| 14/14 [00:05<00:00,  2.65it/s]\n"
     ]
    },
    {
     "name": "stdout",
     "output_type": "stream",
     "text": [
      "[INFO] EPOCH: 97/100\n",
      "Train loss: 2.227767, Test loss: 2.2640, Train IoU: 0.8817, Test IoU: 0.8191, Train Dice: 0.9361, Test Dice: 0.8997\n"
     ]
    },
    {
     "name": "stderr",
     "output_type": "stream",
     "text": [
      "100%|██████████| 14/14 [00:05<00:00,  2.63it/s]\n"
     ]
    },
    {
     "name": "stdout",
     "output_type": "stream",
     "text": [
      "[INFO] EPOCH: 98/100\n",
      "Train loss: 2.227350, Test loss: 2.2613, Train IoU: 0.8824, Test IoU: 0.8235, Train Dice: 0.9365, Test Dice: 0.9023\n",
      "Best IoU improved. Model saved.\n"
     ]
    },
    {
     "name": "stderr",
     "output_type": "stream",
     "text": [
      "100%|██████████| 14/14 [00:05<00:00,  2.68it/s]\n"
     ]
    },
    {
     "name": "stdout",
     "output_type": "stream",
     "text": [
      "[INFO] EPOCH: 99/100\n",
      "Train loss: 2.226545, Test loss: 2.2636, Train IoU: 0.8839, Test IoU: 0.8200, Train Dice: 0.9373, Test Dice: 0.9000\n"
     ]
    },
    {
     "name": "stderr",
     "output_type": "stream",
     "text": [
      "100%|██████████| 14/14 [00:05<00:00,  2.66it/s]\n"
     ]
    },
    {
     "name": "stdout",
     "output_type": "stream",
     "text": [
      "[INFO] EPOCH: 100/100\n",
      "Train loss: 2.225846, Test loss: 2.2618, Train IoU: 0.8852, Test IoU: 0.8231, Train Dice: 0.9380, Test Dice: 0.9019\n",
      "[INFO] total time taken to train the model: 624.96s\n",
      "Best IoU is: 0.82353\n"
     ]
    }
   ],
   "source": [
    "bestIoU = 0\n",
    "# loop over epochs\n",
    "print(\"[INFO] training the network...\")\n",
    "startTime = time.time()\n",
    "for e in range(NUM_EPOCHS):\n",
    "\t#torch.cuda.empty_cache()\n",
    "\t# set the model in training mode\n",
    "\tuformer.train()\n",
    "\t# initialize the total training and validation loss\n",
    "\ttotalTrainLoss = 0\n",
    "\ttotalTestLoss = 0\n",
    "\n",
    "\ttotalTrainIoU = 0\n",
    "\ttotalTestIoU = 0\n",
    "\ttotalTrainDC = 0\n",
    "\ttotalTestDC = 0\n",
    "\t# loop over the training set\n",
    "\tfor i, (x, y) in enumerate(tqdm(trainLoader)):\n",
    "\t\t# send the input to the device\n",
    "\t\tx, y = x.to(DEVICE), y.to(DEVICE)\n",
    "\t\t# perform a forward pass and calculate the training loss\n",
    "\t\tpred = uformer(x)\n",
    "\t\tassert pred.shape == y.shape, f\"{pred.shape} != {y.shape}\" # B, C, H, W\n",
    "\t\tpred = softmax(pred)\n",
    "\t\tloss = lossFunc(pred, y)\n",
    "\t\t# first, zero out any previously accumulated gradients, then\n",
    "\t\t# perform backpropagation, and then update model parameters\n",
    "\t\topt.zero_grad()\n",
    "\t\tloss.backward()\n",
    "\t\topt.step()\n",
    "\t\t# add the loss to the total training loss so far\n",
    "\t\ttotalTrainLoss += loss\n",
    "\t\ttotalTrainIoU += iouMetric(pred, y)\n",
    "\t\ttotalTrainDC += gdlMetric(pred, y)\n",
    "\t# switch off autograd\n",
    "\twith torch.no_grad():\n",
    "\t\t# set the model in evaluation mode\n",
    "\t\tuformer.eval()\n",
    "\t\t# loop over the validation set\n",
    "\t\tfor (x, y) in testLoader:\n",
    "\t\t\t# send the input to the device\n",
    "\t\t\t(x, y) = (x.to(DEVICE), y.to(DEVICE))\n",
    "\t\t\t# make the predictions and calculate the validation loss\n",
    "\t\t\tpred = uformer(x)\n",
    "\t\t\tassert pred.shape == y.shape, f\"{pred.shape} != {y.shape}\" # B, C, H, W\n",
    "\t\t\tpred = softmax(pred)\n",
    "\t\t\ttotalTestLoss += lossFunc(pred, y)\n",
    "\t\t\ttotalTestIoU += iouMetric(pred, y)\n",
    "\t\t\ttotalTestDC += gdlMetric(pred, y)\n",
    "\t\t\t\n",
    "\t# calculate the average training and validation loss\n",
    "\tavgTrainLoss = totalTrainLoss / trainSteps\n",
    "\tavgTestLoss = totalTestLoss / testSteps\n",
    "\n",
    "\tavgTrainIoU = totalTrainIoU / trainSteps\n",
    "\tavgTestIoU = totalTestIoU / testSteps\n",
    "\tavgTrainDC = totalTrainDC / trainSteps\n",
    "\tavgTestDC = totalTestDC / testSteps\n",
    "\t# update our training history\n",
    "\tH[\"train_loss\"].append(avgTrainLoss.cpu().detach().numpy())\n",
    "\tH[\"test_loss\"].append(avgTestLoss.cpu().detach().numpy())\n",
    "\n",
    "\tH[\"train_IoU\"].append(avgTrainIoU.cpu().detach().numpy())\n",
    "\tH[\"test_IoU\"].append(avgTestIoU.cpu().detach().numpy())\n",
    "\tH[\"train_DC\"].append(avgTrainDC.cpu().detach().numpy())\n",
    "\tH[\"test_DC\"].append(avgTestDC.cpu().detach().numpy())\n",
    "\n",
    "\t# print the model training and validation information\n",
    "\tprint(\"[INFO] EPOCH: {}/{}\".format(e + 1, NUM_EPOCHS))\n",
    "\tprint(f\"Train loss: {avgTrainLoss:.6f}, Test loss: {avgTestLoss:.4f}, \" + \n",
    "       f\"Train IoU: {avgTrainIoU:.4f}, Test IoU: {avgTestIoU:.4f}, Train Dice: {avgTrainDC:.4f}, Test Dice: {avgTestDC:.4f}\")\n",
    "\t\n",
    "\tif avgTestIoU > bestIoU:\n",
    "\t\tbestIoU = avgTestIoU\n",
    "\t\ttorch.save(uformer.state_dict(), '../models/vf_uformer.pth')\n",
    "\t\tprint('Best IoU improved. Model saved.')\n",
    "\t\t\n",
    "# display the total time needed to perform the training \n",
    "endTime = time.time()\n",
    "print(\"[INFO] total time taken to train the model: {:.2f}s\".format(endTime - startTime))\n",
    "print(f'Best IoU is: {bestIoU:.5f}')"
   ]
  },
  {
   "cell_type": "code",
   "execution_count": 13,
   "metadata": {},
   "outputs": [
    {
     "data": {
      "image/png": "[encoded data removed]",
      "text/plain": [
       "<Figure size 1200x400 with 2 Axes>"
      ]
     },
     "metadata": {},
     "output_type": "display_data"
    }
   ],
   "source": [
    "plt.figure(figsize=(12,4))\n",
    "plt.subplot(121)\n",
    "plt.plot(H['train_loss'])\n",
    "plt.plot(H['test_loss'], linestyle='dotted')\n",
    "plt.title('Model loss')\n",
    "plt.ylabel('loss')\n",
    "plt.xlabel('epoch')\n",
    "plt.legend(['train', 'val'], loc='upper right')\n",
    "\n",
    "plt.subplot(122)\n",
    "plt.plot(H['train_IoU'])\n",
    "plt.plot(H['test_IoU'], linestyle='dotted')\n",
    "plt.plot(H['train_DC'])\n",
    "plt.plot(H['test_DC'], linestyle='dotted')\n",
    "plt.title('Model metrics')\n",
    "plt.ylabel('score')\n",
    "plt.xlabel('epoch')\n",
    "\n",
    "plt.legend(['train IoU', 'val IoU', 'train dice', 'val_dice'], loc='lower right')\n",
    "\n",
    "plt.show()"
   ]
  },
  {
   "cell_type": "code",
   "execution_count": 14,
   "metadata": {},
   "outputs": [],
   "source": [
    "def make_prediction(model, image):\n",
    "\timage = torch.Tensor(image).permute((2, 0, 1)).to(DEVICE)\n",
    "\timage = torch.unsqueeze(image, 0)\n",
    "\t# set model to evaluation mode\n",
    "\tmodel.eval()\n",
    "\t# turn off gradient tracking\n",
    "\twith torch.no_grad():\n",
    "\t\tpredMask = model(image)\n",
    "\t\tpredMask = softmax(predMask)\n",
    "\t\tpredMask = torch.squeeze(predMask, 0)\n",
    "\t\tpredMask = predMask.permute((1, 2, 0))\n",
    "\t\tpredMask = predMask.cpu().detach().numpy()\n",
    "\t\tpredMask = np.argmax(predMask, axis=-1)\n",
    "\t\tpredMask = np.expand_dims(predMask, axis=-1)\n",
    "\t\t# filter out the weak predictions and convert them to integers\n",
    "\t\treturn predMask.astype(np.uint8)\n"
   ]
  },
  {
   "cell_type": "code",
   "execution_count": 15,
   "metadata": {},
   "outputs": [],
   "source": [
    "def getPredImg(image_path):     \n",
    "    image = cv2.imread(image_path)\n",
    "    image = resize_with_pad(image, (INPUT_IMAGE_WIDTH, INPUT_IMAGE_HEIGHT))\n",
    "    image = cv2.cvtColor(image, cv2.COLOR_BGR2RGB)\n",
    "    image = image / 255\n",
    "    return image\n",
    "\n",
    "def getPredMask(mask_path):\n",
    "    mask = cv2.imread(mask_path)\n",
    "    mask = resize_with_pad(mask, (INPUT_IMAGE_WIDTH, INPUT_IMAGE_HEIGHT), (0, 0, 0))\n",
    "    mask = cv2.cvtColor(mask, cv2.COLOR_BGR2GRAY)\n",
    "    mask = np.expand_dims(mask, axis=-1)\n",
    "    mask = encode_mask(mask)\n",
    "    return mask"
   ]
  },
  {
   "cell_type": "code",
   "execution_count": 16,
   "metadata": {},
   "outputs": [
    {
     "data": {
      "image/png": "[encoded data removed]",
      "text/plain": [
       "<Figure size 1000x1000 with 9 Axes>"
      ]
     },
     "metadata": {},
     "output_type": "display_data"
    }
   ],
   "source": [
    "plt.figure(figsize=(10,10))\n",
    "for i in range(3):    \n",
    "\n",
    "    idx = random.randint(0, len(testImages) -1)\n",
    "    img = getPredImg(testImages[idx])\n",
    "    mask = getPredMask(testMasks[idx])\n",
    "    \n",
    "    plt.subplot(331 + 3*i)\n",
    "    plt.imshow(img)\n",
    "    plt.title('Image')\n",
    "    plt.axis(\"off\")\n",
    "\n",
    "    mask = np.argmax(mask, axis=-1)\n",
    "    mask = np.expand_dims(mask, axis=-1)\n",
    "    plt.subplot(332 + 3*i)\n",
    "    plt.imshow(mask, cmap='magma', norm=plt.Normalize(vmin=0, vmax=NUM_CLASSES-1))\n",
    "    plt.title('Mask')\n",
    "    plt.axis(\"off\")\n",
    "\n",
    "    pred = make_prediction(uformer, img)\n",
    "    plt.subplot(333 + 3*i)\n",
    "    plt.imshow(pred, cmap='magma', norm=plt.Normalize(vmin=0, vmax=NUM_CLASSES-1))\n",
    "    plt.title('Prediction')\n",
    "    plt.axis(\"off\")\n",
    "\n",
    "plt.show()"
   ]
  },
  {
   "attachments": {},
   "cell_type": "markdown",
   "metadata": {},
   "source": [
    " --- \n",
    " TFG - Alejandro García Mota"
   ]
  }
 ],
 "metadata": {
  "kernelspec": {
   "display_name": "tf-gpu-env",
   "language": "python",
   "name": "python3"
  },
  "language_info": {
   "codemirror_mode": {
    "name": "ipython",
    "version": 3
   },
   "file_extension": ".py",
   "mimetype": "text/x-python",
   "name": "python",
   "nbconvert_exporter": "python",
   "pygments_lexer": "ipython3",
   "version": "3.9.16"
  },
  "orig_nbformat": 4,
  "vscode": {
   "interpreter": {
    "hash": "f011f267c79147290789ae68e632b5c2d498cf08b7b2ac60d440d7e076e68725"
   }
  }
 },
 "nbformat": 4,
 "nbformat_minor": 2
}
