{
 "cells": [
  {
   "attachments": {},
   "cell_type": "markdown",
   "metadata": {},
   "source": [
    "# Model training.\n",
    "\n",
    "[Dataset](https://github.com/imesluh/vocalfolds)\n"
   ]
  },
  {
   "cell_type": "code",
   "execution_count": 1,
   "metadata": {},
   "outputs": [],
   "source": [
    "import os\n",
    "\n",
    "os.environ[\"CUBLAS_WORKSPACE_CONFIG\"]=\":4096:8\""
   ]
  },
  {
   "cell_type": "code",
   "execution_count": 2,
   "metadata": {},
   "outputs": [],
   "source": [
    "import torch\n",
    "from glob import glob\n",
    "import numpy as np\n",
    "import time\n",
    "import matplotlib.pyplot as plt\n",
    "from torch.utils.data import Dataset\n",
    "import cv2\n",
    "import random\n",
    "from Uformer import modelPoolAndAtt\n",
    "from losses import losses\n",
    "from sklearn.model_selection import train_test_split\n",
    "from tqdm import tqdm"
   ]
  },
  {
   "cell_type": "code",
   "execution_count": 3,
   "metadata": {},
   "outputs": [
    {
     "data": {
      "text/plain": [
       "(True, 'NVIDIA GeForce RTX 2060 SUPER')"
      ]
     },
     "execution_count": 3,
     "metadata": {},
     "output_type": "execute_result"
    }
   ],
   "source": [
    "torch.cuda.is_available(), torch.cuda.get_device_name(0)"
   ]
  },
  {
   "cell_type": "code",
   "execution_count": 4,
   "metadata": {},
   "outputs": [],
   "source": [
    "SEED = 33\n",
    "random.seed(SEED)\n",
    "np.random.seed(SEED)\n",
    "torch.manual_seed(SEED)\n",
    "torch.cuda.manual_seed_all(SEED)\n",
    "torch.use_deterministic_algorithms(True)"
   ]
  },
  {
   "cell_type": "code",
   "execution_count": 5,
   "metadata": {},
   "outputs": [],
   "source": [
    "# determine the device to be used for training and evaluation\n",
    "DEVICE = \"cuda\" if torch.cuda.is_available() else \"cpu\"\n",
    "# determine if we will be pinning memory during data loading\n",
    "PIN_MEMORY = True if DEVICE == \"cuda\" else False\n",
    "\n",
    "NUM_CLASSES = 7\n",
    "# initialize learning rate, number of epochs to train for, and the\n",
    "# batch size\n",
    "INIT_LR = 3e-4\n",
    "NUM_EPOCHS = 100\n",
    "BATCH_SIZE = 32\n",
    "# define the input image dimensions\n",
    "INPUT_IMAGE_WIDTH = 64\n",
    "INPUT_IMAGE_HEIGHT = 64"
   ]
  },
  {
   "attachments": {},
   "cell_type": "markdown",
   "metadata": {},
   "source": [
    "## Data preparation."
   ]
  },
  {
   "cell_type": "code",
   "execution_count": 6,
   "metadata": {},
   "outputs": [
    {
     "name": "stdout",
     "output_type": "stream",
     "text": [
      "Number of samples: 536\n"
     ]
    }
   ],
   "source": [
    "IMAGE_DATASET_PATH = glob('../../vocalfolds/img/*/*/*.png')\n",
    "MASK_DATASET_PATH  = glob('../../vocalfolds/annot/*/*/*.png')\n",
    "\n",
    "N = len(IMAGE_DATASET_PATH)\n",
    "assert len(IMAGE_DATASET_PATH) == len(MASK_DATASET_PATH)\n",
    "\n",
    "print(f'Number of samples: {str(len(MASK_DATASET_PATH))}')"
   ]
  },
  {
   "cell_type": "code",
   "execution_count": 7,
   "metadata": {},
   "outputs": [],
   "source": [
    "# https://gist.github.com/IdeaKing/11cf5e146d23c5bb219ba3508cca89ec\n",
    "def resize_with_pad(image: np.array, \n",
    "                    new_shape, \n",
    "                    padding_color = (0, 0, 0)) -> np.array:\n",
    "    \"\"\"Maintains aspect ratio and resizes with padding.\n",
    "    Params:\n",
    "        image: Image to be resized.\n",
    "        new_shape: Expected (width, height) of new image.\n",
    "        padding_color: Tuple in BGR of padding color\n",
    "    Returns:\n",
    "        image: Resized image with padding\n",
    "    \"\"\"\n",
    "    original_shape = (image.shape[1], image.shape[0])\n",
    "    ratio = float(max(new_shape))/max(original_shape)\n",
    "    new_size = tuple([int(x*ratio) for x in original_shape])\n",
    "    image = cv2.resize(image, new_size, interpolation=cv2.INTER_NEAREST)\n",
    "    delta_w = new_shape[0] - new_size[0]\n",
    "    delta_h = new_shape[1] - new_size[1]\n",
    "    top, bottom = delta_h//2, delta_h-(delta_h//2)\n",
    "    left, right = delta_w//2, delta_w-(delta_w//2)\n",
    "    image = cv2.copyMakeBorder(image, top, bottom, left, right, cv2.BORDER_CONSTANT, value=padding_color)\n",
    "    return image"
   ]
  },
  {
   "cell_type": "code",
   "execution_count": 8,
   "metadata": {},
   "outputs": [],
   "source": [
    "def to_categorical(y, num_classes=None, dtype=\"float32\"):\n",
    "\ty = np.array(y, dtype=\"int\")\n",
    "\tinput_shape = y.shape\n",
    "\n",
    "\t# Shrink the last dimension if the shape is (..., 1).\n",
    "\tif input_shape and input_shape[-1] == 1 and len(input_shape) > 1:\n",
    "\t\tinput_shape = tuple(input_shape[:-1])\n",
    "\n",
    "\ty = y.reshape(-1)\n",
    "\tif not num_classes:\n",
    "\t\tnum_classes = np.max(y) + 1\n",
    "\tn = y.shape[0]\n",
    "\tcategorical = np.zeros((n, num_classes), dtype=dtype)\n",
    "\tcategorical[np.arange(n), y] = 1\n",
    "\toutput_shape = input_shape + (num_classes,)\n",
    "\tcategorical = np.reshape(categorical, output_shape)\n",
    "\treturn categorical\n",
    "\n",
    "labels = [[0],[1],[2],[3],[4],[5],[6]]\n",
    "def encode_mask(masks_arr, n_classes=NUM_CLASSES, H=INPUT_IMAGE_HEIGHT, W=INPUT_IMAGE_WIDTH, labels_arr=labels):\n",
    "    y_encoded = np.zeros((H, W, 1), dtype=np.uint8)\n",
    "\n",
    "    for i, label in enumerate(labels_arr):\n",
    "        y_encoded[np.all(label == masks_arr, axis=-1)] = i\n",
    "    \n",
    "    return to_categorical(y_encoded, num_classes=n_classes)\n",
    "\n",
    "class SegmentationDataset(Dataset):\n",
    "\tdef __init__(self, imagePaths, maskPaths):\n",
    "\t\t# store the image and mask filepaths, and augmentation\n",
    "\t\t# transforms\n",
    "\t\tself.imagePaths = imagePaths\n",
    "\t\tself.maskPaths = maskPaths\n",
    "\n",
    "\tdef __len__(self):\n",
    "\t\t# return the number of total samples contained in the dataset\n",
    "\t\treturn len(self.imagePaths)\n",
    "\t\n",
    "\tdef __getitem__(self, idx):\n",
    "\t\t# grab the image path from the current index\n",
    "\t\timagePath = self.imagePaths[idx]\n",
    "\t\t# load the image from disk, swap its channels from BGR to RGB,\n",
    "\t\t# and read the associated mask from disk in grayscale mode\n",
    "\t\timage = cv2.imread(imagePath)\n",
    "\t\timage = resize_with_pad(image, (INPUT_IMAGE_WIDTH, INPUT_IMAGE_HEIGHT))\n",
    "\t\timage = cv2.cvtColor(image, cv2.COLOR_BGR2RGB)\n",
    "\t\timage = image / 255\n",
    "\t\timage = torch.from_numpy(np.float32(image))\n",
    "\t\timage = image.permute(2,0,1)\n",
    "\n",
    "\t\tmask = cv2.imread(self.maskPaths[idx])\n",
    "\t\tmask = resize_with_pad(mask, (INPUT_IMAGE_WIDTH, INPUT_IMAGE_HEIGHT), (0, 0, 0))\n",
    "\t\tmask = cv2.cvtColor(mask, cv2.COLOR_BGR2GRAY)\n",
    "\t\tmask = np.expand_dims(mask, axis=-1)\n",
    "\t\tmask = encode_mask(mask)\n",
    "\t\tmask = torch.from_numpy(np.float32(mask))\n",
    "\t\tmask = mask.permute(2,0,1)\n",
    "\n",
    "\t\tassert image.shape == (3, INPUT_IMAGE_HEIGHT, INPUT_IMAGE_WIDTH), f\"Bad image shape {image.shape}\"\n",
    "\t\tassert mask.shape == (NUM_CLASSES, INPUT_IMAGE_HEIGHT, INPUT_IMAGE_WIDTH), f\"Bad mask shape {mask.shape}\"\n",
    "\n",
    "\t\t# return a tuple of the image and its mask\n",
    "\t\treturn image, mask"
   ]
  },
  {
   "cell_type": "code",
   "execution_count": 9,
   "metadata": {},
   "outputs": [
    {
     "name": "stderr",
     "output_type": "stream",
     "text": [
      "c:\\Users\\alexg\\miniconda3\\envs\\pytorch-gpu\\lib\\site-packages\\torch\\functional.py:504: UserWarning: torch.meshgrid: in an upcoming release, it will be required to pass the indexing argument. (Triggered internally at C:\\cb\\pytorch_1000000000000\\work\\aten\\src\\ATen\\native\\TensorShape.cpp:3484.)\n",
      "  return _VF.meshgrid(tensors, **kwargs)  # type: ignore[attr-defined]\n"
     ]
    }
   ],
   "source": [
    "uformer = modelPoolAndAtt.Uformer(img_size=INPUT_IMAGE_HEIGHT,in_chans=NUM_CLASSES, embed_dim=16, win_size=8, token_projection='linear', token_mlp='leff',modulator=True)\n",
    "trainImages, testImages, trainMasks, testMasks = train_test_split(IMAGE_DATASET_PATH, MASK_DATASET_PATH, test_size=0.2, random_state=43)"
   ]
  },
  {
   "cell_type": "code",
   "execution_count": 10,
   "metadata": {},
   "outputs": [
    {
     "name": "stdout",
     "output_type": "stream",
     "text": [
      "[INFO] found 428 examples in the training set...\n",
      "[INFO] found 108 examples in the test set...\n"
     ]
    }
   ],
   "source": [
    "# define transformations\n",
    "from torch.utils.data import DataLoader\n",
    "\n",
    "# create the train and test datasets\n",
    "trainDS = SegmentationDataset(imagePaths=trainImages, maskPaths=trainMasks)\n",
    "testDS = SegmentationDataset(imagePaths=testImages, maskPaths=testMasks)\n",
    "print(f\"[INFO] found {len(trainDS)} examples in the training set...\")\n",
    "print(f\"[INFO] found {len(testDS)} examples in the test set...\")\n",
    "# create the training and test data loaders\n",
    "num_workers = 4\n",
    "def seed_worker(worker_id):\n",
    "    worker_seed = torch.initial_seed() % 2**32\n",
    "    np.random.seed(worker_seed)\n",
    "    random.seed(worker_seed)\n",
    "\n",
    "g = torch.Generator()\n",
    "g.manual_seed(0)\n",
    "\n",
    "trainLoader = DataLoader(\n",
    "\ttrainDS, \n",
    "\tshuffle=True,\n",
    "\tbatch_size=BATCH_SIZE, \n",
    "\tpin_memory=PIN_MEMORY,\n",
    "    worker_init_fn=seed_worker,\n",
    "    generator=g\n",
    ")\n",
    "testLoader = DataLoader(\n",
    "\ttestDS, shuffle=False,\n",
    "\tbatch_size=BATCH_SIZE, \n",
    "\tpin_memory=PIN_MEMORY,\n",
    "    worker_init_fn=seed_worker,\n",
    "    generator=g\n",
    ")"
   ]
  },
  {
   "cell_type": "code",
   "execution_count": 11,
   "metadata": {},
   "outputs": [],
   "source": [
    "uformer = uformer.to(DEVICE)\n",
    "softmax = torch.nn.Softmax(1)\n",
    "# initialize loss function and optimizer\n",
    "lossFunc = losses.CombinedLoss().cuda()\n",
    "opt = torch.optim.Adam(uformer.parameters(), lr=INIT_LR, betas=(0.9, 0.999),eps=1e-8, weight_decay=1e-5)\n",
    "iouMetric = losses.MeanIoU().cuda()\n",
    "gdlMetric = losses.DiceCoeficient().cuda()\n",
    "# calculate steps per epoch for training and test set\n",
    "trainSteps = len(trainDS) // BATCH_SIZE + 1\n",
    "testSteps = len(testDS) // BATCH_SIZE + 1\n",
    "# initialize a dictionary to store training history\n",
    "H = {\"train_loss\": [], \"test_loss\": [], \"train_IoU\": [], \"test_IoU\": [],\"train_DC\": [], \"test_DC\": []}"
   ]
  },
  {
   "cell_type": "code",
   "execution_count": 12,
   "metadata": {},
   "outputs": [
    {
     "name": "stdout",
     "output_type": "stream",
     "text": [
      "[INFO] training the network...\n"
     ]
    },
    {
     "name": "stderr",
     "output_type": "stream",
     "text": [
      "100%|██████████| 14/14 [00:07<00:00,  1.94it/s]\n"
     ]
    },
    {
     "name": "stdout",
     "output_type": "stream",
     "text": [
      "[INFO] EPOCH: 1/100\n",
      "Train loss: 2.844404, Test loss: 2.8163, Train IoU: 0.1867, Test IoU: 0.2083, Train Dice: 0.2839, Test Dice: 0.3448\n",
      "Best IoU improved. Model saved.\n"
     ]
    },
    {
     "name": "stderr",
     "output_type": "stream",
     "text": [
      "100%|██████████| 14/14 [00:04<00:00,  2.84it/s]\n"
     ]
    },
    {
     "name": "stdout",
     "output_type": "stream",
     "text": [
      "[INFO] EPOCH: 2/100\n",
      "Train loss: 2.784279, Test loss: 2.7722, Train IoU: 0.2311, Test IoU: 0.2375, Train Dice: 0.3691, Test Dice: 0.3779\n",
      "Best IoU improved. Model saved.\n"
     ]
    },
    {
     "name": "stderr",
     "output_type": "stream",
     "text": [
      "100%|██████████| 14/14 [00:04<00:00,  2.87it/s]\n"
     ]
    },
    {
     "name": "stdout",
     "output_type": "stream",
     "text": [
      "[INFO] EPOCH: 3/100\n",
      "Train loss: 2.753412, Test loss: 2.7674, Train IoU: 0.2537, Test IoU: 0.2463, Train Dice: 0.3956, Test Dice: 0.3938\n",
      "Best IoU improved. Model saved.\n"
     ]
    },
    {
     "name": "stderr",
     "output_type": "stream",
     "text": [
      "100%|██████████| 14/14 [00:04<00:00,  2.82it/s]\n"
     ]
    },
    {
     "name": "stdout",
     "output_type": "stream",
     "text": [
      "[INFO] EPOCH: 4/100\n",
      "Train loss: 2.743717, Test loss: 2.7354, Train IoU: 0.2645, Test IoU: 0.2685, Train Dice: 0.4143, Test Dice: 0.4171\n",
      "Best IoU improved. Model saved.\n"
     ]
    },
    {
     "name": "stderr",
     "output_type": "stream",
     "text": [
      "100%|██████████| 14/14 [00:04<00:00,  2.86it/s]\n"
     ]
    },
    {
     "name": "stdout",
     "output_type": "stream",
     "text": [
      "[INFO] EPOCH: 5/100\n",
      "Train loss: 2.688162, Test loss: 2.6309, Train IoU: 0.3109, Test IoU: 0.3627, Train Dice: 0.4628, Test Dice: 0.5262\n",
      "Best IoU improved. Model saved.\n"
     ]
    },
    {
     "name": "stderr",
     "output_type": "stream",
     "text": [
      "100%|██████████| 14/14 [00:04<00:00,  2.86it/s]\n"
     ]
    },
    {
     "name": "stdout",
     "output_type": "stream",
     "text": [
      "[INFO] EPOCH: 6/100\n",
      "Train loss: 2.604027, Test loss: 2.6174, Train IoU: 0.3872, Test IoU: 0.3753, Train Dice: 0.5545, Test Dice: 0.5428\n",
      "Best IoU improved. Model saved.\n"
     ]
    },
    {
     "name": "stderr",
     "output_type": "stream",
     "text": [
      "100%|██████████| 14/14 [00:04<00:00,  2.87it/s]\n"
     ]
    },
    {
     "name": "stdout",
     "output_type": "stream",
     "text": [
      "[INFO] EPOCH: 7/100\n",
      "Train loss: 2.566728, Test loss: 2.5380, Train IoU: 0.4252, Test IoU: 0.4538, Train Dice: 0.5920, Test Dice: 0.6187\n",
      "Best IoU improved. Model saved.\n"
     ]
    },
    {
     "name": "stderr",
     "output_type": "stream",
     "text": [
      "100%|██████████| 14/14 [00:04<00:00,  2.81it/s]\n"
     ]
    },
    {
     "name": "stdout",
     "output_type": "stream",
     "text": [
      "[INFO] EPOCH: 8/100\n",
      "Train loss: 2.534650, Test loss: 2.5296, Train IoU: 0.4589, Test IoU: 0.4638, Train Dice: 0.6240, Test Dice: 0.6300\n",
      "Best IoU improved. Model saved.\n"
     ]
    },
    {
     "name": "stderr",
     "output_type": "stream",
     "text": [
      "100%|██████████| 14/14 [00:04<00:00,  2.84it/s]\n"
     ]
    },
    {
     "name": "stdout",
     "output_type": "stream",
     "text": [
      "[INFO] EPOCH: 9/100\n",
      "Train loss: 2.506802, Test loss: 2.4752, Train IoU: 0.4907, Test IoU: 0.5241, Train Dice: 0.6526, Test Dice: 0.6845\n",
      "Best IoU improved. Model saved.\n"
     ]
    },
    {
     "name": "stderr",
     "output_type": "stream",
     "text": [
      "100%|██████████| 14/14 [00:04<00:00,  2.81it/s]\n"
     ]
    },
    {
     "name": "stdout",
     "output_type": "stream",
     "text": [
      "[INFO] EPOCH: 10/100\n",
      "Train loss: 2.465316, Test loss: 2.4402, Train IoU: 0.5372, Test IoU: 0.5662, Train Dice: 0.6942, Test Dice: 0.7203\n",
      "Best IoU improved. Model saved.\n"
     ]
    },
    {
     "name": "stderr",
     "output_type": "stream",
     "text": [
      "100%|██████████| 14/14 [00:04<00:00,  2.83it/s]\n"
     ]
    },
    {
     "name": "stdout",
     "output_type": "stream",
     "text": [
      "[INFO] EPOCH: 11/100\n",
      "Train loss: 2.441834, Test loss: 2.4196, Train IoU: 0.5652, Test IoU: 0.5919, Train Dice: 0.7188, Test Dice: 0.7411\n",
      "Best IoU improved. Model saved.\n"
     ]
    },
    {
     "name": "stderr",
     "output_type": "stream",
     "text": [
      "100%|██████████| 14/14 [00:04<00:00,  2.81it/s]\n"
     ]
    },
    {
     "name": "stdout",
     "output_type": "stream",
     "text": [
      "[INFO] EPOCH: 12/100\n",
      "Train loss: 2.428151, Test loss: 2.3999, Train IoU: 0.5826, Test IoU: 0.6177, Train Dice: 0.7325, Test Dice: 0.7611\n",
      "Best IoU improved. Model saved.\n"
     ]
    },
    {
     "name": "stderr",
     "output_type": "stream",
     "text": [
      "100%|██████████| 14/14 [00:04<00:00,  2.84it/s]\n"
     ]
    },
    {
     "name": "stdout",
     "output_type": "stream",
     "text": [
      "[INFO] EPOCH: 13/100\n",
      "Train loss: 2.397427, Test loss: 2.3794, Train IoU: 0.6224, Test IoU: 0.6456, Train Dice: 0.7633, Test Dice: 0.7816\n",
      "Best IoU improved. Model saved.\n"
     ]
    },
    {
     "name": "stderr",
     "output_type": "stream",
     "text": [
      "100%|██████████| 14/14 [00:04<00:00,  2.82it/s]\n"
     ]
    },
    {
     "name": "stdout",
     "output_type": "stream",
     "text": [
      "[INFO] EPOCH: 14/100\n",
      "Train loss: 2.393268, Test loss: 2.3786, Train IoU: 0.6277, Test IoU: 0.6460, Train Dice: 0.7677, Test Dice: 0.7823\n",
      "Best IoU improved. Model saved.\n"
     ]
    },
    {
     "name": "stderr",
     "output_type": "stream",
     "text": [
      "100%|██████████| 14/14 [00:04<00:00,  2.82it/s]\n"
     ]
    },
    {
     "name": "stdout",
     "output_type": "stream",
     "text": [
      "[INFO] EPOCH: 15/100\n",
      "Train loss: 2.388023, Test loss: 2.3662, Train IoU: 0.6350, Test IoU: 0.6633, Train Dice: 0.7730, Test Dice: 0.7952\n",
      "Best IoU improved. Model saved.\n"
     ]
    },
    {
     "name": "stderr",
     "output_type": "stream",
     "text": [
      "100%|██████████| 14/14 [00:04<00:00,  2.83it/s]\n"
     ]
    },
    {
     "name": "stdout",
     "output_type": "stream",
     "text": [
      "[INFO] EPOCH: 16/100\n",
      "Train loss: 2.379083, Test loss: 2.3829, Train IoU: 0.6463, Test IoU: 0.6403, Train Dice: 0.7824, Test Dice: 0.7785\n"
     ]
    },
    {
     "name": "stderr",
     "output_type": "stream",
     "text": [
      "100%|██████████| 14/14 [00:04<00:00,  2.83it/s]\n"
     ]
    },
    {
     "name": "stdout",
     "output_type": "stream",
     "text": [
      "[INFO] EPOCH: 17/100\n",
      "Train loss: 2.375343, Test loss: 2.3589, Train IoU: 0.6514, Test IoU: 0.6743, Train Dice: 0.7860, Test Dice: 0.8029\n",
      "Best IoU improved. Model saved.\n"
     ]
    },
    {
     "name": "stderr",
     "output_type": "stream",
     "text": [
      "100%|██████████| 14/14 [00:04<00:00,  2.82it/s]\n"
     ]
    },
    {
     "name": "stdout",
     "output_type": "stream",
     "text": [
      "[INFO] EPOCH: 18/100\n",
      "Train loss: 2.376004, Test loss: 2.3532, Train IoU: 0.6504, Test IoU: 0.6815, Train Dice: 0.7860, Test Dice: 0.8086\n",
      "Best IoU improved. Model saved.\n"
     ]
    },
    {
     "name": "stderr",
     "output_type": "stream",
     "text": [
      "100%|██████████| 14/14 [00:04<00:00,  2.83it/s]\n"
     ]
    },
    {
     "name": "stdout",
     "output_type": "stream",
     "text": [
      "[INFO] EPOCH: 19/100\n",
      "Train loss: 2.351510, Test loss: 2.3377, Train IoU: 0.6850, Test IoU: 0.7044, Train Dice: 0.8103, Test Dice: 0.8240\n",
      "Best IoU improved. Model saved.\n"
     ]
    },
    {
     "name": "stderr",
     "output_type": "stream",
     "text": [
      "100%|██████████| 14/14 [00:04<00:00,  2.80it/s]\n"
     ]
    },
    {
     "name": "stdout",
     "output_type": "stream",
     "text": [
      "[INFO] EPOCH: 20/100\n",
      "Train loss: 2.351780, Test loss: 2.3517, Train IoU: 0.6848, Test IoU: 0.6839, Train Dice: 0.8100, Test Dice: 0.8100\n"
     ]
    },
    {
     "name": "stderr",
     "output_type": "stream",
     "text": [
      "100%|██████████| 14/14 [00:04<00:00,  2.82it/s]\n"
     ]
    },
    {
     "name": "stdout",
     "output_type": "stream",
     "text": [
      "[INFO] EPOCH: 21/100\n",
      "Train loss: 2.360219, Test loss: 2.3661, Train IoU: 0.6731, Test IoU: 0.6635, Train Dice: 0.8015, Test Dice: 0.7954\n"
     ]
    },
    {
     "name": "stderr",
     "output_type": "stream",
     "text": [
      "100%|██████████| 14/14 [00:04<00:00,  2.84it/s]\n"
     ]
    },
    {
     "name": "stdout",
     "output_type": "stream",
     "text": [
      "[INFO] EPOCH: 22/100\n",
      "Train loss: 2.349247, Test loss: 2.3380, Train IoU: 0.6886, Test IoU: 0.7040, Train Dice: 0.8127, Test Dice: 0.8241\n"
     ]
    },
    {
     "name": "stderr",
     "output_type": "stream",
     "text": [
      "100%|██████████| 14/14 [00:04<00:00,  2.84it/s]\n"
     ]
    },
    {
     "name": "stdout",
     "output_type": "stream",
     "text": [
      "[INFO] EPOCH: 23/100\n",
      "Train loss: 2.337555, Test loss: 2.3359, Train IoU: 0.7054, Test IoU: 0.7070, Train Dice: 0.8245, Test Dice: 0.8261\n",
      "Best IoU improved. Model saved.\n"
     ]
    },
    {
     "name": "stderr",
     "output_type": "stream",
     "text": [
      "100%|██████████| 14/14 [00:04<00:00,  2.83it/s]\n"
     ]
    },
    {
     "name": "stdout",
     "output_type": "stream",
     "text": [
      "[INFO] EPOCH: 24/100\n",
      "Train loss: 2.329320, Test loss: 2.3339, Train IoU: 0.7173, Test IoU: 0.7104, Train Dice: 0.8329, Test Dice: 0.8278\n",
      "Best IoU improved. Model saved.\n"
     ]
    },
    {
     "name": "stderr",
     "output_type": "stream",
     "text": [
      "100%|██████████| 14/14 [00:04<00:00,  2.80it/s]\n"
     ]
    },
    {
     "name": "stdout",
     "output_type": "stream",
     "text": [
      "[INFO] EPOCH: 25/100\n",
      "Train loss: 2.328695, Test loss: 2.3179, Train IoU: 0.7184, Test IoU: 0.7352, Train Dice: 0.8334, Test Dice: 0.8440\n",
      "Best IoU improved. Model saved.\n"
     ]
    },
    {
     "name": "stderr",
     "output_type": "stream",
     "text": [
      "100%|██████████| 14/14 [00:04<00:00,  2.80it/s]\n"
     ]
    },
    {
     "name": "stdout",
     "output_type": "stream",
     "text": [
      "[INFO] EPOCH: 26/100\n",
      "Train loss: 2.315586, Test loss: 2.3285, Train IoU: 0.7378, Test IoU: 0.7179, Train Dice: 0.8467, Test Dice: 0.8337\n"
     ]
    },
    {
     "name": "stderr",
     "output_type": "stream",
     "text": [
      "100%|██████████| 14/14 [00:04<00:00,  2.81it/s]\n"
     ]
    },
    {
     "name": "stdout",
     "output_type": "stream",
     "text": [
      "[INFO] EPOCH: 27/100\n",
      "Train loss: 2.313457, Test loss: 2.3107, Train IoU: 0.7406, Test IoU: 0.7454, Train Dice: 0.8490, Test Dice: 0.8511\n",
      "Best IoU improved. Model saved.\n"
     ]
    },
    {
     "name": "stderr",
     "output_type": "stream",
     "text": [
      "100%|██████████| 14/14 [00:04<00:00,  2.85it/s]\n"
     ]
    },
    {
     "name": "stdout",
     "output_type": "stream",
     "text": [
      "[INFO] EPOCH: 28/100\n",
      "Train loss: 2.317672, Test loss: 2.3232, Train IoU: 0.7354, Test IoU: 0.7262, Train Dice: 0.8445, Test Dice: 0.8389\n"
     ]
    },
    {
     "name": "stderr",
     "output_type": "stream",
     "text": [
      "100%|██████████| 14/14 [00:04<00:00,  2.82it/s]\n"
     ]
    },
    {
     "name": "stdout",
     "output_type": "stream",
     "text": [
      "[INFO] EPOCH: 29/100\n",
      "Train loss: 2.312029, Test loss: 2.3164, Train IoU: 0.7435, Test IoU: 0.7361, Train Dice: 0.8504, Test Dice: 0.8459\n"
     ]
    },
    {
     "name": "stderr",
     "output_type": "stream",
     "text": [
      "100%|██████████| 14/14 [00:04<00:00,  2.83it/s]\n"
     ]
    },
    {
     "name": "stdout",
     "output_type": "stream",
     "text": [
      "[INFO] EPOCH: 30/100\n",
      "Train loss: 2.311347, Test loss: 2.3068, Train IoU: 0.7448, Test IoU: 0.7514, Train Dice: 0.8508, Test Dice: 0.8556\n",
      "Best IoU improved. Model saved.\n"
     ]
    },
    {
     "name": "stderr",
     "output_type": "stream",
     "text": [
      "100%|██████████| 14/14 [00:05<00:00,  2.78it/s]\n"
     ]
    },
    {
     "name": "stdout",
     "output_type": "stream",
     "text": [
      "[INFO] EPOCH: 31/100\n",
      "Train loss: 2.310695, Test loss: 2.3111, Train IoU: 0.7452, Test IoU: 0.7440, Train Dice: 0.8518, Test Dice: 0.8511\n"
     ]
    },
    {
     "name": "stderr",
     "output_type": "stream",
     "text": [
      "100%|██████████| 14/14 [00:04<00:00,  2.84it/s]\n"
     ]
    },
    {
     "name": "stdout",
     "output_type": "stream",
     "text": [
      "[INFO] EPOCH: 32/100\n",
      "Train loss: 2.302176, Test loss: 2.3231, Train IoU: 0.7588, Test IoU: 0.7264, Train Dice: 0.8604, Test Dice: 0.8393\n"
     ]
    },
    {
     "name": "stderr",
     "output_type": "stream",
     "text": [
      "100%|██████████| 14/14 [00:04<00:00,  2.82it/s]\n"
     ]
    },
    {
     "name": "stdout",
     "output_type": "stream",
     "text": [
      "[INFO] EPOCH: 33/100\n",
      "Train loss: 2.308143, Test loss: 2.2978, Train IoU: 0.7498, Test IoU: 0.7655, Train Dice: 0.8542, Test Dice: 0.8643\n",
      "Best IoU improved. Model saved.\n"
     ]
    },
    {
     "name": "stderr",
     "output_type": "stream",
     "text": [
      "100%|██████████| 14/14 [00:05<00:00,  2.78it/s]\n"
     ]
    },
    {
     "name": "stdout",
     "output_type": "stream",
     "text": [
      "[INFO] EPOCH: 34/100\n",
      "Train loss: 2.299079, Test loss: 2.2966, Train IoU: 0.7637, Test IoU: 0.7668, Train Dice: 0.8636, Test Dice: 0.8659\n",
      "Best IoU improved. Model saved.\n"
     ]
    },
    {
     "name": "stderr",
     "output_type": "stream",
     "text": [
      "100%|██████████| 14/14 [00:04<00:00,  2.83it/s]\n"
     ]
    },
    {
     "name": "stdout",
     "output_type": "stream",
     "text": [
      "[INFO] EPOCH: 35/100\n",
      "Train loss: 2.294870, Test loss: 2.3072, Train IoU: 0.7701, Test IoU: 0.7503, Train Dice: 0.8678, Test Dice: 0.8552\n"
     ]
    },
    {
     "name": "stderr",
     "output_type": "stream",
     "text": [
      "100%|██████████| 14/14 [00:04<00:00,  2.82it/s]\n"
     ]
    },
    {
     "name": "stdout",
     "output_type": "stream",
     "text": [
      "[INFO] EPOCH: 36/100\n",
      "Train loss: 2.289552, Test loss: 2.3000, Train IoU: 0.7788, Test IoU: 0.7612, Train Dice: 0.8731, Test Dice: 0.8622\n"
     ]
    },
    {
     "name": "stderr",
     "output_type": "stream",
     "text": [
      "100%|██████████| 14/14 [00:05<00:00,  2.78it/s]\n"
     ]
    },
    {
     "name": "stdout",
     "output_type": "stream",
     "text": [
      "[INFO] EPOCH: 37/100\n",
      "Train loss: 2.296086, Test loss: 2.3122, Train IoU: 0.7681, Test IoU: 0.7431, Train Dice: 0.8665, Test Dice: 0.8502\n"
     ]
    },
    {
     "name": "stderr",
     "output_type": "stream",
     "text": [
      "100%|██████████| 14/14 [00:04<00:00,  2.82it/s]\n"
     ]
    },
    {
     "name": "stdout",
     "output_type": "stream",
     "text": [
      "[INFO] EPOCH: 38/100\n",
      "Train loss: 2.294237, Test loss: 2.2946, Train IoU: 0.7718, Test IoU: 0.7700, Train Dice: 0.8684, Test Dice: 0.8678\n",
      "Best IoU improved. Model saved.\n"
     ]
    },
    {
     "name": "stderr",
     "output_type": "stream",
     "text": [
      "100%|██████████| 14/14 [00:04<00:00,  2.80it/s]\n"
     ]
    },
    {
     "name": "stdout",
     "output_type": "stream",
     "text": [
      "[INFO] EPOCH: 39/100\n",
      "Train loss: 2.294638, Test loss: 2.2982, Train IoU: 0.7705, Test IoU: 0.7646, Train Dice: 0.8680, Test Dice: 0.8645\n"
     ]
    },
    {
     "name": "stderr",
     "output_type": "stream",
     "text": [
      "100%|██████████| 14/14 [00:04<00:00,  2.81it/s]\n"
     ]
    },
    {
     "name": "stdout",
     "output_type": "stream",
     "text": [
      "[INFO] EPOCH: 40/100\n",
      "Train loss: 2.290349, Test loss: 2.2919, Train IoU: 0.7768, Test IoU: 0.7738, Train Dice: 0.8724, Test Dice: 0.8707\n",
      "Best IoU improved. Model saved.\n"
     ]
    },
    {
     "name": "stderr",
     "output_type": "stream",
     "text": [
      "100%|██████████| 14/14 [00:04<00:00,  2.81it/s]\n"
     ]
    },
    {
     "name": "stdout",
     "output_type": "stream",
     "text": [
      "[INFO] EPOCH: 41/100\n",
      "Train loss: 2.287455, Test loss: 2.2983, Train IoU: 0.7815, Test IoU: 0.7638, Train Dice: 0.8753, Test Dice: 0.8644\n"
     ]
    },
    {
     "name": "stderr",
     "output_type": "stream",
     "text": [
      "100%|██████████| 14/14 [00:04<00:00,  2.80it/s]\n"
     ]
    },
    {
     "name": "stdout",
     "output_type": "stream",
     "text": [
      "[INFO] EPOCH: 42/100\n",
      "Train loss: 2.280869, Test loss: 2.2857, Train IoU: 0.7922, Test IoU: 0.7840, Train Dice: 0.8821, Test Dice: 0.8770\n",
      "Best IoU improved. Model saved.\n"
     ]
    },
    {
     "name": "stderr",
     "output_type": "stream",
     "text": [
      "100%|██████████| 14/14 [00:05<00:00,  2.79it/s]\n"
     ]
    },
    {
     "name": "stdout",
     "output_type": "stream",
     "text": [
      "[INFO] EPOCH: 43/100\n",
      "Train loss: 2.280053, Test loss: 2.2856, Train IoU: 0.7938, Test IoU: 0.7843, Train Dice: 0.8827, Test Dice: 0.8768\n",
      "Best IoU improved. Model saved.\n"
     ]
    },
    {
     "name": "stderr",
     "output_type": "stream",
     "text": [
      "100%|██████████| 14/14 [00:04<00:00,  2.82it/s]\n"
     ]
    },
    {
     "name": "stdout",
     "output_type": "stream",
     "text": [
      "[INFO] EPOCH: 44/100\n",
      "Train loss: 2.282695, Test loss: 2.2813, Train IoU: 0.7896, Test IoU: 0.7909, Train Dice: 0.8800, Test Dice: 0.8815\n",
      "Best IoU improved. Model saved.\n"
     ]
    },
    {
     "name": "stderr",
     "output_type": "stream",
     "text": [
      "100%|██████████| 14/14 [00:05<00:00,  2.79it/s]\n"
     ]
    },
    {
     "name": "stdout",
     "output_type": "stream",
     "text": [
      "[INFO] EPOCH: 45/100\n",
      "Train loss: 2.280752, Test loss: 2.2811, Train IoU: 0.7925, Test IoU: 0.7913, Train Dice: 0.8822, Test Dice: 0.8817\n",
      "Best IoU improved. Model saved.\n"
     ]
    },
    {
     "name": "stderr",
     "output_type": "stream",
     "text": [
      "100%|██████████| 14/14 [00:05<00:00,  2.75it/s]\n"
     ]
    },
    {
     "name": "stdout",
     "output_type": "stream",
     "text": [
      "[INFO] EPOCH: 46/100\n",
      "Train loss: 2.273400, Test loss: 2.2806, Train IoU: 0.8045, Test IoU: 0.7920, Train Dice: 0.8895, Test Dice: 0.8821\n",
      "Best IoU improved. Model saved.\n"
     ]
    },
    {
     "name": "stderr",
     "output_type": "stream",
     "text": [
      "100%|██████████| 14/14 [00:05<00:00,  2.80it/s]\n"
     ]
    },
    {
     "name": "stdout",
     "output_type": "stream",
     "text": [
      "[INFO] EPOCH: 47/100\n",
      "Train loss: 2.271715, Test loss: 2.2805, Train IoU: 0.8072, Test IoU: 0.7923, Train Dice: 0.8912, Test Dice: 0.8820\n",
      "Best IoU improved. Model saved.\n"
     ]
    },
    {
     "name": "stderr",
     "output_type": "stream",
     "text": [
      "100%|██████████| 14/14 [00:04<00:00,  2.82it/s]\n"
     ]
    },
    {
     "name": "stdout",
     "output_type": "stream",
     "text": [
      "[INFO] EPOCH: 48/100\n",
      "Train loss: 2.273369, Test loss: 2.2768, Train IoU: 0.8044, Test IoU: 0.7982, Train Dice: 0.8895, Test Dice: 0.8860\n",
      "Best IoU improved. Model saved.\n"
     ]
    },
    {
     "name": "stderr",
     "output_type": "stream",
     "text": [
      "100%|██████████| 14/14 [00:05<00:00,  2.79it/s]\n"
     ]
    },
    {
     "name": "stdout",
     "output_type": "stream",
     "text": [
      "[INFO] EPOCH: 49/100\n",
      "Train loss: 2.265008, Test loss: 2.2810, Train IoU: 0.8183, Test IoU: 0.7912, Train Dice: 0.8979, Test Dice: 0.8817\n"
     ]
    },
    {
     "name": "stderr",
     "output_type": "stream",
     "text": [
      "100%|██████████| 14/14 [00:05<00:00,  2.79it/s]\n"
     ]
    },
    {
     "name": "stdout",
     "output_type": "stream",
     "text": [
      "[INFO] EPOCH: 50/100\n",
      "Train loss: 2.268573, Test loss: 2.2856, Train IoU: 0.8123, Test IoU: 0.7840, Train Dice: 0.8943, Test Dice: 0.8771\n"
     ]
    },
    {
     "name": "stderr",
     "output_type": "stream",
     "text": [
      "100%|██████████| 14/14 [00:04<00:00,  2.81it/s]\n"
     ]
    },
    {
     "name": "stdout",
     "output_type": "stream",
     "text": [
      "[INFO] EPOCH: 51/100\n",
      "Train loss: 2.270538, Test loss: 2.2749, Train IoU: 0.8089, Test IoU: 0.8012, Train Dice: 0.8926, Test Dice: 0.8880\n",
      "Best IoU improved. Model saved.\n"
     ]
    },
    {
     "name": "stderr",
     "output_type": "stream",
     "text": [
      "100%|██████████| 14/14 [00:05<00:00,  2.79it/s]\n"
     ]
    },
    {
     "name": "stdout",
     "output_type": "stream",
     "text": [
      "[INFO] EPOCH: 52/100\n",
      "Train loss: 2.266170, Test loss: 2.2780, Train IoU: 0.8161, Test IoU: 0.7961, Train Dice: 0.8968, Test Dice: 0.8849\n"
     ]
    },
    {
     "name": "stderr",
     "output_type": "stream",
     "text": [
      "100%|██████████| 14/14 [00:05<00:00,  2.76it/s]\n"
     ]
    },
    {
     "name": "stdout",
     "output_type": "stream",
     "text": [
      "[INFO] EPOCH: 53/100\n",
      "Train loss: 2.262526, Test loss: 2.2739, Train IoU: 0.8222, Test IoU: 0.8026, Train Dice: 0.9007, Test Dice: 0.8891\n",
      "Best IoU improved. Model saved.\n"
     ]
    },
    {
     "name": "stderr",
     "output_type": "stream",
     "text": [
      "100%|██████████| 14/14 [00:05<00:00,  2.79it/s]\n"
     ]
    },
    {
     "name": "stdout",
     "output_type": "stream",
     "text": [
      "[INFO] EPOCH: 54/100\n",
      "Train loss: 2.260397, Test loss: 2.2709, Train IoU: 0.8257, Test IoU: 0.8079, Train Dice: 0.9027, Test Dice: 0.8921\n",
      "Best IoU improved. Model saved.\n"
     ]
    },
    {
     "name": "stderr",
     "output_type": "stream",
     "text": [
      "100%|██████████| 14/14 [00:05<00:00,  2.79it/s]\n"
     ]
    },
    {
     "name": "stdout",
     "output_type": "stream",
     "text": [
      "[INFO] EPOCH: 55/100\n",
      "Train loss: 2.255459, Test loss: 2.2700, Train IoU: 0.8341, Test IoU: 0.8091, Train Dice: 0.9077, Test Dice: 0.8929\n",
      "Best IoU improved. Model saved.\n"
     ]
    },
    {
     "name": "stderr",
     "output_type": "stream",
     "text": [
      "100%|██████████| 14/14 [00:05<00:00,  2.78it/s]\n"
     ]
    },
    {
     "name": "stdout",
     "output_type": "stream",
     "text": [
      "[INFO] EPOCH: 56/100\n",
      "Train loss: 2.257795, Test loss: 2.2707, Train IoU: 0.8301, Test IoU: 0.8082, Train Dice: 0.9053, Test Dice: 0.8923\n"
     ]
    },
    {
     "name": "stderr",
     "output_type": "stream",
     "text": [
      "100%|██████████| 14/14 [00:04<00:00,  2.80it/s]\n"
     ]
    },
    {
     "name": "stdout",
     "output_type": "stream",
     "text": [
      "[INFO] EPOCH: 57/100\n",
      "Train loss: 2.260180, Test loss: 2.2714, Train IoU: 0.8261, Test IoU: 0.8070, Train Dice: 0.9029, Test Dice: 0.8917\n"
     ]
    },
    {
     "name": "stderr",
     "output_type": "stream",
     "text": [
      "100%|██████████| 14/14 [00:05<00:00,  2.79it/s]\n"
     ]
    },
    {
     "name": "stdout",
     "output_type": "stream",
     "text": [
      "[INFO] EPOCH: 58/100\n",
      "Train loss: 2.255973, Test loss: 2.2692, Train IoU: 0.8329, Test IoU: 0.8105, Train Dice: 0.9072, Test Dice: 0.8939\n",
      "Best IoU improved. Model saved.\n"
     ]
    },
    {
     "name": "stderr",
     "output_type": "stream",
     "text": [
      "100%|██████████| 14/14 [00:05<00:00,  2.76it/s]\n"
     ]
    },
    {
     "name": "stdout",
     "output_type": "stream",
     "text": [
      "[INFO] EPOCH: 59/100\n",
      "Train loss: 2.252432, Test loss: 2.2688, Train IoU: 0.8389, Test IoU: 0.8112, Train Dice: 0.9109, Test Dice: 0.8943\n",
      "Best IoU improved. Model saved.\n"
     ]
    },
    {
     "name": "stderr",
     "output_type": "stream",
     "text": [
      "100%|██████████| 14/14 [00:05<00:00,  2.78it/s]\n"
     ]
    },
    {
     "name": "stdout",
     "output_type": "stream",
     "text": [
      "[INFO] EPOCH: 60/100\n",
      "Train loss: 2.254715, Test loss: 2.2711, Train IoU: 0.8353, Test IoU: 0.8074, Train Dice: 0.9085, Test Dice: 0.8919\n"
     ]
    },
    {
     "name": "stderr",
     "output_type": "stream",
     "text": [
      "100%|██████████| 14/14 [00:05<00:00,  2.78it/s]\n"
     ]
    },
    {
     "name": "stdout",
     "output_type": "stream",
     "text": [
      "[INFO] EPOCH: 61/100\n",
      "Train loss: 2.253809, Test loss: 2.2689, Train IoU: 0.8366, Test IoU: 0.8110, Train Dice: 0.9095, Test Dice: 0.8941\n"
     ]
    },
    {
     "name": "stderr",
     "output_type": "stream",
     "text": [
      "100%|██████████| 14/14 [00:04<00:00,  2.82it/s]\n"
     ]
    },
    {
     "name": "stdout",
     "output_type": "stream",
     "text": [
      "[INFO] EPOCH: 62/100\n",
      "Train loss: 2.253626, Test loss: 2.2691, Train IoU: 0.8372, Test IoU: 0.8106, Train Dice: 0.9097, Test Dice: 0.8941\n"
     ]
    },
    {
     "name": "stderr",
     "output_type": "stream",
     "text": [
      "100%|██████████| 14/14 [00:05<00:00,  2.80it/s]\n"
     ]
    },
    {
     "name": "stdout",
     "output_type": "stream",
     "text": [
      "[INFO] EPOCH: 63/100\n",
      "Train loss: 2.254505, Test loss: 2.2721, Train IoU: 0.8353, Test IoU: 0.8054, Train Dice: 0.9088, Test Dice: 0.8910\n"
     ]
    },
    {
     "name": "stderr",
     "output_type": "stream",
     "text": [
      "100%|██████████| 14/14 [00:05<00:00,  2.79it/s]\n"
     ]
    },
    {
     "name": "stdout",
     "output_type": "stream",
     "text": [
      "[INFO] EPOCH: 64/100\n",
      "Train loss: 2.248487, Test loss: 2.2717, Train IoU: 0.8457, Test IoU: 0.8065, Train Dice: 0.9149, Test Dice: 0.8915\n"
     ]
    },
    {
     "name": "stderr",
     "output_type": "stream",
     "text": [
      "100%|██████████| 14/14 [00:05<00:00,  2.79it/s]\n"
     ]
    },
    {
     "name": "stdout",
     "output_type": "stream",
     "text": [
      "[INFO] EPOCH: 65/100\n",
      "Train loss: 2.249467, Test loss: 2.2680, Train IoU: 0.8441, Test IoU: 0.8127, Train Dice: 0.9139, Test Dice: 0.8950\n",
      "Best IoU improved. Model saved.\n"
     ]
    },
    {
     "name": "stderr",
     "output_type": "stream",
     "text": [
      "100%|██████████| 14/14 [00:05<00:00,  2.79it/s]\n"
     ]
    },
    {
     "name": "stdout",
     "output_type": "stream",
     "text": [
      "[INFO] EPOCH: 66/100\n",
      "Train loss: 2.247617, Test loss: 2.2684, Train IoU: 0.8474, Test IoU: 0.8121, Train Dice: 0.9158, Test Dice: 0.8948\n"
     ]
    },
    {
     "name": "stderr",
     "output_type": "stream",
     "text": [
      "100%|██████████| 14/14 [00:05<00:00,  2.80it/s]\n"
     ]
    },
    {
     "name": "stdout",
     "output_type": "stream",
     "text": [
      "[INFO] EPOCH: 67/100\n",
      "Train loss: 2.249417, Test loss: 2.2659, Train IoU: 0.8446, Test IoU: 0.8158, Train Dice: 0.9140, Test Dice: 0.8973\n",
      "Best IoU improved. Model saved.\n"
     ]
    },
    {
     "name": "stderr",
     "output_type": "stream",
     "text": [
      "100%|██████████| 14/14 [00:05<00:00,  2.79it/s]\n"
     ]
    },
    {
     "name": "stdout",
     "output_type": "stream",
     "text": [
      "[INFO] EPOCH: 68/100\n",
      "Train loss: 2.244998, Test loss: 2.2706, Train IoU: 0.8517, Test IoU: 0.8079, Train Dice: 0.9185, Test Dice: 0.8926\n"
     ]
    },
    {
     "name": "stderr",
     "output_type": "stream",
     "text": [
      "100%|██████████| 14/14 [00:05<00:00,  2.79it/s]\n"
     ]
    },
    {
     "name": "stdout",
     "output_type": "stream",
     "text": [
      "[INFO] EPOCH: 69/100\n",
      "Train loss: 2.251858, Test loss: 2.2735, Train IoU: 0.8401, Test IoU: 0.8036, Train Dice: 0.9115, Test Dice: 0.8897\n"
     ]
    },
    {
     "name": "stderr",
     "output_type": "stream",
     "text": [
      "100%|██████████| 14/14 [00:05<00:00,  2.76it/s]\n"
     ]
    },
    {
     "name": "stdout",
     "output_type": "stream",
     "text": [
      "[INFO] EPOCH: 70/100\n",
      "Train loss: 2.248373, Test loss: 2.2640, Train IoU: 0.8458, Test IoU: 0.8188, Train Dice: 0.9151, Test Dice: 0.8993\n",
      "Best IoU improved. Model saved.\n"
     ]
    },
    {
     "name": "stderr",
     "output_type": "stream",
     "text": [
      "100%|██████████| 14/14 [00:05<00:00,  2.76it/s]\n"
     ]
    },
    {
     "name": "stdout",
     "output_type": "stream",
     "text": [
      "[INFO] EPOCH: 71/100\n",
      "Train loss: 2.246325, Test loss: 2.2628, Train IoU: 0.8495, Test IoU: 0.8211, Train Dice: 0.9171, Test Dice: 0.9005\n",
      "Best IoU improved. Model saved.\n"
     ]
    },
    {
     "name": "stderr",
     "output_type": "stream",
     "text": [
      "100%|██████████| 14/14 [00:04<00:00,  2.82it/s]\n"
     ]
    },
    {
     "name": "stdout",
     "output_type": "stream",
     "text": [
      "[INFO] EPOCH: 72/100\n",
      "Train loss: 2.244346, Test loss: 2.2640, Train IoU: 0.8530, Test IoU: 0.8190, Train Dice: 0.9191, Test Dice: 0.8992\n"
     ]
    },
    {
     "name": "stderr",
     "output_type": "stream",
     "text": [
      "100%|██████████| 14/14 [00:05<00:00,  2.79it/s]\n"
     ]
    },
    {
     "name": "stdout",
     "output_type": "stream",
     "text": [
      "[INFO] EPOCH: 73/100\n",
      "Train loss: 2.244684, Test loss: 2.2622, Train IoU: 0.8522, Test IoU: 0.8218, Train Dice: 0.9189, Test Dice: 0.9011\n",
      "Best IoU improved. Model saved.\n"
     ]
    },
    {
     "name": "stderr",
     "output_type": "stream",
     "text": [
      "100%|██████████| 14/14 [00:05<00:00,  2.78it/s]\n"
     ]
    },
    {
     "name": "stdout",
     "output_type": "stream",
     "text": [
      "[INFO] EPOCH: 74/100\n",
      "Train loss: 2.245713, Test loss: 2.2682, Train IoU: 0.8505, Test IoU: 0.8117, Train Dice: 0.9178, Test Dice: 0.8951\n"
     ]
    },
    {
     "name": "stderr",
     "output_type": "stream",
     "text": [
      "100%|██████████| 14/14 [00:04<00:00,  2.81it/s]\n"
     ]
    },
    {
     "name": "stdout",
     "output_type": "stream",
     "text": [
      "[INFO] EPOCH: 75/100\n",
      "Train loss: 2.248467, Test loss: 2.2635, Train IoU: 0.8457, Test IoU: 0.8199, Train Dice: 0.9150, Test Dice: 0.8997\n"
     ]
    },
    {
     "name": "stderr",
     "output_type": "stream",
     "text": [
      "100%|██████████| 14/14 [00:05<00:00,  2.78it/s]\n"
     ]
    },
    {
     "name": "stdout",
     "output_type": "stream",
     "text": [
      "[INFO] EPOCH: 76/100\n",
      "Train loss: 2.248844, Test loss: 2.2653, Train IoU: 0.8454, Test IoU: 0.8166, Train Dice: 0.9146, Test Dice: 0.8980\n"
     ]
    },
    {
     "name": "stderr",
     "output_type": "stream",
     "text": [
      "100%|██████████| 14/14 [00:04<00:00,  2.81it/s]\n"
     ]
    },
    {
     "name": "stdout",
     "output_type": "stream",
     "text": [
      "[INFO] EPOCH: 77/100\n",
      "Train loss: 2.239820, Test loss: 2.2632, Train IoU: 0.8607, Test IoU: 0.8202, Train Dice: 0.9237, Test Dice: 0.9002\n"
     ]
    },
    {
     "name": "stderr",
     "output_type": "stream",
     "text": [
      "100%|██████████| 14/14 [00:05<00:00,  2.79it/s]\n"
     ]
    },
    {
     "name": "stdout",
     "output_type": "stream",
     "text": [
      "[INFO] EPOCH: 78/100\n",
      "Train loss: 2.239830, Test loss: 2.2629, Train IoU: 0.8606, Test IoU: 0.8206, Train Dice: 0.9238, Test Dice: 0.9004\n"
     ]
    },
    {
     "name": "stderr",
     "output_type": "stream",
     "text": [
      "100%|██████████| 14/14 [00:05<00:00,  2.78it/s]\n"
     ]
    },
    {
     "name": "stdout",
     "output_type": "stream",
     "text": [
      "[INFO] EPOCH: 79/100\n",
      "Train loss: 2.242261, Test loss: 2.2615, Train IoU: 0.8567, Test IoU: 0.8230, Train Dice: 0.9212, Test Dice: 0.9018\n",
      "Best IoU improved. Model saved.\n"
     ]
    },
    {
     "name": "stderr",
     "output_type": "stream",
     "text": [
      "100%|██████████| 14/14 [00:05<00:00,  2.78it/s]\n"
     ]
    },
    {
     "name": "stdout",
     "output_type": "stream",
     "text": [
      "[INFO] EPOCH: 80/100\n",
      "Train loss: 2.241460, Test loss: 2.2592, Train IoU: 0.8579, Test IoU: 0.8272, Train Dice: 0.9221, Test Dice: 0.9042\n",
      "Best IoU improved. Model saved.\n"
     ]
    },
    {
     "name": "stderr",
     "output_type": "stream",
     "text": [
      "100%|██████████| 14/14 [00:05<00:00,  2.78it/s]\n"
     ]
    },
    {
     "name": "stdout",
     "output_type": "stream",
     "text": [
      "[INFO] EPOCH: 81/100\n",
      "Train loss: 2.237560, Test loss: 2.2623, Train IoU: 0.8646, Test IoU: 0.8218, Train Dice: 0.9261, Test Dice: 0.9010\n"
     ]
    },
    {
     "name": "stderr",
     "output_type": "stream",
     "text": [
      "100%|██████████| 14/14 [00:05<00:00,  2.78it/s]\n"
     ]
    },
    {
     "name": "stdout",
     "output_type": "stream",
     "text": [
      "[INFO] EPOCH: 82/100\n",
      "Train loss: 2.240373, Test loss: 2.2597, Train IoU: 0.8599, Test IoU: 0.8264, Train Dice: 0.9232, Test Dice: 0.9037\n"
     ]
    },
    {
     "name": "stderr",
     "output_type": "stream",
     "text": [
      "100%|██████████| 14/14 [00:05<00:00,  2.78it/s]\n"
     ]
    },
    {
     "name": "stdout",
     "output_type": "stream",
     "text": [
      "[INFO] EPOCH: 83/100\n",
      "Train loss: 2.238849, Test loss: 2.2605, Train IoU: 0.8624, Test IoU: 0.8247, Train Dice: 0.9247, Test Dice: 0.9029\n"
     ]
    },
    {
     "name": "stderr",
     "output_type": "stream",
     "text": [
      "100%|██████████| 14/14 [00:05<00:00,  2.79it/s]\n"
     ]
    },
    {
     "name": "stdout",
     "output_type": "stream",
     "text": [
      "[INFO] EPOCH: 84/100\n",
      "Train loss: 2.241879, Test loss: 2.2606, Train IoU: 0.8572, Test IoU: 0.8248, Train Dice: 0.9217, Test Dice: 0.9029\n"
     ]
    },
    {
     "name": "stderr",
     "output_type": "stream",
     "text": [
      "100%|██████████| 14/14 [00:05<00:00,  2.77it/s]\n"
     ]
    },
    {
     "name": "stdout",
     "output_type": "stream",
     "text": [
      "[INFO] EPOCH: 85/100\n",
      "Train loss: 2.240376, Test loss: 2.2613, Train IoU: 0.8598, Test IoU: 0.8238, Train Dice: 0.9233, Test Dice: 0.9022\n"
     ]
    },
    {
     "name": "stderr",
     "output_type": "stream",
     "text": [
      "100%|██████████| 14/14 [00:05<00:00,  2.79it/s]\n"
     ]
    },
    {
     "name": "stdout",
     "output_type": "stream",
     "text": [
      "[INFO] EPOCH: 86/100\n",
      "Train loss: 2.239390, Test loss: 2.2611, Train IoU: 0.8613, Test IoU: 0.8235, Train Dice: 0.9243, Test Dice: 0.9023\n"
     ]
    },
    {
     "name": "stderr",
     "output_type": "stream",
     "text": [
      "100%|██████████| 14/14 [00:05<00:00,  2.79it/s]\n"
     ]
    },
    {
     "name": "stdout",
     "output_type": "stream",
     "text": [
      "[INFO] EPOCH: 87/100\n",
      "Train loss: 2.233535, Test loss: 2.2579, Train IoU: 0.8717, Test IoU: 0.8290, Train Dice: 0.9301, Test Dice: 0.9055\n",
      "Best IoU improved. Model saved.\n"
     ]
    },
    {
     "name": "stderr",
     "output_type": "stream",
     "text": [
      "100%|██████████| 14/14 [00:05<00:00,  2.77it/s]\n"
     ]
    },
    {
     "name": "stdout",
     "output_type": "stream",
     "text": [
      "[INFO] EPOCH: 88/100\n",
      "Train loss: 2.234054, Test loss: 2.2604, Train IoU: 0.8708, Test IoU: 0.8248, Train Dice: 0.9296, Test Dice: 0.9030\n"
     ]
    },
    {
     "name": "stderr",
     "output_type": "stream",
     "text": [
      "100%|██████████| 14/14 [00:05<00:00,  2.78it/s]\n"
     ]
    },
    {
     "name": "stdout",
     "output_type": "stream",
     "text": [
      "[INFO] EPOCH: 89/100\n",
      "Train loss: 2.235072, Test loss: 2.2617, Train IoU: 0.8690, Test IoU: 0.8227, Train Dice: 0.9286, Test Dice: 0.9018\n"
     ]
    },
    {
     "name": "stderr",
     "output_type": "stream",
     "text": [
      "100%|██████████| 14/14 [00:05<00:00,  2.76it/s]\n"
     ]
    },
    {
     "name": "stdout",
     "output_type": "stream",
     "text": [
      "[INFO] EPOCH: 90/100\n",
      "Train loss: 2.236905, Test loss: 2.2592, Train IoU: 0.8657, Test IoU: 0.8272, Train Dice: 0.9268, Test Dice: 0.9043\n"
     ]
    },
    {
     "name": "stderr",
     "output_type": "stream",
     "text": [
      "100%|██████████| 14/14 [00:05<00:00,  2.78it/s]\n"
     ]
    },
    {
     "name": "stdout",
     "output_type": "stream",
     "text": [
      "[INFO] EPOCH: 91/100\n",
      "Train loss: 2.237859, Test loss: 2.2676, Train IoU: 0.8641, Test IoU: 0.8128, Train Dice: 0.9258, Test Dice: 0.8958\n"
     ]
    },
    {
     "name": "stderr",
     "output_type": "stream",
     "text": [
      "100%|██████████| 14/14 [00:05<00:00,  2.77it/s]\n"
     ]
    },
    {
     "name": "stdout",
     "output_type": "stream",
     "text": [
      "[INFO] EPOCH: 92/100\n",
      "Train loss: 2.238722, Test loss: 2.2655, Train IoU: 0.8624, Test IoU: 0.8165, Train Dice: 0.9249, Test Dice: 0.8979\n"
     ]
    },
    {
     "name": "stderr",
     "output_type": "stream",
     "text": [
      "100%|██████████| 14/14 [00:05<00:00,  2.79it/s]\n"
     ]
    },
    {
     "name": "stdout",
     "output_type": "stream",
     "text": [
      "[INFO] EPOCH: 93/100\n",
      "Train loss: 2.241162, Test loss: 2.2665, Train IoU: 0.8583, Test IoU: 0.8146, Train Dice: 0.9225, Test Dice: 0.8968\n"
     ]
    },
    {
     "name": "stderr",
     "output_type": "stream",
     "text": [
      "100%|██████████| 14/14 [00:05<00:00,  2.79it/s]\n"
     ]
    },
    {
     "name": "stdout",
     "output_type": "stream",
     "text": [
      "[INFO] EPOCH: 94/100\n",
      "Train loss: 2.236274, Test loss: 2.2607, Train IoU: 0.8667, Test IoU: 0.8245, Train Dice: 0.9274, Test Dice: 0.9027\n"
     ]
    },
    {
     "name": "stderr",
     "output_type": "stream",
     "text": [
      "100%|██████████| 14/14 [00:05<00:00,  2.76it/s]\n"
     ]
    },
    {
     "name": "stdout",
     "output_type": "stream",
     "text": [
      "[INFO] EPOCH: 95/100\n",
      "Train loss: 2.236588, Test loss: 2.2675, Train IoU: 0.8663, Test IoU: 0.8130, Train Dice: 0.9272, Test Dice: 0.8959\n"
     ]
    },
    {
     "name": "stderr",
     "output_type": "stream",
     "text": [
      "100%|██████████| 14/14 [00:05<00:00,  2.79it/s]\n"
     ]
    },
    {
     "name": "stdout",
     "output_type": "stream",
     "text": [
      "[INFO] EPOCH: 96/100\n",
      "Train loss: 2.239164, Test loss: 2.2687, Train IoU: 0.8616, Test IoU: 0.8112, Train Dice: 0.9245, Test Dice: 0.8946\n"
     ]
    },
    {
     "name": "stderr",
     "output_type": "stream",
     "text": [
      "100%|██████████| 14/14 [00:05<00:00,  2.76it/s]\n"
     ]
    },
    {
     "name": "stdout",
     "output_type": "stream",
     "text": [
      "[INFO] EPOCH: 97/100\n",
      "Train loss: 2.235864, Test loss: 2.2616, Train IoU: 0.8676, Test IoU: 0.8230, Train Dice: 0.9279, Test Dice: 0.9019\n"
     ]
    },
    {
     "name": "stderr",
     "output_type": "stream",
     "text": [
      "100%|██████████| 14/14 [00:05<00:00,  2.77it/s]\n"
     ]
    },
    {
     "name": "stdout",
     "output_type": "stream",
     "text": [
      "[INFO] EPOCH: 98/100\n",
      "Train loss: 2.238148, Test loss: 2.2640, Train IoU: 0.8634, Test IoU: 0.8189, Train Dice: 0.9256, Test Dice: 0.8995\n"
     ]
    },
    {
     "name": "stderr",
     "output_type": "stream",
     "text": [
      "100%|██████████| 14/14 [00:05<00:00,  2.77it/s]\n"
     ]
    },
    {
     "name": "stdout",
     "output_type": "stream",
     "text": [
      "[INFO] EPOCH: 99/100\n",
      "Train loss: 2.234593, Test loss: 2.2674, Train IoU: 0.8699, Test IoU: 0.8133, Train Dice: 0.9291, Test Dice: 0.8960\n"
     ]
    },
    {
     "name": "stderr",
     "output_type": "stream",
     "text": [
      "100%|██████████| 14/14 [00:05<00:00,  2.79it/s]\n"
     ]
    },
    {
     "name": "stdout",
     "output_type": "stream",
     "text": [
      "[INFO] EPOCH: 100/100\n",
      "Train loss: 2.236462, Test loss: 2.2633, Train IoU: 0.8664, Test IoU: 0.8201, Train Dice: 0.9273, Test Dice: 0.9002\n",
      "[INFO] total time taken to train the model: 600.39s\n",
      "Best IoU is: 0.82902\n"
     ]
    }
   ],
   "source": [
    "bestIoU = 0\n",
    "# loop over epochs\n",
    "print(\"[INFO] training the network...\")\n",
    "startTime = time.time()\n",
    "for e in range(NUM_EPOCHS):\n",
    "\t#torch.cuda.empty_cache()\n",
    "\t# set the model in training mode\n",
    "\tuformer.train()\n",
    "\t# initialize the total training and validation loss\n",
    "\ttotalTrainLoss = 0\n",
    "\ttotalTestLoss = 0\n",
    "\n",
    "\ttotalTrainIoU = 0\n",
    "\ttotalTestIoU = 0\n",
    "\ttotalTrainDC = 0\n",
    "\ttotalTestDC = 0\n",
    "\t# loop over the training set\n",
    "\tfor i, (x, y) in enumerate(tqdm(trainLoader)):\n",
    "\t\t# send the input to the device\n",
    "\t\tx, y = x.to(DEVICE), y.to(DEVICE)\n",
    "\t\t# perform a forward pass and calculate the training loss\n",
    "\t\tpred = uformer(x)\n",
    "\t\tassert pred.shape == y.shape, f\"{pred.shape} != {y.shape}\" # B, C, H, W\n",
    "\t\tpred = softmax(pred)\n",
    "\t\tloss = lossFunc(pred, y)\n",
    "\t\t# first, zero out any previously accumulated gradients, then\n",
    "\t\t# perform backpropagation, and then update model parameters\n",
    "\t\topt.zero_grad()\n",
    "\t\tloss.backward()\n",
    "\t\topt.step()\n",
    "\t\t# add the loss to the total training loss so far\n",
    "\t\ttotalTrainLoss += loss\n",
    "\t\ttotalTrainIoU += iouMetric(pred, y)\n",
    "\t\ttotalTrainDC += gdlMetric(pred, y)\n",
    "\t# switch off autograd\n",
    "\twith torch.no_grad():\n",
    "\t\t# set the model in evaluation mode\n",
    "\t\tuformer.eval()\n",
    "\t\t# loop over the validation set\n",
    "\t\tfor (x, y) in testLoader:\n",
    "\t\t\t# send the input to the device\n",
    "\t\t\t(x, y) = (x.to(DEVICE), y.to(DEVICE))\n",
    "\t\t\t# make the predictions and calculate the validation loss\n",
    "\t\t\tpred = uformer(x)\n",
    "\t\t\tassert pred.shape == y.shape, f\"{pred.shape} != {y.shape}\" # B, C, H, W\n",
    "\t\t\tpred = softmax(pred)\n",
    "\t\t\ttotalTestLoss += lossFunc(pred, y)\n",
    "\t\t\ttotalTestIoU += iouMetric(pred, y)\n",
    "\t\t\ttotalTestDC += gdlMetric(pred, y)\n",
    "\t\t\t\n",
    "\t# calculate the average training and validation loss\n",
    "\tavgTrainLoss = totalTrainLoss / trainSteps\n",
    "\tavgTestLoss = totalTestLoss / testSteps\n",
    "\n",
    "\tavgTrainIoU = totalTrainIoU / trainSteps\n",
    "\tavgTestIoU = totalTestIoU / testSteps\n",
    "\tavgTrainDC = totalTrainDC / trainSteps\n",
    "\tavgTestDC = totalTestDC / testSteps\n",
    "\t# update our training history\n",
    "\tH[\"train_loss\"].append(avgTrainLoss.cpu().detach().numpy())\n",
    "\tH[\"test_loss\"].append(avgTestLoss.cpu().detach().numpy())\n",
    "\n",
    "\tH[\"train_IoU\"].append(avgTrainIoU.cpu().detach().numpy())\n",
    "\tH[\"test_IoU\"].append(avgTestIoU.cpu().detach().numpy())\n",
    "\tH[\"train_DC\"].append(avgTrainDC.cpu().detach().numpy())\n",
    "\tH[\"test_DC\"].append(avgTestDC.cpu().detach().numpy())\n",
    "\n",
    "\t# print the model training and validation information\n",
    "\tprint(\"[INFO] EPOCH: {}/{}\".format(e + 1, NUM_EPOCHS))\n",
    "\tprint(f\"Train loss: {avgTrainLoss:.6f}, Test loss: {avgTestLoss:.4f}, \" + \n",
    "       f\"Train IoU: {avgTrainIoU:.4f}, Test IoU: {avgTestIoU:.4f}, Train Dice: {avgTrainDC:.4f}, Test Dice: {avgTestDC:.4f}\")\n",
    "\t\n",
    "\tif avgTestIoU > bestIoU:\n",
    "\t\tbestIoU = avgTestIoU\n",
    "\t\ttorch.save(uformer.state_dict(), '../models/vf_uformerpoolandatt.pth')\n",
    "\t\tprint('Best IoU improved. Model saved.')\n",
    "\t\t\n",
    "# display the total time needed to perform the training \n",
    "endTime = time.time()\n",
    "print(\"[INFO] total time taken to train the model: {:.2f}s\".format(endTime - startTime))\n",
    "print(f'Best IoU is: {bestIoU:.5f}')"
   ]
  },
  {
   "cell_type": "code",
   "execution_count": 13,
   "metadata": {},
   "outputs": [
    {
     "data": {
      "image/png": "[encoded data removed]",
      "text/plain": [
       "<Figure size 1200x400 with 2 Axes>"
      ]
     },
     "metadata": {},
     "output_type": "display_data"
    }
   ],
   "source": [
    "plt.figure(figsize=(12,4))\n",
    "plt.subplot(121)\n",
    "plt.plot(H['train_loss'])\n",
    "plt.plot(H['test_loss'], linestyle='dotted')\n",
    "plt.title('Model loss')\n",
    "plt.ylabel('loss')\n",
    "plt.xlabel('epoch')\n",
    "plt.legend(['train', 'val'], loc='upper right')\n",
    "\n",
    "plt.subplot(122)\n",
    "plt.plot(H['train_IoU'])\n",
    "plt.plot(H['test_IoU'], linestyle='dotted')\n",
    "plt.plot(H['train_DC'])\n",
    "plt.plot(H['test_DC'], linestyle='dotted')\n",
    "plt.title('Model metrics')\n",
    "plt.ylabel('score')\n",
    "plt.xlabel('epoch')\n",
    "\n",
    "plt.legend(['train IoU', 'val IoU', 'train dice', 'val_dice'], loc='lower right')\n",
    "\n",
    "plt.show()"
   ]
  },
  {
   "cell_type": "code",
   "execution_count": 14,
   "metadata": {},
   "outputs": [],
   "source": [
    "def make_prediction(model, image):\n",
    "\timage = torch.Tensor(image).permute((2, 0, 1)).to(DEVICE)\n",
    "\timage = torch.unsqueeze(image, 0)\n",
    "\t# set model to evaluation mode\n",
    "\tmodel.eval()\n",
    "\t# turn off gradient tracking\n",
    "\twith torch.no_grad():\n",
    "\t\tpredMask = model(image)\n",
    "\t\tpredMask = softmax(predMask)\n",
    "\t\tpredMask = torch.squeeze(predMask, 0)\n",
    "\t\tpredMask = predMask.permute((1, 2, 0))\n",
    "\t\tpredMask = predMask.cpu().detach().numpy()\n",
    "\t\tpredMask = np.argmax(predMask, axis=-1)\n",
    "\t\tpredMask = np.expand_dims(predMask, axis=-1)\n",
    "\t\t# filter out the weak predictions and convert them to integers\n",
    "\t\treturn predMask.astype(np.uint8)\n"
   ]
  },
  {
   "cell_type": "code",
   "execution_count": 15,
   "metadata": {},
   "outputs": [],
   "source": [
    "def getPredImg(image_path):     \n",
    "    image = cv2.imread(image_path)\n",
    "    image = resize_with_pad(image, (INPUT_IMAGE_WIDTH, INPUT_IMAGE_HEIGHT))\n",
    "    image = cv2.cvtColor(image, cv2.COLOR_BGR2RGB)\n",
    "    image = image / 255\n",
    "    return image\n",
    "\n",
    "def getPredMask(mask_path):\n",
    "    mask = cv2.imread(mask_path)\n",
    "    mask = resize_with_pad(mask, (INPUT_IMAGE_WIDTH, INPUT_IMAGE_HEIGHT), (0, 0, 0))\n",
    "    mask = cv2.cvtColor(mask, cv2.COLOR_BGR2GRAY)\n",
    "    mask = np.expand_dims(mask, axis=-1)\n",
    "    mask = encode_mask(mask)\n",
    "    return mask"
   ]
  },
  {
   "cell_type": "code",
   "execution_count": 16,
   "metadata": {},
   "outputs": [
    {
     "data": {
      "image/png": "[encoded data removed]",
      "text/plain": [
       "<Figure size 1000x1000 with 9 Axes>"
      ]
     },
     "metadata": {},
     "output_type": "display_data"
    }
   ],
   "source": [
    "plt.figure(figsize=(10,10))\n",
    "for i in range(3):    \n",
    "\n",
    "    idx = random.randint(0, len(testImages) -1)\n",
    "    img = getPredImg(testImages[idx])\n",
    "    mask = getPredMask(testMasks[idx])\n",
    "    \n",
    "    plt.subplot(331 + 3*i)\n",
    "    plt.imshow(img)\n",
    "    plt.title('Image')\n",
    "    plt.axis(\"off\")\n",
    "\n",
    "    mask = np.argmax(mask, axis=-1)\n",
    "    mask = np.expand_dims(mask, axis=-1)\n",
    "    plt.subplot(332 + 3*i)\n",
    "    plt.imshow(mask, cmap='magma', norm=plt.Normalize(vmin=0, vmax=NUM_CLASSES-1))\n",
    "    plt.title('Mask')\n",
    "    plt.axis(\"off\")\n",
    "\n",
    "    pred = make_prediction(uformer, img)\n",
    "    plt.subplot(333 + 3*i)\n",
    "    plt.imshow(pred, cmap='magma', norm=plt.Normalize(vmin=0, vmax=NUM_CLASSES-1))\n",
    "    plt.title('Prediction')\n",
    "    plt.axis(\"off\")\n",
    "\n",
    "plt.show()"
   ]
  },
  {
   "attachments": {},
   "cell_type": "markdown",
   "metadata": {},
   "source": [
    " --- \n",
    " TFG - Alejandro García Mota"
   ]
  }
 ],
 "metadata": {
  "kernelspec": {
   "display_name": "tf-gpu-env",
   "language": "python",
   "name": "python3"
  },
  "language_info": {
   "codemirror_mode": {
    "name": "ipython",
    "version": 3
   },
   "file_extension": ".py",
   "mimetype": "text/x-python",
   "name": "python",
   "nbconvert_exporter": "python",
   "pygments_lexer": "ipython3",
   "version": "3.9.16"
  },
  "orig_nbformat": 4,
  "vscode": {
   "interpreter": {
    "hash": "f011f267c79147290789ae68e632b5c2d498cf08b7b2ac60d440d7e076e68725"
   }
  }
 },
 "nbformat": 4,
 "nbformat_minor": 2
}
